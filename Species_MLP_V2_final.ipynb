{
 "cells": [
  {
   "cell_type": "code",
   "execution_count": 0,
   "metadata": {
    "colab": {
     "base_uri": "https://localhost:8080/",
     "height": 35
    },
    "colab_type": "code",
    "collapsed": false,
    "id": "iouPFA5_xUPu",
    "outputId": "d13d3eef-7fff-4125-aa63-bf7009a72dca"
   },
   "outputs": [
    {
     "name": "stderr",
     "output_type": "stream",
     "text": [
      "Using TensorFlow backend.\n"
     ]
    }
   ],
   "source": [
    "#Import packages\n",
    "from keras import backend as K\n",
    "import numpy as np\n",
    "from random import randint, random,sample\n",
    "from numpy import array\n",
    "from numpy import argmax\n",
    "import pandas as pd\n",
    "from sklearn.model_selection import train_test_split\n",
    "from sklearn.metrics import  roc_auc_score, auc,r2_score,precision_score\n",
    "from matplotlib import pyplot as plt\n",
    "import math\n",
    "from numpy import unique\n",
    "import pickle\n",
    "#from Bio import Seq, SeqIO\n",
    "#from Bio.Alphabet import generic_dna\n",
    "#import dask.dataframe as dd\n",
    "#from dask.multiprocessing import get\n",
    "#from Bio.Alphabet.IUPAC import ambiguous_dna\n",
    "from sklearn.metrics import r2_score, accuracy_score\n",
    "from itertools import product\n",
    "from keras.utils import to_categorical\n",
    "from keras.preprocessing.sequence import pad_sequences\n",
    "from numpy.random import randint\n",
    "from __future__ import print_function\n",
    "from keras.models import Sequential, Model\n",
    "from keras.layers import Concatenate, LeakyReLU, concatenate,GRU, Bidirectional, MaxPool1D,GlobalMaxPool1D,add\n",
    "from keras.layers import Dense, Embedding, Input, Masking, Dropout, MaxPooling1D,Lambda, BatchNormalization, Reshape,UpSampling1D, AveragePooling1D\n",
    "from keras.layers import LSTM, TimeDistributed, AveragePooling1D, Flatten,Activation,ZeroPadding1D, SeparableConv1D\n",
    "from keras.optimizers import Adam, rmsprop\n",
    "from keras.utils.training_utils import multi_gpu_model\n",
    "from keras.callbacks import ReduceLROnPlateau, EarlyStopping,ModelCheckpoint, CSVLogger\n",
    "from keras.layers import Conv1D, GlobalMaxPooling1D, ConvLSTM2D, Bidirectional,RepeatVector\n",
    "from keras.regularizers import *\n",
    "from keras import regularizers\n",
    "from keras.layers import concatenate as concatLayer\n",
    "from sklearn.metrics import matthews_corrcoef as MCC\n",
    "from keras.utils import plot_model"
   ]
  },
  {
   "cell_type": "markdown",
   "metadata": {
    "colab_type": "text",
    "id": "23yXOQQ7K6y5"
   },
   "source": [
    "### Reading SILVA & HVR"
   ]
  },
  {
   "cell_type": "code",
   "execution_count": 0,
   "metadata": {
    "colab": {},
    "colab_type": "code",
    "collapsed": true,
    "id": "DuVomGljxUP0"
   },
   "outputs": [],
   "source": [
    "#Reading V2 High  Variable Region (HVR)\n",
    "#For full training download this \n",
    "# https://www.arb-silva.de/fileadmin/silva_databases/release_132/Exports/SILVA_132_SSURef_Nr99_tax_silva.fasta.gz\n",
    "path = 'PCR_SILVA_all/V2_SILVA_2.fa'"
   ]
  },
  {
   "cell_type": "code",
   "execution_count": 0,
   "metadata": {
    "colab": {},
    "colab_type": "code",
    "collapsed": true,
    "id": "O_f1AF_2xUP3"
   },
   "outputs": [],
   "source": [
    "### Function for Nucleotide sequence one hot encoding\n",
    "#1 Declare the alphabet\n",
    "alphabet = 'ACGTNRYSWKMBDHV'\n",
    "integer = [1,2,3,4,0]\n",
    "#2 Declare mapping functions\n",
    "char_to_int = {'A':1,'C':2,'G':3,'T':4,'R':5,'Y':6,'S':7,\n",
    "               'W':8,'K':9,'M':10,'B':11,'D':12,'H':13,'V':14,'N':15}\n",
    "int_to_char = {1:'A',2:'C',3:'G',4:'T',5:'R',6:'Y',7:'S',\n",
    "               8:'W',9:'K',10:'M',11:'B',12:'D',13:'H',14:'V',15:'N'}\n",
    "#3 convert char to number\n",
    "def encode_nu(sequence):\n",
    "    return array([char_to_int[char] for char in sequence])\n",
    "\n",
    "# Decode a encoded string\n",
    "def decode_nu(encoded):\n",
    "    decoded = [int_to_char[integ] for integ in encoded]\n",
    "    return decoded"
   ]
  },
  {
   "cell_type": "code",
   "execution_count": 0,
   "metadata": {
    "colab": {},
    "colab_type": "code",
    "collapsed": true,
    "id": "Kvydm-aJxUP5"
   },
   "outputs": [],
   "source": [
    "def zero_pad(list1):\n",
    "    return np.pad(list1,(0,max_len-len(list1)),'constant',constant_values=0).astype('uint8')"
   ]
  },
  {
   "cell_type": "code",
   "execution_count": 0,
   "metadata": {
    "colab": {},
    "colab_type": "code",
    "collapsed": true,
    "id": "qsQxGrHGxUP7"
   },
   "outputs": [],
   "source": [
    "def encode_pad(seq):\n",
    "    return zero_pad(encode_nu(str(record.seq)),maxlen=max_len)"
   ]
  },
  {
   "cell_type": "markdown",
   "metadata": {
    "colab_type": "text",
    "id": "i1lVGjp-xUP-"
   },
   "source": [
    "### Next cell can be escaped by reading the SILVA_header.csv"
   ]
  },
  {
   "cell_type": "code",
   "execution_count": 0,
   "metadata": {
    "colab": {
     "base_uri": "https://localhost:8080/",
     "height": 54
    },
    "colab_type": "code",
    "collapsed": false,
    "id": "GKa1b6hwxUP_",
    "outputId": "15e05d52-17ef-4464-c541-39feb3407916"
   },
   "outputs": [
    {
     "data": {
      "text/plain": [
       "'\\nreads=[]\\nfor record in SeqIO.parse(\\'SILVA_132_SSURef_tax_silva.fasta\\', \"fasta\"):\\n    str_ = str(record.description).split(\" \", 1)[1]\\n    id_ = str(record.name).split(\\' \\')[0]\\n    if str_.count(\\';\\') == 6:\\n        [kingdom, phylum, class_,order,family,genus,species] = str_.split(\\';\\')\\n    elif str_.count(\\';\\') > 6:    \\n        list =  str_.split(\\';\\')\\n        [kingdom,phylum, class_,order,family,genus,species] = list[-7:]\\n    else:\\n        list =  str_.split(\\';\\')\\n        num = len(list)\\n        [kingdom,phylum, class_,order,family,genus,species][:num] = list\\n        [kingdom,phylum, class_,order,family,genus,species][num:] = \\'_\\'*(7-num)\\n    reads.append([id_,kingdom ,phylum, class_,order,family,genus,species])    \\n    \\nSILVA_header =pd.DataFrame(reads,columns=[\\'id\\',\\'kingdom\\',\\'phylum\\',\\'class_\\',\\'order\\',\\'family\\',\\'genus\\',\\'species\\'])\\n'"
      ]
     },
     "execution_count": 15,
     "metadata": {
      "tags": []
     },
     "output_type": "execute_result"
    }
   ],
   "source": [
    "#Reading the whole SILVA database header as a panda dataframe to import the complete taxonomy\n",
    "\"\"\"\n",
    "reads=[]\n",
    "for record in SeqIO.parse('SILVA_132_SSURef_tax_silva.fasta', \"fasta\"):\n",
    "    str_ = str(record.description).split(\" \", 1)[1]\n",
    "    id_ = str(record.name).split(' ')[0]\n",
    "    if str_.count(';') == 6:\n",
    "        [kingdom, phylum, class_,order,family,genus,species] = str_.split(';')\n",
    "    elif str_.count(';') > 6:    \n",
    "        list =  str_.split(';')\n",
    "        [kingdom,phylum, class_,order,family,genus,species] = list[-7:]\n",
    "    else:\n",
    "        list =  str_.split(';')\n",
    "        num = len(list)\n",
    "        [kingdom,phylum, class_,order,family,genus,species][:num] = list\n",
    "        [kingdom,phylum, class_,order,family,genus,species][num:] = '_'*(7-num)\n",
    "    reads.append([id_,kingdom ,phylum, class_,order,family,genus,species])    \n",
    "    \n",
    "SILVA_header =pd.DataFrame(reads,columns=['id','kingdom','phylum','class_','order','family','genus','species'])\n",
    "\"\"\""
   ]
  },
  {
   "cell_type": "code",
   "execution_count": 0,
   "metadata": {
    "colab": {},
    "colab_type": "code",
    "collapsed": true,
    "id": "LmcgV6dexUQE"
   },
   "outputs": [],
   "source": [
    "#SILVA_header.to_csv('SILVA_header_ALL_TAXA.csv')"
   ]
  },
  {
   "cell_type": "code",
   "execution_count": 0,
   "metadata": {
    "colab": {
     "base_uri": "https://localhost:8080/",
     "height": 71
    },
    "colab_type": "code",
    "collapsed": false,
    "id": "j_5ZR1YMxUQG",
    "outputId": "960b68f8-dbbe-4eaa-af56-4e1e63a69c19"
   },
   "outputs": [
    {
     "name": "stderr",
     "output_type": "stream",
     "text": [
      "/usr/local/lib/python3.6/dist-packages/numpy/lib/arraysetops.py:472: FutureWarning: elementwise comparison failed; returning scalar instead, but in the future will perform elementwise comparison\n",
      "  mask |= (ar1 == a)\n"
     ]
    }
   ],
   "source": [
    "SILVA_header = pd.read_csv('SILVA_header_ALL_TAXA.csv',index_col=0)"
   ]
  },
  {
   "cell_type": "code",
   "execution_count": 0,
   "metadata": {
    "colab": {
     "base_uri": "https://localhost:8080/",
     "height": 258
    },
    "colab_type": "code",
    "collapsed": false,
    "id": "lhb3US0tAT5k",
    "outputId": "aa8faace-5505-4c9d-a14a-ff36a872ab75"
   },
   "outputs": [
    {
     "data": {
      "text/html": [
       "<div>\n",
       "<style scoped>\n",
       "    .dataframe tbody tr th:only-of-type {\n",
       "        vertical-align: middle;\n",
       "    }\n",
       "\n",
       "    .dataframe tbody tr th {\n",
       "        vertical-align: top;\n",
       "    }\n",
       "\n",
       "    .dataframe thead th {\n",
       "        text-align: right;\n",
       "    }\n",
       "</style>\n",
       "<table border=\"1\" class=\"dataframe\">\n",
       "  <thead>\n",
       "    <tr style=\"text-align: right;\">\n",
       "      <th></th>\n",
       "      <th>id</th>\n",
       "      <th>Description</th>\n",
       "      <th>Domain</th>\n",
       "      <th>phylum</th>\n",
       "      <th>class_</th>\n",
       "      <th>order</th>\n",
       "      <th>family</th>\n",
       "      <th>genus</th>\n",
       "      <th>species</th>\n",
       "      <th>semicolon_count</th>\n",
       "    </tr>\n",
       "  </thead>\n",
       "  <tbody>\n",
       "    <tr>\n",
       "      <th>0</th>\n",
       "      <td>GY187501.2.1421</td>\n",
       "      <td>Bacteria;Epsilonbacteraeota;Campylobacteria;Ca...</td>\n",
       "      <td>Bacteria</td>\n",
       "      <td>Epsilonbacteraeota</td>\n",
       "      <td>Campylobacteria</td>\n",
       "      <td>Campylobacterales</td>\n",
       "      <td>Helicobacteraceae</td>\n",
       "      <td>Helicobacter</td>\n",
       "      <td>unidentified</td>\n",
       "      <td>6</td>\n",
       "    </tr>\n",
       "    <tr>\n",
       "      <th>1</th>\n",
       "      <td>GY194060.4884.6412</td>\n",
       "      <td>Bacteria;Firmicutes;Bacilli;Lactobacillales;St...</td>\n",
       "      <td>Bacteria</td>\n",
       "      <td>Firmicutes</td>\n",
       "      <td>Bacilli</td>\n",
       "      <td>Lactobacillales</td>\n",
       "      <td>Streptococcaceae</td>\n",
       "      <td>Streptococcus</td>\n",
       "      <td>unidentified</td>\n",
       "      <td>6</td>\n",
       "    </tr>\n",
       "    <tr>\n",
       "      <th>2</th>\n",
       "      <td>AC201869.46386.47908</td>\n",
       "      <td>Bacteria;Proteobacteria;Gammaproteobacteria;En...</td>\n",
       "      <td>Bacteria</td>\n",
       "      <td>Proteobacteria</td>\n",
       "      <td>Gammaproteobacteria</td>\n",
       "      <td>Enterobacteriales</td>\n",
       "      <td>Enterobacteriaceae</td>\n",
       "      <td>Candidatus Regiella</td>\n",
       "      <td>Candidatus Regiella insecticola</td>\n",
       "      <td>6</td>\n",
       "    </tr>\n",
       "    <tr>\n",
       "      <th>3</th>\n",
       "      <td>GY222292.1.1479</td>\n",
       "      <td>Bacteria;Actinobacteria;Actinobacteria;Micromo...</td>\n",
       "      <td>Bacteria</td>\n",
       "      <td>Actinobacteria</td>\n",
       "      <td>Actinobacteria</td>\n",
       "      <td>Micromonosporales</td>\n",
       "      <td>Micromonosporaceae</td>\n",
       "      <td>Salinispora</td>\n",
       "      <td>unidentified</td>\n",
       "      <td>6</td>\n",
       "    </tr>\n",
       "    <tr>\n",
       "      <th>4</th>\n",
       "      <td>GY230930.2147890.2149418</td>\n",
       "      <td>Bacteria;Firmicutes;Bacilli;Lactobacillales;St...</td>\n",
       "      <td>Bacteria</td>\n",
       "      <td>Firmicutes</td>\n",
       "      <td>Bacilli</td>\n",
       "      <td>Lactobacillales</td>\n",
       "      <td>Streptococcaceae</td>\n",
       "      <td>Streptococcus</td>\n",
       "      <td>unidentified</td>\n",
       "      <td>6</td>\n",
       "    </tr>\n",
       "  </tbody>\n",
       "</table>\n",
       "</div>"
      ],
      "text/plain": [
       "                         id  \\\n",
       "0           GY187501.2.1421   \n",
       "1        GY194060.4884.6412   \n",
       "2      AC201869.46386.47908   \n",
       "3           GY222292.1.1479   \n",
       "4  GY230930.2147890.2149418   \n",
       "\n",
       "                                         Description    Domain  \\\n",
       "0  Bacteria;Epsilonbacteraeota;Campylobacteria;Ca...  Bacteria   \n",
       "1  Bacteria;Firmicutes;Bacilli;Lactobacillales;St...  Bacteria   \n",
       "2  Bacteria;Proteobacteria;Gammaproteobacteria;En...  Bacteria   \n",
       "3  Bacteria;Actinobacteria;Actinobacteria;Micromo...  Bacteria   \n",
       "4  Bacteria;Firmicutes;Bacilli;Lactobacillales;St...  Bacteria   \n",
       "\n",
       "               phylum               class_              order  \\\n",
       "0  Epsilonbacteraeota      Campylobacteria  Campylobacterales   \n",
       "1          Firmicutes              Bacilli    Lactobacillales   \n",
       "2      Proteobacteria  Gammaproteobacteria  Enterobacteriales   \n",
       "3      Actinobacteria       Actinobacteria  Micromonosporales   \n",
       "4          Firmicutes              Bacilli    Lactobacillales   \n",
       "\n",
       "               family                genus                          species  \\\n",
       "0   Helicobacteraceae         Helicobacter                     unidentified   \n",
       "1    Streptococcaceae        Streptococcus                     unidentified   \n",
       "2  Enterobacteriaceae  Candidatus Regiella  Candidatus Regiella insecticola   \n",
       "3  Micromonosporaceae          Salinispora                     unidentified   \n",
       "4    Streptococcaceae        Streptococcus                     unidentified   \n",
       "\n",
       "   semicolon_count  \n",
       "0                6  \n",
       "1                6  \n",
       "2                6  \n",
       "3                6  \n",
       "4                6  "
      ]
     },
     "execution_count": 22,
     "metadata": {
      "tags": []
     },
     "output_type": "execute_result"
    }
   ],
   "source": [
    "SILVA_header.head()"
   ]
  },
  {
   "cell_type": "code",
   "execution_count": 0,
   "metadata": {
    "colab": {},
    "colab_type": "code",
    "collapsed": true,
    "id": "O3l89VzKxUQJ"
   },
   "outputs": [],
   "source": [
    "def from_phylum_to_genus(df):\n",
    "    class__ = ''.join(#'K_'+str(df['kingdom'])+'__'+\n",
    "                      'P_'+str(df['phylum'])+'__'+\n",
    "                      'C_'+str(df['class_'])+'__'+\n",
    "                      'O_'+str(df['order'])+'__'+\n",
    "                      'F_'+str(df['family'])+'__'+\n",
    "                      'G_'+str(df['genus']))\n",
    "    return class__"
   ]
  },
  {
   "cell_type": "code",
   "execution_count": 0,
   "metadata": {
    "colab": {},
    "colab_type": "code",
    "collapsed": true,
    "id": "MwzPX6Kxa7sL"
   },
   "outputs": [],
   "source": [
    "def from_phylum_to_species(df):\n",
    "    class__ = ''.join(#'K_'+str(df['kingdom'])+'__'+\n",
    "                      'P_'+str(df['phylum'])+'__'+\n",
    "                      'C_'+str(df['class_'])+'__'+\n",
    "                      'O_'+str(df['order'])+'__'+\n",
    "                      'F_'+str(df['family'])+'__'+\n",
    "                      'G_'+str(df['genus'])+'__'+\n",
    "                      'S_'+str(df['species']))\n",
    "    return class__"
   ]
  },
  {
   "cell_type": "code",
   "execution_count": 0,
   "metadata": {
    "colab": {},
    "colab_type": "code",
    "collapsed": true,
    "id": "KRY-4PpUxUQL"
   },
   "outputs": [],
   "source": [
    "#SILVA_header['genus-'] = SILVA_header.apply(lambda row: from_phylum_to_genus(row),axis=1)"
   ]
  },
  {
   "cell_type": "code",
   "execution_count": 0,
   "metadata": {
    "colab": {},
    "colab_type": "code",
    "collapsed": true,
    "id": "epwaHN75xUQV"
   },
   "outputs": [],
   "source": [
    "#len(unique(SILVA_header['species'])),len(unique(SILVA_header['genus'])),len(unique(SILVA_header['family']))"
   ]
  },
  {
   "cell_type": "code",
   "execution_count": 0,
   "metadata": {
    "colab": {},
    "colab_type": "code",
    "collapsed": true,
    "id": "aNp6Ape6xUQe"
   },
   "outputs": [],
   "source": [
    "SILVA_header.index = SILVA_header['id']"
   ]
  },
  {
   "cell_type": "code",
   "execution_count": 0,
   "metadata": {
    "colab": {
     "base_uri": "https://localhost:8080/",
     "height": 289
    },
    "colab_type": "code",
    "collapsed": false,
    "id": "oFtZZM66xUQp",
    "outputId": "4b117f4d-d85f-4bf4-d698-f993313507a7"
   },
   "outputs": [
    {
     "data": {
      "text/html": [
       "<div>\n",
       "<style scoped>\n",
       "    .dataframe tbody tr th:only-of-type {\n",
       "        vertical-align: middle;\n",
       "    }\n",
       "\n",
       "    .dataframe tbody tr th {\n",
       "        vertical-align: top;\n",
       "    }\n",
       "\n",
       "    .dataframe thead th {\n",
       "        text-align: right;\n",
       "    }\n",
       "</style>\n",
       "<table border=\"1\" class=\"dataframe\">\n",
       "  <thead>\n",
       "    <tr style=\"text-align: right;\">\n",
       "      <th></th>\n",
       "      <th>id</th>\n",
       "      <th>kingdom</th>\n",
       "      <th>phylum</th>\n",
       "      <th>class_</th>\n",
       "      <th>order</th>\n",
       "      <th>family</th>\n",
       "      <th>genus</th>\n",
       "      <th>species</th>\n",
       "    </tr>\n",
       "    <tr>\n",
       "      <th>id</th>\n",
       "      <th></th>\n",
       "      <th></th>\n",
       "      <th></th>\n",
       "      <th></th>\n",
       "      <th></th>\n",
       "      <th></th>\n",
       "      <th></th>\n",
       "      <th></th>\n",
       "    </tr>\n",
       "  </thead>\n",
       "  <tbody>\n",
       "    <tr>\n",
       "      <th>GY187501.2.1421</th>\n",
       "      <td>GY187501.2.1421</td>\n",
       "      <td>Bacteria</td>\n",
       "      <td>Epsilonbacteraeota</td>\n",
       "      <td>Campylobacteria</td>\n",
       "      <td>Campylobacterales</td>\n",
       "      <td>Helicobacteraceae</td>\n",
       "      <td>Helicobacter</td>\n",
       "      <td>unidentified</td>\n",
       "    </tr>\n",
       "    <tr>\n",
       "      <th>GY194060.4884.6412</th>\n",
       "      <td>GY194060.4884.6412</td>\n",
       "      <td>Bacteria</td>\n",
       "      <td>Firmicutes</td>\n",
       "      <td>Bacilli</td>\n",
       "      <td>Lactobacillales</td>\n",
       "      <td>Streptococcaceae</td>\n",
       "      <td>Streptococcus</td>\n",
       "      <td>unidentified</td>\n",
       "    </tr>\n",
       "    <tr>\n",
       "      <th>AC201869.46386.47908</th>\n",
       "      <td>AC201869.46386.47908</td>\n",
       "      <td>Bacteria</td>\n",
       "      <td>Proteobacteria</td>\n",
       "      <td>Gammaproteobacteria</td>\n",
       "      <td>Enterobacteriales</td>\n",
       "      <td>Enterobacteriaceae</td>\n",
       "      <td>Candidatus Regiella</td>\n",
       "      <td>Candidatus Regiella insecticola</td>\n",
       "    </tr>\n",
       "    <tr>\n",
       "      <th>GY222292.1.1479</th>\n",
       "      <td>GY222292.1.1479</td>\n",
       "      <td>Bacteria</td>\n",
       "      <td>Actinobacteria</td>\n",
       "      <td>Actinobacteria</td>\n",
       "      <td>Micromonosporales</td>\n",
       "      <td>Micromonosporaceae</td>\n",
       "      <td>Salinispora</td>\n",
       "      <td>unidentified</td>\n",
       "    </tr>\n",
       "    <tr>\n",
       "      <th>GY230930.2147890.2149418</th>\n",
       "      <td>GY230930.2147890.2149418</td>\n",
       "      <td>Bacteria</td>\n",
       "      <td>Firmicutes</td>\n",
       "      <td>Bacilli</td>\n",
       "      <td>Lactobacillales</td>\n",
       "      <td>Streptococcaceae</td>\n",
       "      <td>Streptococcus</td>\n",
       "      <td>unidentified</td>\n",
       "    </tr>\n",
       "  </tbody>\n",
       "</table>\n",
       "</div>"
      ],
      "text/plain": [
       "                                                id   kingdom  \\\n",
       "id                                                             \n",
       "GY187501.2.1421                    GY187501.2.1421  Bacteria   \n",
       "GY194060.4884.6412              GY194060.4884.6412  Bacteria   \n",
       "AC201869.46386.47908          AC201869.46386.47908  Bacteria   \n",
       "GY222292.1.1479                    GY222292.1.1479  Bacteria   \n",
       "GY230930.2147890.2149418  GY230930.2147890.2149418  Bacteria   \n",
       "\n",
       "                                      phylum               class_  \\\n",
       "id                                                                  \n",
       "GY187501.2.1421           Epsilonbacteraeota      Campylobacteria   \n",
       "GY194060.4884.6412                Firmicutes              Bacilli   \n",
       "AC201869.46386.47908          Proteobacteria  Gammaproteobacteria   \n",
       "GY222292.1.1479               Actinobacteria       Actinobacteria   \n",
       "GY230930.2147890.2149418          Firmicutes              Bacilli   \n",
       "\n",
       "                                      order              family  \\\n",
       "id                                                                \n",
       "GY187501.2.1421           Campylobacterales   Helicobacteraceae   \n",
       "GY194060.4884.6412          Lactobacillales    Streptococcaceae   \n",
       "AC201869.46386.47908      Enterobacteriales  Enterobacteriaceae   \n",
       "GY222292.1.1479           Micromonosporales  Micromonosporaceae   \n",
       "GY230930.2147890.2149418    Lactobacillales    Streptococcaceae   \n",
       "\n",
       "                                        genus                          species  \n",
       "id                                                                              \n",
       "GY187501.2.1421                  Helicobacter                     unidentified  \n",
       "GY194060.4884.6412              Streptococcus                     unidentified  \n",
       "AC201869.46386.47908      Candidatus Regiella  Candidatus Regiella insecticola  \n",
       "GY222292.1.1479                   Salinispora                     unidentified  \n",
       "GY230930.2147890.2149418        Streptococcus                     unidentified  "
      ]
     },
     "execution_count": 16,
     "metadata": {
      "tags": []
     },
     "output_type": "execute_result"
    }
   ],
   "source": [
    "SILVA_header.head()"
   ]
  },
  {
   "cell_type": "markdown",
   "metadata": {
    "colab_type": "text",
    "id": "6DjYSd-HxUQs"
   },
   "source": [
    "### Reading the HVR fasta file"
   ]
  },
  {
   "cell_type": "code",
   "execution_count": 0,
   "metadata": {
    "colab": {},
    "colab_type": "code",
    "collapsed": true,
    "id": "tx8aDWcFxUQt"
   },
   "outputs": [],
   "source": [
    "#Reading the database as a panda dataframe\n",
    "reads=[]\n",
    "for record in SeqIO.parse(path, \"fasta\"):\n",
    "    id_ = str(record.description).split(\" \")[2].split(\":\")[0]\n",
    "    encoded = record.seq \n",
    "    reads.append([id_,encoded,len(record.seq)])    \n",
    "    \n",
    "df = pd.DataFrame(reads,columns=['id','seq','len'])"
   ]
  },
  {
   "cell_type": "code",
   "execution_count": 0,
   "metadata": {
    "colab": {
     "base_uri": "https://localhost:8080/",
     "height": 55
    },
    "colab_type": "code",
    "collapsed": false,
    "id": "kZ8KdFxvxUQv",
    "outputId": "11e96170-c5bd-41ff-a11e-f7d7698c4482"
   },
   "outputs": [
    {
     "data": {
      "text/plain": [
       "'\\n#Find the longest read in all HVR\\nfasta_files = np.sort(os.listdir(path=\\'./\\')).tolist()\\nfasta_files = fasta_files[12:24]\\nreads=[]\\nfor file in fasta_files:\\n    for record in SeqIO.parse(file, \"fasta\"):\\n        id_ = str(record.description).split(\" \")[2].split(\":\")[0]\\n        reads.append([id_,len(record.seq),file])    \\n    \\ndf = pd.DataFrame(reads,columns=[\\'id\\',\\'len\\',\\'file\\'])\\none_hvr = [\\'V2_SILVA.fasta\\',\\'V3_SILVA.fa.fasta\\',\\'V4_SILVA.fa.fasta\\',\\n           \\'V5_SILVA.fa.fasta\\',\\'V7_SILVA.fa.fasta\\',\\'V8_SILVA.fa.fasta\\']\\ndf_2 = df[df[\\'file\\'].isin(one_hvr)]\\nmax(df_2[\\'len\\'])\\n'"
      ]
     },
     "execution_count": 32,
     "metadata": {
      "tags": []
     },
     "output_type": "execute_result"
    }
   ],
   "source": [
    "\"\"\"\n",
    "#Find the longest read in all HVR\n",
    "fasta_files = np.sort(os.listdir(path='./')).tolist()\n",
    "fasta_files = fasta_files[12:24]\n",
    "reads=[]\n",
    "for file in fasta_files:\n",
    "    for record in SeqIO.parse(file, \"fasta\"):\n",
    "        id_ = str(record.description).split(\" \")[2].split(\":\")[0]\n",
    "        reads.append([id_,len(record.seq),file])    \n",
    "    \n",
    "df = pd.DataFrame(reads,columns=['id','len','file'])\n",
    "one_hvr = ['V2_SILVA.fasta','V3_SILVA.fa.fasta','V4_SILVA.fa.fasta',\n",
    "           'V5_SILVA.fa.fasta','V7_SILVA.fa.fasta','V8_SILVA.fa.fasta']\n",
    "df_2 = df[df['file'].isin(one_hvr)]\n",
    "max(df_2['len'])\n",
    "\"\"\""
   ]
  },
  {
   "cell_type": "code",
   "execution_count": 0,
   "metadata": {
    "colab": {},
    "colab_type": "code",
    "collapsed": true,
    "id": "sQhbywizxUQy"
   },
   "outputs": [],
   "source": [
    "#df['Domain']  = df['id'].map(SILVA_header['Domain'])\n",
    "df['phylum']  = df['id'].map(SILVA_header['phylum'])\n",
    "df['class_']  = df['id'].map(SILVA_header['class_'])\n",
    "df['order']   = df['id'].map(SILVA_header['order'])\n",
    "df['family']  = df['id'].map(SILVA_header['family'])\n",
    "df['genus']   = df['id'].map(SILVA_header['genus'])\n",
    "df['species'] = df['id'].map(SILVA_header['species'])"
   ]
  },
  {
   "cell_type": "code",
   "execution_count": 0,
   "metadata": {
    "colab": {},
    "colab_type": "code",
    "collapsed": true,
    "id": "jsPyQOqTbO57"
   },
   "outputs": [],
   "source": [
    "def encode_label_to_close_int(df,genus_path,species_path,encode_species = True):   \n",
    "    \"\"\"\n",
    "    input:\n",
    "    df: dataframe of SILVA_taxa that\n",
    "    genus_path :  path to save the pkl file of teh genus mapping\n",
    "    species_path :  path to save the pkl file of teh species mapping\n",
    "\n",
    "    \n",
    "    output:\n",
    "    df: the same dataframe with additional columns that represent one hot encoding \n",
    "                  that takes into account the hierarchical structure\n",
    "    \n",
    "    \"\"\"\n",
    "    \"\"\"\n",
    "    kingdoms_ = df['kingdom'].value_counts().index\n",
    "    dict_ = dict()\n",
    "    dict_ = dict_.fromkeys(kingdoms_)\n",
    "    keys = range(len(kingdoms_))\n",
    "    for k in keys:\n",
    "        dict_[kingdoms_[k]] = keys[k]\n",
    "    #df['kingdom-'] = df['kingdom'].apply(lambda x: dict_[x])\n",
    "    df['Domain-'] = pd.factorize(df['Domain'].values)[0]\n",
    "    df = df.sort_values(by='Domain-')\"\"\"\n",
    "    df['phylum-'] = pd.factorize(df['phylum'].values)[0]\n",
    "    df = df.sort_values(by=['phylum-'])\n",
    "    df['class_-'] = pd.factorize(df['class_'].values)[0]\n",
    "    df.sort_values(by=['class_-'])\n",
    "    df['order-'] = pd.factorize(df['order'].values)[0]\n",
    "    df.sort_values(by=['order-'])\n",
    "    df['family-'] = pd.factorize(df['family'].values)[0]\n",
    "    df.sort_values(by=['family-'])    \n",
    "    #df = df[df['genus']!='uncultured']\n",
    "\n",
    "    ## As some genus isn \"unidetified\" across many families, so \n",
    "    ## concatenate SILVA labels to one label from kingdom to genus\n",
    "    ddata = dd.from_pandas(df, npartitions=30)\n",
    "    df['Complete_genus'] = ddata.map_partitions(lambda df:df.apply(lambda row: \n",
    "                                                                   from_phylum_to_genus(row),\n",
    "                                                                    axis=1)).compute(scheduler='threads')\n",
    "    genus_mapping = pd.factorize(df['Complete_genus'].values)[1]\n",
    "    df['genus-'] = pd.factorize(df['Complete_genus'].values)[0]\n",
    "    df = df.sort_values(by=['genus-'])\n",
    "    #save this mapping as a pickle file for all HVR models\n",
    "    with open(genus_path, 'wb') as fp:\n",
    "        pickle.dump(genus_mapping, fp)\n",
    "    \n",
    "    if encode_species == True:\n",
    "        ddata = dd.from_pandas(df, npartitions=30)\n",
    "        df['Complete_species'] = ddata.map_partitions(lambda df:df.apply(lambda row: \n",
    "                                                                                 from_phylum_to_species(row),\n",
    "                                                                                 axis=1)).compute(scheduler='threads')\n",
    "        species_mapping = pd.factorize(df['Complete_species'].values)[1]\n",
    "\n",
    "        df['species-'] = pd.factorize(df['Complete_species'].values)[0]\n",
    "        df = df.sort_values(by=['species-'])\n",
    "        #save this mapping as a pickle file for all HVR models\n",
    "        with open(species_path, 'wb') as fp:\n",
    "            pickle.dump(species_mapping, fp)\n",
    "    return df"
   ]
  },
  {
   "cell_type": "code",
   "execution_count": 0,
   "metadata": {
    "colab": {},
    "colab_type": "code",
    "collapsed": true,
    "id": "ZNfuKwbybPzw"
   },
   "outputs": [],
   "source": [
    "df = encode_label_to_close_int(df,'./PCR_silva_all/data/V2_genus_mapping.pkl',\n",
    "                               './PCR_silva_all/data/V2_species_mapping.pkl',encode_species = True)"
   ]
  },
  {
   "cell_type": "code",
   "execution_count": 0,
   "metadata": {
    "colab": {},
    "colab_type": "code",
    "collapsed": true,
    "id": "HzKBrxbGctdT"
   },
   "outputs": [],
   "source": [
    "df = df[df['phylum-']!=-1]"
   ]
  },
  {
   "cell_type": "code",
   "execution_count": 0,
   "metadata": {
    "colab": {
     "base_uri": "https://localhost:8080/",
     "height": 34
    },
    "colab_type": "code",
    "collapsed": false,
    "id": "dHyjV71ndTT6",
    "outputId": "0ef2e71f-24a5-4a17-a602-da7a46b24e98"
   },
   "outputs": [
    {
     "data": {
      "text/plain": [
       "(1089829, 19)"
      ]
     },
     "execution_count": 19,
     "metadata": {
      "tags": []
     },
     "output_type": "execute_result"
    }
   ],
   "source": [
    "df.shape"
   ]
  },
  {
   "cell_type": "code",
   "execution_count": 0,
   "metadata": {
    "colab": {},
    "colab_type": "code",
    "collapsed": true,
    "id": "bvOryEF4PlNw"
   },
   "outputs": [],
   "source": [
    "df = df.drop(columns=[ 'phylum', 'class_', 'order', 'family','genus', 'species'])"
   ]
  },
  {
   "cell_type": "code",
   "execution_count": 0,
   "metadata": {
    "colab": {},
    "colab_type": "code",
    "collapsed": true,
    "id": "ul4oNEBtVKOg"
   },
   "outputs": [],
   "source": [
    "d = Seq.IUPAC.IUPACData.ambiguous_dna_values\n",
    "ambiguous_ch = d.keys()- ['A','G','C','T']\n",
    "ambiguous_ch\n",
    "df['ambiguity_count'] = df['seq'].apply(lambda x: sum([''.join(x).count(y) for y in ambiguous_ch]))"
   ]
  },
  {
   "cell_type": "code",
   "execution_count": 0,
   "metadata": {
    "colab": {},
    "colab_type": "code",
    "collapsed": true,
    "id": "kkCQFtbo_TwY"
   },
   "outputs": [],
   "source": [
    "df.to_pickle('PCR_SILVA_all/data/V2_df_without_encoding.pkl')"
   ]
  },
  {
   "cell_type": "markdown",
   "metadata": {
    "colab_type": "text",
    "id": "LCP_A6dSMQCk"
   },
   "source": [
    "### Reading V2 dataframe after preprocessing"
   ]
  },
  {
   "cell_type": "code",
   "execution_count": 0,
   "metadata": {
    "colab": {},
    "colab_type": "code",
    "collapsed": true,
    "id": "2T1Ih8siM0Ly"
   },
   "outputs": [],
   "source": [
    "df = pd.read_pickle('PCR_SILVA_all/data/V2_df_without_encoding.pkl')"
   ]
  },
  {
   "cell_type": "code",
   "execution_count": 0,
   "metadata": {
    "colab": {},
    "colab_type": "code",
    "collapsed": true,
    "id": "cQ6z_Ipe_hlC"
   },
   "outputs": [],
   "source": [
    "df_amb = df[df['ambiguity_count']>0]"
   ]
  },
  {
   "cell_type": "code",
   "execution_count": 0,
   "metadata": {
    "colab": {},
    "colab_type": "code",
    "collapsed": true,
    "id": "VotvBY-q_imW"
   },
   "outputs": [],
   "source": [
    "def expend_ambiguity_df(df_amb):\n",
    "    \n",
    "    df_amb = df_amb[df_amb['ambiguity_count']<10]\n",
    "    df_amb = df_amb.reset_index().drop(columns=['index'])\n",
    "    new_df = pd.DataFrame(columns=df_amb.columns)\n",
    "    new_df['seq-'] = ''\n",
    "    for i in range(df_amb.shape[0]):\n",
    "        sample =  df_amb.iloc[i,:]\n",
    "        acceptable_moves = len(list(map(\"\".join, product(*map(d.get, sample['seq'])))))\n",
    "        seq = sample['seq']\n",
    "        \n",
    "        if acceptable_moves in [1,2,3]:\n",
    "            new_sample = pd.DataFrame(columns=df_amb.columns)\n",
    "            new_sample = new_sample.append([sample]*1)\n",
    "            choice = randint(1,acceptable_moves,1)\n",
    "            \n",
    "            x = [x[y] for y in choice]\n",
    "            new_sample['seq-'] = x\n",
    "            new_df = pd.concat([new_df,new_sample])\n",
    "        else:\n",
    "            new_sample = pd.DataFrame(columns=df_amb.columns)\n",
    "            new_sample = new_sample.append([sample]*1)\n",
    "            choice = randint(1,acceptable_moves,1)\n",
    "            x = list(map(\"\".join, product(*map(d.get, seq))))\n",
    "            x = [x[y] for y in choice]          \n",
    "            new_sample['seq-'] = x\n",
    "            new_df = pd.concat([new_df,new_sample])\n",
    "    return new_df"
   ]
  },
  {
   "cell_type": "code",
   "execution_count": 0,
   "metadata": {
    "colab": {},
    "colab_type": "code",
    "collapsed": true,
    "id": "4Ga87KkS_mih"
   },
   "outputs": [],
   "source": [
    "df_amb = expend_ambiguity_df(df_amb)"
   ]
  },
  {
   "cell_type": "code",
   "execution_count": 0,
   "metadata": {
    "colab": {},
    "colab_type": "code",
    "collapsed": true,
    "id": "I8vmm4ZJ_pqY"
   },
   "outputs": [],
   "source": [
    "df = df[df['ambiguity_count']==0]\n",
    "df['seq-'] = df['seq']"
   ]
  },
  {
   "cell_type": "code",
   "execution_count": 0,
   "metadata": {
    "colab": {},
    "colab_type": "code",
    "collapsed": true,
    "id": "mK0sdyug_r2f"
   },
   "outputs": [],
   "source": [
    "df = pd.concat([df,df_amb])\n",
    "df = df.drop(columns=['seq'])"
   ]
  },
  {
   "cell_type": "code",
   "execution_count": 0,
   "metadata": {
    "colab": {},
    "colab_type": "code",
    "collapsed": true,
    "id": "M3G8EpEo_ulo"
   },
   "outputs": [],
   "source": [
    "# Applying encoding\n",
    "df['encoded'] = df['seq-'].apply(encode_nu)"
   ]
  },
  {
   "cell_type": "code",
   "execution_count": 0,
   "metadata": {
    "colab": {},
    "colab_type": "code",
    "collapsed": true,
    "id": "dXGSUyBH_wd7"
   },
   "outputs": [],
   "source": [
    "df = df.drop(columns=['seq-'])"
   ]
  },
  {
   "cell_type": "code",
   "execution_count": 0,
   "metadata": {
    "colab": {},
    "colab_type": "code",
    "collapsed": true,
    "id": "ifjsUg8TAjln"
   },
   "outputs": [],
   "source": [
    "df = df.drop(columns=[ 'len', 'Complete_genus'])"
   ]
  },
  {
   "cell_type": "code",
   "execution_count": 0,
   "metadata": {
    "colab": {},
    "colab_type": "code",
    "collapsed": true,
    "id": "C32dS5ljAowJ"
   },
   "outputs": [],
   "source": [
    "df.to_pickle('PCR_SILVA_all/data/V2_df_after_encoding_&_ambiguity_exp.pkl')"
   ]
  },
  {
   "cell_type": "markdown",
   "metadata": {
    "colab_type": "text",
    "id": "Un4XJjf0xURn"
   },
   "source": [
    "### Apply stratified sampling to have at least equal classes in Train, Test, Validation data\n",
    "\n"
   ]
  },
  {
   "cell_type": "code",
   "execution_count": 0,
   "metadata": {
    "colab": {},
    "colab_type": "code",
    "collapsed": true,
    "id": "I0lrpOwlBDaj"
   },
   "outputs": [],
   "source": [
    "df = pd.read_pickle('PCR_SILVA_all/data/V2_df_after_encoding_&_ambiguity_exp.pkl')"
   ]
  },
  {
   "cell_type": "code",
   "execution_count": 0,
   "metadata": {
    "colab": {},
    "colab_type": "code",
    "collapsed": true,
    "id": "GJ45WcIqjU0n"
   },
   "outputs": [],
   "source": [
    "df = df.sample(frac=1).reset_index(drop=True)"
   ]
  },
  {
   "cell_type": "code",
   "execution_count": 0,
   "metadata": {
    "colab": {},
    "colab_type": "code",
    "collapsed": true,
    "id": "1L3HsYwQA4yD"
   },
   "outputs": [],
   "source": [
    "counts = df['species-'].value_counts()\n",
    "df = df[df['species-'].isin(counts[counts > 2].index)]"
   ]
  },
  {
   "cell_type": "code",
   "execution_count": 0,
   "metadata": {
    "colab": {},
    "colab_type": "code",
    "collapsed": true,
    "id": "FaM756_YxURo"
   },
   "outputs": [],
   "source": [
    "train,test,_,_ = train_test_split(df,df['species-'],random_state= 1,test_size = 0.2)\n",
    "train,valid,_,_ = train_test_split(train,train['species-'],random_state= 1,test_size = 0.15)"
   ]
  },
  {
   "cell_type": "code",
   "execution_count": 0,
   "metadata": {
    "colab": {
     "base_uri": "https://localhost:8080/",
     "height": 34
    },
    "colab_type": "code",
    "collapsed": false,
    "id": "KbH1H8Z1xURt",
    "outputId": "634b8c78-4a96-4dc5-e872-e53dcd5afd26"
   },
   "outputs": [
    {
     "data": {
      "text/plain": [
       "((624974, 10), (183817, 10), (110290, 10))"
      ]
     },
     "execution_count": 31,
     "metadata": {
      "tags": []
     },
     "output_type": "execute_result"
    }
   ],
   "source": [
    "train.shape, test.shape, valid.shape"
   ]
  },
  {
   "cell_type": "code",
   "execution_count": 0,
   "metadata": {
    "colab": {
     "base_uri": "https://localhost:8080/",
     "height": 34
    },
    "colab_type": "code",
    "collapsed": false,
    "id": "z4hl0TCHxURx",
    "outputId": "c2332fa7-6326-49a4-eac7-0ee5144c9bf0"
   },
   "outputs": [
    {
     "data": {
      "text/plain": [
       "(18725, 13918, 11145)"
      ]
     },
     "execution_count": 32,
     "metadata": {
      "tags": []
     },
     "output_type": "execute_result"
    }
   ],
   "source": [
    "len(np.unique(train['species-'])),len(np.unique(test['species-'])),len(np.unique(valid['species-']))"
   ]
  },
  {
   "cell_type": "code",
   "execution_count": 0,
   "metadata": {
    "colab": {},
    "colab_type": "code",
    "collapsed": true,
    "id": "SeCyV-mFxUR0"
   },
   "outputs": [],
   "source": [
    "train = train[train['species-'].isin(unique(valid['species-']))]\n",
    "test = test[test['species-'].isin(unique(valid['species-']))]"
   ]
  },
  {
   "cell_type": "code",
   "execution_count": 0,
   "metadata": {
    "colab": {
     "base_uri": "https://localhost:8080/",
     "height": 34
    },
    "colab_type": "code",
    "collapsed": false,
    "id": "vFayGbIaBZW1",
    "outputId": "40f66bdd-d478-40c7-f303-e4febd892652"
   },
   "outputs": [
    {
     "data": {
      "text/plain": [
       "(11019, 8563, 11145)"
      ]
     },
     "execution_count": 34,
     "metadata": {
      "tags": []
     },
     "output_type": "execute_result"
    }
   ],
   "source": [
    "len(np.unique(train['species-'])),len(np.unique(test['species-'])),len(np.unique(valid['species-']))"
   ]
  },
  {
   "cell_type": "code",
   "execution_count": 0,
   "metadata": {
    "colab": {},
    "colab_type": "code",
    "collapsed": true,
    "id": "GwNLboVQBIm8"
   },
   "outputs": [],
   "source": [
    "train = train[train['species-'].isin(unique(test['species-']))]\n",
    "valid = valid[valid['species-'].isin(unique(test['species-']))]"
   ]
  },
  {
   "cell_type": "code",
   "execution_count": 0,
   "metadata": {
    "colab": {
     "base_uri": "https://localhost:8080/",
     "height": 34
    },
    "colab_type": "code",
    "collapsed": false,
    "id": "TgYaREdFBZ4J",
    "outputId": "273f55c1-fda0-4a3a-d86d-67ca1c2015d8"
   },
   "outputs": [
    {
     "data": {
      "text/plain": [
       "(8443, 8563, 8563)"
      ]
     },
     "execution_count": 36,
     "metadata": {
      "tags": []
     },
     "output_type": "execute_result"
    }
   ],
   "source": [
    "len(np.unique(train['species-'])),len(np.unique(test['species-'])),len(np.unique(valid['species-']))"
   ]
  },
  {
   "cell_type": "code",
   "execution_count": 0,
   "metadata": {
    "colab": {},
    "colab_type": "code",
    "collapsed": true,
    "id": "Rwk4HQxeBTf1"
   },
   "outputs": [],
   "source": [
    "test  = test[test['species-'].isin(unique(train['species-']))]\n",
    "valid = valid[valid['species-'].isin(unique(train['species-']))]"
   ]
  },
  {
   "cell_type": "code",
   "execution_count": 0,
   "metadata": {
    "colab": {
     "base_uri": "https://localhost:8080/",
     "height": 34
    },
    "colab_type": "code",
    "collapsed": false,
    "id": "42-2CTdgBWf9",
    "outputId": "7f618e66-b9de-4e7a-ad81-4b00ccbf8718"
   },
   "outputs": [
    {
     "data": {
      "text/plain": [
       "(8443, 8443, 8443)"
      ]
     },
     "execution_count": 38,
     "metadata": {
      "tags": []
     },
     "output_type": "execute_result"
    }
   ],
   "source": [
    "len(np.unique(train['species-'])),len(np.unique(test['species-'])),len(np.unique(valid['species-']))"
   ]
  },
  {
   "cell_type": "code",
   "execution_count": 0,
   "metadata": {
    "colab": {},
    "colab_type": "code",
    "collapsed": true,
    "id": "P6gf0yZ29ulz"
   },
   "outputs": [],
   "source": [
    "# Reducing labels to number of integers in all train, test , valid\n",
    "train['type'] = 'train'\n",
    "test['type'] = 'test'\n",
    "valid['type'] = 'valid'\n",
    "\n",
    "df = pd.concat([train,test,valid])\n",
    "df = df.sort_values(by=['phylum-'])\n",
    "df['phylum-']= pd.factorize(df['phylum-'])[0]\n",
    "df = df.sort_values(by=['class_-'])\n",
    "df['class_-']= pd.factorize(df['class_-'])[0]\n",
    "df = df.sort_values(by=['order-'])\n",
    "df['order-']= pd.factorize(df['order-'])[0]\n",
    "df = df.sort_values(by=['family-'])\n",
    "df['family-']= pd.factorize(df['family-'])[0]\n",
    "df = df.sort_values(by=['genus-'])\n",
    "df['genus-']= pd.factorize(df['genus-'])[0]\n",
    "species_mapping_2 = pd.factorize(df['Complete_species'])[1]\n",
    "with open('PCR_SILVA_all/data/species_mapping_2.pkl', 'wb') as fp:\n",
    "    pickle.dump(species_mapping_2, fp)\n",
    "df['species-']= pd.factorize(df['Complete_species'])[0]"
   ]
  },
  {
   "cell_type": "code",
   "execution_count": 0,
   "metadata": {
    "colab": {},
    "colab_type": "code",
    "collapsed": true,
    "id": "5CFnAutA9viw"
   },
   "outputs": [],
   "source": [
    "train = df[df['type']=='train'].drop(columns=['type'])\n",
    "test =  df[df['type']=='test'].drop(columns=['type'])\n",
    "valid = df[df['type']=='valid'].drop(columns=['type'])"
   ]
  },
  {
   "cell_type": "code",
   "execution_count": 0,
   "metadata": {
    "colab": {},
    "colab_type": "code",
    "collapsed": true,
    "id": "nNrSFRL1R6IZ"
   },
   "outputs": [],
   "source": [
    "valid.to_pickle('PCR_SILVA_all/data/V2_valid.pkl')\n",
    "test.to_pickle('PCR_SILVA_all/data/V2_test.pkl')\n",
    "train.to_pickle('PCR_SILVA_all/data/V2_train.pkl')"
   ]
  },
  {
   "cell_type": "code",
   "execution_count": 0,
   "metadata": {
    "colab": {
     "base_uri": "https://localhost:8080/",
     "height": 34
    },
    "colab_type": "code",
    "collapsed": false,
    "id": "Yj-FyYIJQElQ",
    "outputId": "c7536f8a-c61c-43b9-cc6b-9e0daf8162b5"
   },
   "outputs": [
    {
     "data": {
      "text/plain": [
       "24"
      ]
     },
     "execution_count": 41,
     "metadata": {
      "tags": []
     },
     "output_type": "execute_result"
    }
   ],
   "source": [
    "np.max(df['phylum-'])"
   ]
  },
  {
   "cell_type": "code",
   "execution_count": 0,
   "metadata": {
    "colab": {
     "base_uri": "https://localhost:8080/",
     "height": 34
    },
    "colab_type": "code",
    "collapsed": false,
    "id": "9APD4HrmQHk9",
    "outputId": "16456ac9-0179-492b-9970-f590fbccb1a5"
   },
   "outputs": [
    {
     "data": {
      "text/plain": [
       "47"
      ]
     },
     "execution_count": 42,
     "metadata": {
      "tags": []
     },
     "output_type": "execute_result"
    }
   ],
   "source": [
    "np.max(df['class_-'])"
   ]
  },
  {
   "cell_type": "code",
   "execution_count": 0,
   "metadata": {
    "colab": {
     "base_uri": "https://localhost:8080/",
     "height": 34
    },
    "colab_type": "code",
    "collapsed": false,
    "id": "24s07C9tQQcM",
    "outputId": "bf324bf8-f0c2-403a-c92f-d47678746f72"
   },
   "outputs": [
    {
     "data": {
      "text/plain": [
       "153"
      ]
     },
     "execution_count": 43,
     "metadata": {
      "tags": []
     },
     "output_type": "execute_result"
    }
   ],
   "source": [
    "np.max(df['order-'])"
   ]
  },
  {
   "cell_type": "code",
   "execution_count": 0,
   "metadata": {
    "colab": {
     "base_uri": "https://localhost:8080/",
     "height": 34
    },
    "colab_type": "code",
    "collapsed": false,
    "id": "TVqgavH8QJ9l",
    "outputId": "012d9596-6790-42e5-ba2e-e945ca1cc1f6"
   },
   "outputs": [
    {
     "data": {
      "text/plain": [
       "325"
      ]
     },
     "execution_count": 44,
     "metadata": {
      "tags": []
     },
     "output_type": "execute_result"
    }
   ],
   "source": [
    "np.max(df['family-'])"
   ]
  },
  {
   "cell_type": "code",
   "execution_count": 0,
   "metadata": {
    "colab": {
     "base_uri": "https://localhost:8080/",
     "height": 34
    },
    "colab_type": "code",
    "collapsed": false,
    "id": "DJInVRgXXpYa",
    "outputId": "e885334a-5fbf-415f-dfb8-b2f4dc6c2a83"
   },
   "outputs": [
    {
     "data": {
      "text/plain": [
       "1552"
      ]
     },
     "execution_count": 45,
     "metadata": {
      "tags": []
     },
     "output_type": "execute_result"
    }
   ],
   "source": [
    "np.max(df['genus-'])"
   ]
  },
  {
   "cell_type": "code",
   "execution_count": 0,
   "metadata": {
    "colab": {
     "base_uri": "https://localhost:8080/",
     "height": 34
    },
    "colab_type": "code",
    "collapsed": false,
    "id": "6JzodRGNP_vZ",
    "outputId": "d258d7bf-fe1d-45c9-82e9-83a30b4dd28f"
   },
   "outputs": [
    {
     "data": {
      "text/plain": [
       "8442"
      ]
     },
     "execution_count": 46,
     "metadata": {
      "tags": []
     },
     "output_type": "execute_result"
    }
   ],
   "source": [
    "np.max(df['species-'])"
   ]
  },
  {
   "cell_type": "markdown",
   "metadata": {
    "colab_type": "text",
    "id": "QQ06THCRNY12"
   },
   "source": [
    "### Training Word2Vec on encoded sequences"
   ]
  },
  {
   "cell_type": "code",
   "execution_count": 0,
   "metadata": {
    "colab": {},
    "colab_type": "code",
    "collapsed": true,
    "id": "YJV-f3KsNqdX"
   },
   "outputs": [],
   "source": [
    "from gensim.models.word2vec import Word2Vec\n",
    "from gensim.models import KeyedVectors"
   ]
  },
  {
   "cell_type": "code",
   "execution_count": 0,
   "metadata": {
    "colab": {},
    "colab_type": "code",
    "collapsed": true,
    "id": "AkEjjdNANv5N"
   },
   "outputs": [],
   "source": [
    "train = pd.read_pickle('PCR_SILVA_all/data/V2_train.pkl')\n",
    "valid = pd.read_pickle('PCR_SILVA_all/data/V2_valid.pkl')"
   ]
  },
  {
   "cell_type": "code",
   "execution_count": 0,
   "metadata": {
    "colab": {},
    "colab_type": "code",
    "collapsed": true,
    "id": "DhdEReUiN7bx"
   },
   "outputs": [],
   "source": [
    "np.random.seed(1)\n",
    "train = train.reset_index(drop=True)\n",
    "valid = valid.reset_index(drop=True)"
   ]
  },
  {
   "cell_type": "code",
   "execution_count": 0,
   "metadata": {
    "colab": {},
    "colab_type": "code",
    "collapsed": true,
    "id": "saWaCdaMN3OS"
   },
   "outputs": [],
   "source": [
    "df = pd.concat([train,valid])"
   ]
  },
  {
   "cell_type": "code",
   "execution_count": 0,
   "metadata": {
    "colab": {},
    "colab_type": "code",
    "collapsed": true,
    "id": "FK7MAepCOD6-"
   },
   "outputs": [],
   "source": [
    "kmer_size = 6"
   ]
  },
  {
   "cell_type": "code",
   "execution_count": 0,
   "metadata": {
    "colab": {},
    "colab_type": "code",
    "collapsed": true,
    "id": "IvxaWl6UOH4l"
   },
   "outputs": [],
   "source": [
    "import itertools\n",
    "bases=['1','2','3','4']\n",
    "all_kmers = [''.join(p) for p in itertools.product(bases, repeat=kmer_size)]\n",
    "word_to_int = dict()\n",
    "word_to_int = word_to_int.fromkeys(all_kmers)\n",
    "keys = range(1,len(all_kmers)+1)\n",
    "for k in keys:\n",
    "    word_to_int[all_kmers[k-1]] = keys[k-1]"
   ]
  },
  {
   "cell_type": "code",
   "execution_count": 0,
   "metadata": {
    "colab": {},
    "colab_type": "code",
    "collapsed": true,
    "id": "4c26LOfEOKRb"
   },
   "outputs": [],
   "source": [
    "def oneHotEncoding_to_kmers(encoded_list,kmer_size):\n",
    "    word_list = []\n",
    "    ch_str = str(encoded_list.tolist()).replace(',','').replace('[','').replace(']','').replace(' ','')\n",
    "    for i in range(len(ch_str) - kmer_size + 1):\n",
    "        word_list.append(word_to_int[ch_str[ i : i + kmer_size ]])\n",
    "    return word_list"
   ]
  },
  {
   "cell_type": "code",
   "execution_count": 0,
   "metadata": {
    "colab": {},
    "colab_type": "code",
    "collapsed": true,
    "id": "c3wfObFAONcN"
   },
   "outputs": [],
   "source": [
    "def save_kmerized_corpus(path, kmer_size,train):\n",
    "    with open(path, 'w') as file:\n",
    "        for i in range(train.shape[0]):\n",
    "            kmers = oneHotEncoding_to_kmers(train['encoded'].iloc[i],kmer_size)\n",
    "            file.write(str(kmers).replace(',','').replace('[','').replace(']',''))\n",
    "            file.write('\\n')"
   ]
  },
  {
   "cell_type": "code",
   "execution_count": 0,
   "metadata": {
    "colab": {},
    "colab_type": "code",
    "collapsed": true,
    "id": "RECj8n0FWhuV"
   },
   "outputs": [],
   "source": [
    "from gensim.models.word2vec import Word2Vec,LineSentence\n",
    "from gensim.models import KeyedVectors\n",
    "import multiprocessing"
   ]
  },
  {
   "cell_type": "code",
   "execution_count": 0,
   "metadata": {
    "colab": {},
    "colab_type": "code",
    "collapsed": true,
    "id": "3qCtrqxGOQFB"
   },
   "outputs": [],
   "source": [
    "#Saving the corpus to the disk to save Memory\n",
    "save_kmerized_corpus('W2V_Kmerized_encoded_corpus.txt',kmer_size,df)"
   ]
  },
  {
   "cell_type": "code",
   "execution_count": 0,
   "metadata": {
    "colab": {},
    "colab_type": "code",
    "collapsed": true,
    "id": "OoE5zWu8iNQN"
   },
   "outputs": [],
   "source": [
    "from gensim.models.word2vec import Word2Vec,LineSentence\n",
    "from gensim.models import KeyedVectors\n",
    "import multiprocessing\n",
    "\n",
    "corpus = LineSentence(source='W2V_Kmerized_encoded_corpus.txt')\n",
    "\n",
    "# Gensim Word2Vec model\n",
    "vector_size = 150\n",
    "window_size = 50\n",
    "max_features = 4**kmer_size + 1\n",
    "max_len = 321\n",
    "\n",
    "# Create Word2Vec\n",
    "word2vec = Word2Vec(sentences=corpus,\n",
    "                    sg=1,\n",
    "                    max_vocab_size=max_features,\n",
    "                    sample=1e-5,\n",
    "                    size=vector_size, \n",
    "                    window=window_size,\n",
    "                    hs=1,\n",
    "                    negative=20,\n",
    "                    iter=5,\n",
    "                    workers=multiprocessing.cpu_count(),\n",
    "                    seed=5)\n",
    "word2vec.wv.save_word2vec_format('PCR_SILVA_all/data/V2_word2vec_model_'+str(kmer_size)+'_kmer_'+'.w2v')"
   ]
  },
  {
   "cell_type": "markdown",
   "metadata": {
    "colab_type": "text",
    "id": "gIHFXZAqxUR9"
   },
   "source": [
    "### Build HVR full length dataframe"
   ]
  },
  {
   "cell_type": "code",
   "execution_count": 0,
   "metadata": {
    "colab": {},
    "colab_type": "code",
    "collapsed": true,
    "id": "c6MZE0uBaX3v"
   },
   "outputs": [],
   "source": [
    "valid = pd.read_pickle('PCR_SILVA_all/data/V2_valid.pkl')\n",
    "train = pd.read_pickle('PCR_SILVA_all/data/V2_train.pkl')"
   ]
  },
  {
   "cell_type": "code",
   "execution_count": 0,
   "metadata": {
    "colab": {},
    "colab_type": "code",
    "collapsed": true,
    "id": "UhiVe64B6NrS"
   },
   "outputs": [],
   "source": [
    "train = train.sample(frac=1).reset_index(drop=True)\n",
    "valid = valid.sample(frac=1).reset_index(drop=True)"
   ]
  },
  {
   "cell_type": "code",
   "execution_count": 0,
   "metadata": {
    "colab": {},
    "colab_type": "code",
    "collapsed": true,
    "id": "wbeqTZmdTigt"
   },
   "outputs": [],
   "source": [
    "train = train.drop(columns=['Complete_species','ambiguity_count'])\n",
    "valid = valid.drop(columns=['Complete_species','ambiguity_count'])"
   ]
  },
  {
   "cell_type": "code",
   "execution_count": 0,
   "metadata": {
    "colab": {},
    "colab_type": "code",
    "collapsed": true,
    "id": "66XabRwwPOy6"
   },
   "outputs": [],
   "source": [
    "kmer_size = 6\n",
    "max_features = 4**kmer_size +1\n",
    "vector_size = 128"
   ]
  },
  {
   "cell_type": "code",
   "execution_count": 0,
   "metadata": {
    "colab": {},
    "colab_type": "code",
    "collapsed": true,
    "id": "Z3tj7-rvOtoc"
   },
   "outputs": [],
   "source": [
    "def build_embedding_matrix(model_path,word_to_int):\n",
    "    word2vec = KeyedVectors.load_word2vec_format(model_path)\n",
    "    embedding_matrix = np.zeros((max_features,vector_size))\n",
    "    for i in word_to_int.values():\n",
    "        embedding_matrix[i,:] = word2vec.wv[str(i)]\n",
    "    return embedding_matrix"
   ]
  },
  {
   "cell_type": "code",
   "execution_count": 0,
   "metadata": {
    "colab": {},
    "colab_type": "code",
    "collapsed": true,
    "id": "hWgsMrA4OuYF"
   },
   "outputs": [],
   "source": [
    "def oneHotEncoding_to_kmers(encoded_list,kmer_size):\n",
    "    word_list = []\n",
    "    ch_str = str(encoded_list.tolist()).replace(',','').replace('[','').replace(']','').replace(' ','')\n",
    "    for i in range(len(ch_str) - kmer_size + 1):\n",
    "        word_list.append(int(word_to_int[ch_str[ i : i + kmer_size ]]))\n",
    "    return word_list"
   ]
  },
  {
   "cell_type": "code",
   "execution_count": 0,
   "metadata": {
    "colab": {},
    "colab_type": "code",
    "collapsed": true,
    "id": "A8Zi4BahdFkX"
   },
   "outputs": [],
   "source": [
    "import itertools\n",
    "from gensim.models import KeyedVectors\n",
    "bases=['1','2','3','4']\n",
    "all_kmers = [''.join(p) for p in itertools.product(bases, repeat=kmer_size)]\n",
    "word_to_int = dict()\n",
    "word_to_int = word_to_int.fromkeys(all_kmers)\n",
    "keys = range(1,len(all_kmers)+1)\n",
    "for k in keys:\n",
    "    word_to_int[all_kmers[k-1]] = keys[k-1]"
   ]
  },
  {
   "cell_type": "code",
   "execution_count": 0,
   "metadata": {
    "colab": {
     "base_uri": "https://localhost:8080/",
     "height": 74
    },
    "colab_type": "code",
    "collapsed": false,
    "id": "lviDmxLhO0Zt",
    "outputId": "fbb3eb4e-20a4-44b3-f438-8134017fd7d5"
   },
   "outputs": [
    {
     "name": "stderr",
     "output_type": "stream",
     "text": [
      "/usr/local/lib/python3.6/dist-packages/ipykernel_launcher.py:5: DeprecationWarning: Call to deprecated `wv` (Attribute will be removed in 4.0.0, use self instead).\n",
      "  \"\"\"\n"
     ]
    }
   ],
   "source": [
    "embedding_matrix = build_embedding_matrix('PCR_SILVA_all/data/V2_word2vec_model_'+str(kmer_size)+'kmer.w2v',\n",
    "                                          word_to_int)"
   ]
  },
  {
   "cell_type": "code",
   "execution_count": 0,
   "metadata": {
    "colab": {},
    "colab_type": "code",
    "collapsed": true,
    "id": "G9x-zqBQOxub"
   },
   "outputs": [],
   "source": [
    "train['encoded'] = train['encoded'].apply(lambda x: oneHotEncoding_to_kmers(x,kmer_size=kmer_size)).values.tolist()\n",
    "valid['encoded'] = valid['encoded'].apply(lambda x: oneHotEncoding_to_kmers(x,kmer_size=kmer_size)).values.tolist()"
   ]
  },
  {
   "cell_type": "code",
   "execution_count": 0,
   "metadata": {
    "colab": {},
    "colab_type": "code",
    "collapsed": true,
    "id": "JeR-UHn3p8cD"
   },
   "outputs": [],
   "source": [
    "test  = pd.read_pickle('PCR_SILVA_all/data/V2_test.pkl')\n",
    "test  = test.sample(frac=1).reset_index(drop=True)\n",
    "test  = test.drop(columns=['Complete_species','ambiguity_count'])\n",
    "test['encoded']  = test['encoded'].apply(lambda  x: oneHotEncoding_to_kmers(x,kmer_size=kmer_size)).values.tolist()"
   ]
  },
  {
   "cell_type": "code",
   "execution_count": 0,
   "metadata": {
    "colab": {},
    "colab_type": "code",
    "collapsed": true,
    "id": "XhBnBYO3WsP_"
   },
   "outputs": [],
   "source": [
    "classes_1 = 24   +1\n",
    "classes_2 = 47   +1\n",
    "classes_3 = 153  +1\n",
    "classes_4 = 325  +1\n",
    "classes_5 = 1552 +1\n",
    "classes_6 = 8442 +1 #10\n",
    "\n",
    "max_len = 320 + 1"
   ]
  },
  {
   "cell_type": "code",
   "execution_count": 0,
   "metadata": {
    "colab": {},
    "colab_type": "code",
    "collapsed": true,
    "id": "c3mrnDwvN_0T"
   },
   "outputs": [],
   "source": [
    "#A function to convert ambiguity encoding to zeros\n",
    "ch = [1,2,3,4]\n",
    "def zeros_for_ambguities(encode):\n",
    "    return [y if y in ch else 0 for y in encode]\n",
    "#valid['encoded'] = valid['encoded'].apply(zeros_for_ambguities)\n",
    "#train['encoded'] = train['encoded'].apply(zeros_for_ambguities)\n",
    "#test['encoded']  =  test['encoded'].apply(zeros_for_ambguities)"
   ]
  },
  {
   "cell_type": "code",
   "execution_count": 0,
   "metadata": {
    "colab": {},
    "colab_type": "code",
    "collapsed": true,
    "id": "x_frCo_c8awH"
   },
   "outputs": [],
   "source": [
    "import random\n",
    "def simulate_reads_range(list1,min_len=50):\n",
    "    random.seed(random.randint(1,1000))\n",
    "    start = randint(len(list1)-min_len)\n",
    "    end = randint(start+min_len,len(list1))\n",
    "    return list1[start:end]"
   ]
  },
  {
   "cell_type": "code",
   "execution_count": 0,
   "metadata": {
    "colab": {},
    "colab_type": "code",
    "collapsed": true,
    "id": "QONbuyf1xURa"
   },
   "outputs": [],
   "source": [
    "def simulate_reads(list1,len1 = 100):\n",
    "    start = randint(len(list1)-len1)\n",
    "    return list1[start:start+len1]"
   ]
  },
  {
   "cell_type": "code",
   "execution_count": 0,
   "metadata": {
    "colab": {},
    "colab_type": "code",
    "collapsed": true,
    "id": "2wDQKUzTxUR4"
   },
   "outputs": [],
   "source": [
    "def expand_by_class_count(df,min_samples = 10,duplication = 2):\n",
    "    counts = df['genus-'].value_counts()\n",
    "    very_rare_genus = df[df['genus-'].isin(counts[counts <=5].index)]\n",
    "    rare_genus = df[df['genus-'].isin(counts[counts <=min_samples].index)]\n",
    "    for i in range(duplication-1):\n",
    "        df = pd.concat([df,rare_genus])\n",
    "        for k in range(min_samples//2):\n",
    "            df = pd.concat([df,very_rare_genus])\n",
    "    return df"
   ]
  },
  {
   "cell_type": "markdown",
   "metadata": {
    "colab_type": "text",
    "id": "DwkwpM3lADKe"
   },
   "source": [
    "### Reading train, test , valid dataset"
   ]
  },
  {
   "cell_type": "code",
   "execution_count": 0,
   "metadata": {
    "colab": {},
    "colab_type": "code",
    "collapsed": true,
    "id": "BNgQDpi3TUJF"
   },
   "outputs": [],
   "source": [
    "def simulate_multioutput_ngs_generator(df,len1 = 50,batch_size=250):\n",
    "    y_sim_1,y_sim_2,y_sim_3,y_sim_4,y_sim_5,y_sim_6 = df['phylum-'].values,df['class_-'].values,df['order-'].values,df['family-'].values,df['genus-'].values,df['species-'].values\n",
    "    x_sim = df['encoded'].apply(lambda x : simulate_reads_range(x,min_len=len1))\n",
    "    x_sim = pad_sequences(x_sim.values,maxlen=max_len)\n",
    "    x_sim = array(np.concatenate(x_sim).reshape(x_sim.shape[0],max_len).tolist()).astype('uint16')\n",
    "    samples_per_epoch = df.shape[0]\n",
    "    number_of_batches = samples_per_epoch//batch_size\n",
    "    counter=0\n",
    "\n",
    "    while counter <=number_of_batches :\n",
    "        X_batch = np.array(x_sim[batch_size*counter:batch_size*(counter+1)]).astype('uint16')\n",
    "        y_1 = y_sim_1[batch_size*counter:batch_size*(counter+1)].astype('uint8')\n",
    "        y_2 = y_sim_2[batch_size*counter:batch_size*(counter+1)].astype('uint8')\n",
    "        y_3 = y_sim_3[batch_size*counter:batch_size*(counter+1)].astype('uint8')\n",
    "        y_4 = y_sim_4[batch_size*counter:batch_size*(counter+1)].astype('uint16')\n",
    "        y_5 = y_sim_5[batch_size*counter:batch_size*(counter+1)].astype('uint16')\n",
    "        y_6 = y_sim_6[batch_size*counter:batch_size*(counter+1)].astype('uint16')\n",
    "        counter += 1\n",
    "        if counter ==number_of_batches:\n",
    "            counter = 0\n",
    "            del x_sim,  y_sim_1,y_sim_2,y_sim_3,y_sim_4,y_sim_5,y_sim_6\n",
    "            y_sim_1,y_sim_2,y_sim_3,y_sim_4,y_sim_5,y_sim_6 = df['phylum-'].values,df['class_-'].values,df['order-'].values,df['family-'].values,df['genus-'].values,df['species-'].values\n",
    "            x_sim = df['encoded'].apply(lambda x : simulate_reads_range(x,min_len=len1))\n",
    "            x_sim = pad_sequences(x_sim.values,maxlen=max_len)\n",
    "            x_sim = array(np.concatenate(x_sim).reshape(x_sim.shape[0],max_len).tolist()).astype('uint16')\n",
    "        yield X_batch, [y_1,y_2,y_3,y_4,y_5,y_6]"
   ]
  },
  {
   "cell_type": "code",
   "execution_count": 0,
   "metadata": {
    "colab": {},
    "colab_type": "code",
    "collapsed": true,
    "id": "lggVQRrkbHUI"
   },
   "outputs": [],
   "source": [
    "def simulate_ngs_generator(df,len1 = 50,batch_size=250):\n",
    "    #y_sim_1,y_sim_2,y_sim_3,y_sim_4,y_sim_5,y_sim_6 = df['phylum-'].values,df['class_-'].values,df['order-'].values,df['family-'].values,df['genus-'].values,df['species-'].values\n",
    "    y_sim_6 = df['species-'].values\n",
    "    x_sim = df['encoded'].apply(lambda x : simulate_reads_range(x,min_len=len1))\n",
    "    x_sim = pad_sequences(x_sim.values,maxlen=max_len)\n",
    "    x_sim = array(np.concatenate(x_sim).reshape(x_sim.shape[0],max_len).tolist()).astype('uint16')\n",
    "    samples_per_epoch = df.shape[0]\n",
    "    number_of_batches = samples_per_epoch//batch_size\n",
    "    counter=0\n",
    "\n",
    "    while counter <=number_of_batches :\n",
    "        X_batch = np.array(x_sim[batch_size*counter:batch_size*(counter+1)]).astype('uint16')\n",
    "        #y_1 = y_sim_1[batch_size*counter:batch_size*(counter+1)].astype('uint8')\n",
    "        #y_2 = y_sim_2[batch_size*counter:batch_size*(counter+1)].astype('uint8')\n",
    "        #y_3 = y_sim_3[batch_size*counter:batch_size*(counter+1)].astype('uint8')\n",
    "        #y_4 = y_sim_4[batch_size*counter:batch_size*(counter+1)].astype('uint16')\n",
    "        #y_5 = y_sim_5[batch_size*counter:batch_size*(counter+1)].astype('uint16')\n",
    "        y_6 = y_sim_6[batch_size*counter:batch_size*(counter+1)].astype('uint16')\n",
    "        #y_6 = np.array(to_categorical(y_6,num_classes=classes_6)).astype('uint16')\n",
    "        counter += 1\n",
    "        if counter ==number_of_batches:\n",
    "            counter = 0\n",
    "            del x_sim,y_sim_6# y_sim_1,y_sim_2,y_sim_3,y_sim_4,y_sim_5,y_sim_6\n",
    "            #y_sim_1,y_sim_2,y_sim_3,y_sim_4,y_sim_5,y_sim_6 = df['phylum-'].values,df['class_-'].values,df['order-'].values,df['family-'].values,df['genus-'].values,df['species-'].values\n",
    "            y_sim_6 = df['species-'].values\n",
    "            x_sim = df['encoded'].apply(lambda x : simulate_reads_range(x,min_len=len1))\n",
    "            x_sim = pad_sequences(x_sim.values,maxlen=max_len)\n",
    "            x_sim = array(np.concatenate(x_sim).reshape(x_sim.shape[0],max_len).tolist()).astype('uint8')\n",
    "        yield X_batch, y_6#[y_1,y_2,y_3,y_4,y_5]"
   ]
  },
  {
   "cell_type": "code",
   "execution_count": 0,
   "metadata": {
    "colab": {},
    "colab_type": "code",
    "collapsed": true,
    "id": "tbA_wewbJruG"
   },
   "outputs": [],
   "source": [
    "def simulate_ngs_generator_fixed_len(df,len1 = 100,batch_size=250):\n",
    "    y_sim = df['species-'].values\n",
    "    x_sim = df['encoded'].apply(lambda x : simulate_reads_range(x,min_len=len1))\n",
    "    x_sim = pad_sequences(x_sim.values,maxlen=max_len)\n",
    "    x_sim = array(np.concatenate(x_sim).reshape(x_sim.shape[0],max_len).tolist()).astype('uint8')\n",
    "    samples_per_epoch = df.shape[0]\n",
    "    number_of_batches = samples_per_epoch//batch_size\n",
    "    counter=0\n",
    "\n",
    "    while counter <=number_of_batches :\n",
    "        X_batch = np.array(x_sim[batch_size*counter:batch_size*(counter+1)]).astype('uint8')\n",
    "        y_batch = y_sim[batch_size*counter:batch_size*(counter+1)].astype('uint16')\n",
    "        #y_batch = np.array(to_categorical(y_batch,num_classes=num_classes)).astype('uint16')\n",
    "        counter += 1\n",
    "        if counter ==number_of_batches:\n",
    "            counter = 0\n",
    "            del x_sim, y_sim\n",
    "            y_sim = df['species-'].values\n",
    "            x_sim = df['encoded'].apply(lambda x : simulate_reads_range(x,min_len=len1))\n",
    "            x_sim = pad_sequences(x_sim.values,maxlen=max_len)\n",
    "            x_sim = array(np.concatenate(x_sim).reshape(x_sim.shape[0],max_len).tolist()).astype('uint8')\n",
    "        yield X_batch,y_batch"
   ]
  },
  {
   "cell_type": "code",
   "execution_count": 0,
   "metadata": {
    "colab": {},
    "colab_type": "code",
    "collapsed": true,
    "id": "RBdb24dLxUSA"
   },
   "outputs": [],
   "source": [
    "def simulate_ngs_df(df,len1 = 100):\n",
    "    #y_sim = to_categorical(df['genus-'],num_classes=num_classes)\n",
    "    y_sim = df['genus-'].values\n",
    "    df['simulated'] = df['encoded'].apply(lambda x : simulate_reads(x,len1=len1))\n",
    "    df['simulated'] = pad_sequences(df['simulated'].values,maxlen=max_len).tolist()\n",
    "    x_sim = df['simulated']\n",
    "    x_sim = array(np.concatenate(x_sim.values).reshape(x_sim.shape[0],max_len).tolist()).astype('uint8')\n",
    "    return x_sim , y_sim"
   ]
  },
  {
   "cell_type": "code",
   "execution_count": 0,
   "metadata": {
    "colab": {},
    "colab_type": "code",
    "collapsed": true,
    "id": "-2ioLVZ6Y-OM"
   },
   "outputs": [],
   "source": [
    "# AdamW\n",
    "from keras.optimizers import Optimizer\n",
    "from keras import backend as K\n",
    "import six\n",
    "import copy\n",
    "from six.moves import zip\n",
    "from keras.utils.generic_utils import serialize_keras_object\n",
    "from keras.utils.generic_utils import deserialize_keras_object\n",
    "from keras.legacy import interfaces\n",
    "\n",
    "class AdamW(Optimizer):\n",
    "    \"\"\"Adam optimizer.\n",
    "    Default parameters follow those provided in the original paper.\n",
    "    # Arguments\n",
    "        lr: float >= 0. Learning rate.\n",
    "        beta_1: float, 0 < beta < 1. Generally close to 1.\n",
    "        beta_2: float, 0 < beta < 1. Generally close to 1.\n",
    "        epsilon: float >= 0. Fuzz factor.\n",
    "        decay: float >= 0. Learning rate decay over each update.\n",
    "        weight_decay: float >= 0. Decoupled weight decay over each update.\n",
    "    # References\n",
    "        - [Adam - A Method for Stochastic Optimization](http://arxiv.org/abs/1412.6980v8)\n",
    "        - [Optimization for Deep Learning Highlights in 2017](http://ruder.io/deep-learning-optimization-2017/index.html)\n",
    "        - [Fixing Weight Decay Regularization in Adam](https://arxiv.org/abs/1711.05101)\n",
    "    \"\"\"\n",
    "\n",
    "    def __init__(self, lr=0.001, beta_1=0.9, beta_2=0.999, weight_decay=1e-4,  # decoupled weight decay (1/4)\n",
    "                 epsilon=1e-8, decay=0., **kwargs):\n",
    "        super(AdamW, self).__init__(**kwargs)\n",
    "        with K.name_scope(self.__class__.__name__):\n",
    "            self.iterations = K.variable(0, dtype='int64', name='iterations')\n",
    "            self.lr = K.variable(lr, name='lr')\n",
    "            self.beta_1 = K.variable(beta_1, name='beta_1')\n",
    "            self.beta_2 = K.variable(beta_2, name='beta_2')\n",
    "            self.decay = K.variable(decay, name='decay')\n",
    "            self.wd = K.variable(weight_decay, name='weight_decay') # decoupled weight decay (2/4)\n",
    "        self.epsilon = epsilon\n",
    "        self.initial_decay = decay\n",
    "\n",
    "    @interfaces.legacy_get_updates_support\n",
    "    def get_updates(self, loss, params):\n",
    "        grads = self.get_gradients(loss, params)\n",
    "        self.updates = [K.update_add(self.iterations, 1)]\n",
    "        wd = self.wd # decoupled weight decay (3/4)\n",
    "\n",
    "        lr = self.lr\n",
    "        if self.initial_decay > 0:\n",
    "            lr *= (1. / (1. + self.decay * K.cast(self.iterations,\n",
    "                                                  K.dtype(self.decay))))\n",
    "\n",
    "        t = K.cast(self.iterations, K.floatx()) + 1\n",
    "        lr_t = lr * (K.sqrt(1. - K.pow(self.beta_2, t)) /\n",
    "                     (1. - K.pow(self.beta_1, t)))\n",
    "\n",
    "        ms = [K.zeros(K.int_shape(p), dtype=K.dtype(p)) for p in params]\n",
    "        vs = [K.zeros(K.int_shape(p), dtype=K.dtype(p)) for p in params]\n",
    "        self.weights = [self.iterations] + ms + vs\n",
    "\n",
    "        for p, g, m, v in zip(params, grads, ms, vs):\n",
    "            m_t = (self.beta_1 * m) + (1. - self.beta_1) * g\n",
    "            v_t = (self.beta_2 * v) + (1. - self.beta_2) * K.square(g)\n",
    "            p_t = p - lr_t * m_t / (K.sqrt(v_t) + self.epsilon) - lr * wd * p # decoupled weight decay (4/4)\n",
    "\n",
    "            self.updates.append(K.update(m, m_t))\n",
    "            self.updates.append(K.update(v, v_t))\n",
    "            new_p = p_t\n",
    "\n",
    "            # Apply constraints.\n",
    "            if getattr(p, 'constraint', None) is not None:\n",
    "                new_p = p.constraint(new_p)\n",
    "\n",
    "            self.updates.append(K.update(p, new_p))\n",
    "        return self.updates\n",
    "\n",
    "    def get_config(self):\n",
    "        config = {'lr': float(K.get_value(self.lr)),\n",
    "                  'beta_1': float(K.get_value(self.beta_1)),\n",
    "                  'beta_2': float(K.get_value(self.beta_2)),\n",
    "                  'decay': float(K.get_value(self.decay)),\n",
    "                  'weight_decay': float(K.get_value(self.wd)),\n",
    "                  'epsilon': self.epsilon}\n",
    "        base_config = super(AdamW, self).get_config()\n",
    "        return dict(list(base_config.items()) + list(config.items()))"
   ]
  },
  {
   "cell_type": "markdown",
   "metadata": {
    "colab_type": "text",
    "id": "azVCkWBK-Z1X"
   },
   "source": [
    "### ResNet like network"
   ]
  },
  {
   "cell_type": "code",
   "execution_count": 0,
   "metadata": {
    "colab": {},
    "colab_type": "code",
    "collapsed": true,
    "id": "wW6xojr9-eLb"
   },
   "outputs": [],
   "source": [
    "# 46 epoch\n",
    "#inp = Input(shape=(max_len,), dtype='uint8')\n",
    "inp = Input(shape=(max_len,),dtype='uint16')\n",
    "main = Embedding(max_features, vector_size, weights=[embedding_matrix],trainable=False)(inp)\n",
    "#main = Embedding(5, 128)(inp)\n",
    "#main = SpatialDropout1D(dr_rate)(main)\n",
    "main = Conv1D(filters=64, kernel_size=3, padding='same')(main)\n",
    "i_l1 = MaxPooling1D(pool_size=2)(main)\n",
    "main = Conv1D(filters=64, kernel_size=3, padding='same')(main)\n",
    "main = BatchNormalization()(main)\n",
    "main = Activation('relu')(main)\n",
    "main = Conv1D(filters=64, kernel_size=3, padding='same')(main)\n",
    "\n",
    "main = concatenate([main, i_l1],axis=1)\n",
    "\n",
    "main = BatchNormalization()(main)\n",
    "main = Activation('relu')(main)\n",
    "main = MaxPooling1D(pool_size=2)(main)\n",
    "i_l1 = Conv1D(filters=128, kernel_size=1, padding='same')(main)\n",
    "\n",
    "main = Conv1D(filters=128, kernel_size=3, padding='same')(main)\n",
    "main = BatchNormalization()(main)\n",
    "main = Activation('relu')(main)\n",
    "main = Conv1D(filters=128, kernel_size=3, padding='same')(main)\n",
    "main = concatenate([main, i_l1],axis=1)\n",
    "main = BatchNormalization()(main)\n",
    "main = Activation('relu')(main)\n",
    "main = MaxPooling1D(pool_size=2)(main)\n",
    "i_l1 = Conv1D(filters=256, kernel_size=1, padding='same')(main)\n",
    "\n",
    "main = Conv1D(filters=256, kernel_size=3, padding='same')(main)\n",
    "main = BatchNormalization()(main)\n",
    "main = Activation('relu')(main)\n",
    "main = Conv1D(filters=256, kernel_size=3, padding='same')(main)\n",
    "main = concatenate([main, i_l1],axis=1)\n",
    "main = BatchNormalization()(main)\n",
    "main = Activation('relu')(main)\n",
    "main = MaxPooling1D(pool_size=2)(main)\n",
    "i_l1 = Conv1D(filters=512, kernel_size=1, padding='same')(main)\n",
    "\n",
    "main = Conv1D(filters=512, kernel_size=3, padding='same')(main)\n",
    "main = BatchNormalization()(main)\n",
    "main = Activation('relu')(main)\n",
    "main = Conv1D(filters=512, kernel_size=3, padding='same')(main)\n",
    "main = concatenate([main, i_l1],axis=1)\n",
    "main = BatchNormalization()(main)\n",
    "main = Activation('relu')(main)\n",
    "main = MaxPooling1D(pool_size=2)(main)\n",
    "main = GlobalMaxPool1D()(main)\n",
    "\n",
    "main = Dense(1024, activation='relu')(main)  # Should be 4096\n",
    "main = Dense(512, activation='relu')(main)  # Should be 2048\n",
    "\n",
    "out1 = Dense(classes_1,activation='softmax')(main)\n",
    "out2 = Dense(classes_2,activation='softmax')(main)\n",
    "out3 = Dense(classes_3,activation='softmax')(main)\n",
    "out4 = Dense(classes_4,activation='softmax')(main)\n",
    "out5 = Dense(classes_5,activation='softmax')(main)\n",
    "out6 = Dense(classes_6,activation='softmax')(main)\n",
    "\n",
    "m = Model(inputs=[inp], outputs=[out1,out2,out3,out4,out5,out6])\n",
    "\n",
    "optimizer = AdamW(lr=0.001, beta_1=0.9, beta_2=0.999, weight_decay=1e-4, epsilon=1e-8, decay=0.)\n",
    "m.compile(loss='sparse_categorical_crossentropy',optimizer=optimizer,metrics=['acc'])"
   ]
  },
  {
   "cell_type": "code",
   "execution_count": 0,
   "metadata": {
    "colab": {
     "base_uri": "https://localhost:8080/",
     "height": 1755
    },
    "colab_type": "code",
    "collapsed": false,
    "id": "X2wIQhN8Ij7F",
    "outputId": "9704f198-88df-492d-b0a2-328c18121b9a"
   },
   "outputs": [
    {
     "name": "stdout",
     "output_type": "stream",
     "text": [
      "Epoch 1/50\n",
      " - 2070s - loss: 2.1622 - dense_3_loss: 0.0248 - dense_4_loss: 0.0416 - dense_5_loss: 0.1075 - dense_6_loss: 0.1679 - dense_7_loss: 0.4538 - dense_8_loss: 1.3667 - dense_3_acc: 0.9934 - dense_4_acc: 0.9887 - dense_5_acc: 0.9698 - dense_6_acc: 0.9558 - dense_7_acc: 0.8787 - dense_8_acc: 0.6808 - val_loss: 2.5957 - val_dense_3_loss: 0.0296 - val_dense_4_loss: 0.0469 - val_dense_5_loss: 0.1206 - val_dense_6_loss: 0.1887 - val_dense_7_loss: 0.5061 - val_dense_8_loss: 1.7038 - val_dense_3_acc: 0.9929 - val_dense_4_acc: 0.9883 - val_dense_5_acc: 0.9680 - val_dense_6_acc: 0.9530 - val_dense_7_acc: 0.8734 - val_dense_8_acc: 0.6574\n",
      "Epoch 2/50\n",
      " - 1992s - loss: 2.1390 - dense_3_loss: 0.0245 - dense_4_loss: 0.0406 - dense_5_loss: 0.1061 - dense_6_loss: 0.1660 - dense_7_loss: 0.4491 - dense_8_loss: 1.3526 - dense_3_acc: 0.9936 - dense_4_acc: 0.9891 - dense_5_acc: 0.9702 - dense_6_acc: 0.9564 - dense_7_acc: 0.8801 - dense_8_acc: 0.6820 - val_loss: 2.5756 - val_dense_3_loss: 0.0289 - val_dense_4_loss: 0.0457 - val_dense_5_loss: 0.1184 - val_dense_6_loss: 0.1871 - val_dense_7_loss: 0.5013 - val_dense_8_loss: 1.6943 - val_dense_3_acc: 0.9932 - val_dense_4_acc: 0.9888 - val_dense_5_acc: 0.9683 - val_dense_6_acc: 0.9531 - val_dense_7_acc: 0.8737 - val_dense_8_acc: 0.6574\n",
      "Epoch 3/50\n",
      " - 1997s - loss: 2.1300 - dense_3_loss: 0.0245 - dense_4_loss: 0.0407 - dense_5_loss: 0.1055 - dense_6_loss: 0.1655 - dense_7_loss: 0.4466 - dense_8_loss: 1.3472 - dense_3_acc: 0.9934 - dense_4_acc: 0.9889 - dense_5_acc: 0.9701 - dense_6_acc: 0.9563 - dense_7_acc: 0.8801 - dense_8_acc: 0.6823 - val_loss: 2.5867 - val_dense_3_loss: 0.0310 - val_dense_4_loss: 0.0474 - val_dense_5_loss: 0.1228 - val_dense_6_loss: 0.1906 - val_dense_7_loss: 0.5046 - val_dense_8_loss: 1.6903 - val_dense_3_acc: 0.9925 - val_dense_4_acc: 0.9882 - val_dense_5_acc: 0.9676 - val_dense_6_acc: 0.9525 - val_dense_7_acc: 0.8735 - val_dense_8_acc: 0.6574\n",
      "Epoch 4/50\n",
      " - 1992s - loss: 2.1197 - dense_3_loss: 0.0241 - dense_4_loss: 0.0405 - dense_5_loss: 0.1046 - dense_6_loss: 0.1631 - dense_7_loss: 0.4438 - dense_8_loss: 1.3435 - dense_3_acc: 0.9936 - dense_4_acc: 0.9890 - dense_5_acc: 0.9704 - dense_6_acc: 0.9568 - dense_7_acc: 0.8804 - dense_8_acc: 0.6833 - val_loss: 2.5826 - val_dense_3_loss: 0.0297 - val_dense_4_loss: 0.0480 - val_dense_5_loss: 0.1237 - val_dense_6_loss: 0.1942 - val_dense_7_loss: 0.5026 - val_dense_8_loss: 1.6844 - val_dense_3_acc: 0.9926 - val_dense_4_acc: 0.9877 - val_dense_5_acc: 0.9666 - val_dense_6_acc: 0.9510 - val_dense_7_acc: 0.8729 - val_dense_8_acc: 0.6571\n",
      "Epoch 5/50\n",
      " - 1992s - loss: 2.1077 - dense_3_loss: 0.0244 - dense_4_loss: 0.0401 - dense_5_loss: 0.1040 - dense_6_loss: 0.1621 - dense_7_loss: 0.4406 - dense_8_loss: 1.3366 - dense_3_acc: 0.9935 - dense_4_acc: 0.9891 - dense_5_acc: 0.9706 - dense_6_acc: 0.9571 - dense_7_acc: 0.8810 - dense_8_acc: 0.6838 - val_loss: 2.5668 - val_dense_3_loss: 0.0307 - val_dense_4_loss: 0.0480 - val_dense_5_loss: 0.1212 - val_dense_6_loss: 0.1865 - val_dense_7_loss: 0.4971 - val_dense_8_loss: 1.6832 - val_dense_3_acc: 0.9924 - val_dense_4_acc: 0.9878 - val_dense_5_acc: 0.9676 - val_dense_6_acc: 0.9534 - val_dense_7_acc: 0.8749 - val_dense_8_acc: 0.6585\n",
      "Epoch 6/50\n",
      " - 1992s - loss: 2.1015 - dense_3_loss: 0.0238 - dense_4_loss: 0.0396 - dense_5_loss: 0.1029 - dense_6_loss: 0.1608 - dense_7_loss: 0.4398 - dense_8_loss: 1.3348 - dense_3_acc: 0.9937 - dense_4_acc: 0.9892 - dense_5_acc: 0.9710 - dense_6_acc: 0.9577 - dense_7_acc: 0.8814 - dense_8_acc: 0.6845 - val_loss: 2.5542 - val_dense_3_loss: 0.0279 - val_dense_4_loss: 0.0457 - val_dense_5_loss: 0.1198 - val_dense_6_loss: 0.1877 - val_dense_7_loss: 0.4951 - val_dense_8_loss: 1.6780 - val_dense_3_acc: 0.9933 - val_dense_4_acc: 0.9884 - val_dense_5_acc: 0.9682 - val_dense_6_acc: 0.9535 - val_dense_7_acc: 0.8750 - val_dense_8_acc: 0.6611\n",
      "Epoch 7/50\n",
      " - 1990s - loss: 2.1008 - dense_3_loss: 0.0240 - dense_4_loss: 0.0399 - dense_5_loss: 0.1033 - dense_6_loss: 0.1616 - dense_7_loss: 0.4397 - dense_8_loss: 1.3323 - dense_3_acc: 0.9936 - dense_4_acc: 0.9892 - dense_5_acc: 0.9706 - dense_6_acc: 0.9571 - dense_7_acc: 0.8813 - dense_8_acc: 0.6841 - val_loss: 2.5769 - val_dense_3_loss: 0.0304 - val_dense_4_loss: 0.0476 - val_dense_5_loss: 0.1225 - val_dense_6_loss: 0.1916 - val_dense_7_loss: 0.5025 - val_dense_8_loss: 1.6823 - val_dense_3_acc: 0.9926 - val_dense_4_acc: 0.9878 - val_dense_5_acc: 0.9674 - val_dense_6_acc: 0.9524 - val_dense_7_acc: 0.8742 - val_dense_8_acc: 0.6579\n",
      "Epoch 8/50\n",
      " - 1995s - loss: 2.0947 - dense_3_loss: 0.0240 - dense_4_loss: 0.0394 - dense_5_loss: 0.1023 - dense_6_loss: 0.1607 - dense_7_loss: 0.4379 - dense_8_loss: 1.3304 - dense_3_acc: 0.9936 - dense_4_acc: 0.9893 - dense_5_acc: 0.9710 - dense_6_acc: 0.9574 - dense_7_acc: 0.8818 - dense_8_acc: 0.6851 - val_loss: 2.5554 - val_dense_3_loss: 0.0309 - val_dense_4_loss: 0.0480 - val_dense_5_loss: 0.1206 - val_dense_6_loss: 0.1867 - val_dense_7_loss: 0.4957 - val_dense_8_loss: 1.6735 - val_dense_3_acc: 0.9925 - val_dense_4_acc: 0.9880 - val_dense_5_acc: 0.9678 - val_dense_6_acc: 0.9534 - val_dense_7_acc: 0.8748 - val_dense_8_acc: 0.6596\n",
      "Epoch 9/50\n",
      " - 1988s - loss: 2.0885 - dense_3_loss: 0.0239 - dense_4_loss: 0.0398 - dense_5_loss: 0.1027 - dense_6_loss: 0.1602 - dense_7_loss: 0.4352 - dense_8_loss: 1.3266 - dense_3_acc: 0.9936 - dense_4_acc: 0.9891 - dense_5_acc: 0.9708 - dense_6_acc: 0.9574 - dense_7_acc: 0.8823 - dense_8_acc: 0.6851 - val_loss: 2.5530 - val_dense_3_loss: 0.0298 - val_dense_4_loss: 0.0457 - val_dense_5_loss: 0.1201 - val_dense_6_loss: 0.1880 - val_dense_7_loss: 0.4964 - val_dense_8_loss: 1.6730 - val_dense_3_acc: 0.9927 - val_dense_4_acc: 0.9885 - val_dense_5_acc: 0.9685 - val_dense_6_acc: 0.9532 - val_dense_7_acc: 0.8750 - val_dense_8_acc: 0.6603\n",
      "Epoch 10/50\n",
      " - 1973s - loss: 2.0896 - dense_3_loss: 0.0240 - dense_4_loss: 0.0399 - dense_5_loss: 0.1028 - dense_6_loss: 0.1603 - dense_7_loss: 0.4367 - dense_8_loss: 1.3258 - dense_3_acc: 0.9936 - dense_4_acc: 0.9891 - dense_5_acc: 0.9708 - dense_6_acc: 0.9574 - dense_7_acc: 0.8822 - dense_8_acc: 0.6847 - val_loss: 2.5677 - val_dense_3_loss: 0.0295 - val_dense_4_loss: 0.0469 - val_dense_5_loss: 0.1213 - val_dense_6_loss: 0.1900 - val_dense_7_loss: 0.4996 - val_dense_8_loss: 1.6805 - val_dense_3_acc: 0.9931 - val_dense_4_acc: 0.9884 - val_dense_5_acc: 0.9686 - val_dense_6_acc: 0.9537 - val_dense_7_acc: 0.8750 - val_dense_8_acc: 0.6598\n",
      "Epoch 11/50\n",
      " - 1974s - loss: 2.0788 - dense_3_loss: 0.0231 - dense_4_loss: 0.0385 - dense_5_loss: 0.1015 - dense_6_loss: 0.1590 - dense_7_loss: 0.4339 - dense_8_loss: 1.3227 - dense_3_acc: 0.9937 - dense_4_acc: 0.9894 - dense_5_acc: 0.9713 - dense_6_acc: 0.9577 - dense_7_acc: 0.8824 - dense_8_acc: 0.6864 - val_loss: 2.5761 - val_dense_3_loss: 0.0298 - val_dense_4_loss: 0.0472 - val_dense_5_loss: 0.1221 - val_dense_6_loss: 0.1913 - val_dense_7_loss: 0.5035 - val_dense_8_loss: 1.6821 - val_dense_3_acc: 0.9925 - val_dense_4_acc: 0.9878 - val_dense_5_acc: 0.9676 - val_dense_6_acc: 0.9521 - val_dense_7_acc: 0.8744 - val_dense_8_acc: 0.6597\n",
      "Epoch 12/50\n",
      " - 1974s - loss: 2.0691 - dense_3_loss: 0.0233 - dense_4_loss: 0.0385 - dense_5_loss: 0.1003 - dense_6_loss: 0.1567 - dense_7_loss: 0.4315 - dense_8_loss: 1.3188 - dense_3_acc: 0.9937 - dense_4_acc: 0.9893 - dense_5_acc: 0.9711 - dense_6_acc: 0.9578 - dense_7_acc: 0.8830 - dense_8_acc: 0.6864 - val_loss: 2.5532 - val_dense_3_loss: 0.0304 - val_dense_4_loss: 0.0480 - val_dense_5_loss: 0.1202 - val_dense_6_loss: 0.1899 - val_dense_7_loss: 0.4962 - val_dense_8_loss: 1.6685 - val_dense_3_acc: 0.9925 - val_dense_4_acc: 0.9879 - val_dense_5_acc: 0.9684 - val_dense_6_acc: 0.9531 - val_dense_7_acc: 0.8748 - val_dense_8_acc: 0.6604\n",
      "Epoch 13/50\n",
      " - 1973s - loss: 2.0777 - dense_3_loss: 0.0237 - dense_4_loss: 0.0391 - dense_5_loss: 0.1013 - dense_6_loss: 0.1592 - dense_7_loss: 0.4338 - dense_8_loss: 1.3206 - dense_3_acc: 0.9937 - dense_4_acc: 0.9893 - dense_5_acc: 0.9713 - dense_6_acc: 0.9578 - dense_7_acc: 0.8830 - dense_8_acc: 0.6868 - val_loss: 2.5489 - val_dense_3_loss: 0.0298 - val_dense_4_loss: 0.0469 - val_dense_5_loss: 0.1196 - val_dense_6_loss: 0.1873 - val_dense_7_loss: 0.4964 - val_dense_8_loss: 1.6688 - val_dense_3_acc: 0.9925 - val_dense_4_acc: 0.9881 - val_dense_5_acc: 0.9685 - val_dense_6_acc: 0.9535 - val_dense_7_acc: 0.8755 - val_dense_8_acc: 0.6603\n",
      "Epoch 14/50\n",
      " - 1975s - loss: 2.0666 - dense_3_loss: 0.0228 - dense_4_loss: 0.0383 - dense_5_loss: 0.1011 - dense_6_loss: 0.1573 - dense_7_loss: 0.4308 - dense_8_loss: 1.3162 - dense_3_acc: 0.9939 - dense_4_acc: 0.9895 - dense_5_acc: 0.9711 - dense_6_acc: 0.9580 - dense_7_acc: 0.8832 - dense_8_acc: 0.6864 - val_loss: 2.5469 - val_dense_3_loss: 0.0299 - val_dense_4_loss: 0.0464 - val_dense_5_loss: 0.1206 - val_dense_6_loss: 0.1881 - val_dense_7_loss: 0.4944 - val_dense_8_loss: 1.6675 - val_dense_3_acc: 0.9929 - val_dense_4_acc: 0.9883 - val_dense_5_acc: 0.9685 - val_dense_6_acc: 0.9529 - val_dense_7_acc: 0.8765 - val_dense_8_acc: 0.6613\n",
      "Epoch 15/50\n",
      " - 1973s - loss: 2.0663 - dense_3_loss: 0.0237 - dense_4_loss: 0.0390 - dense_5_loss: 0.1009 - dense_6_loss: 0.1580 - dense_7_loss: 0.4305 - dense_8_loss: 1.3142 - dense_3_acc: 0.9936 - dense_4_acc: 0.9893 - dense_5_acc: 0.9711 - dense_6_acc: 0.9579 - dense_7_acc: 0.8832 - dense_8_acc: 0.6870 - val_loss: 2.5210 - val_dense_3_loss: 0.0291 - val_dense_4_loss: 0.0465 - val_dense_5_loss: 0.1190 - val_dense_6_loss: 0.1850 - val_dense_7_loss: 0.4849 - val_dense_8_loss: 1.6566 - val_dense_3_acc: 0.9931 - val_dense_4_acc: 0.9887 - val_dense_5_acc: 0.9689 - val_dense_6_acc: 0.9547 - val_dense_7_acc: 0.8785 - val_dense_8_acc: 0.6631\n",
      "Epoch 16/50\n",
      " - 1972s - loss: 2.0590 - dense_3_loss: 0.0232 - dense_4_loss: 0.0385 - dense_5_loss: 0.1004 - dense_6_loss: 0.1568 - dense_7_loss: 0.4283 - dense_8_loss: 1.3118 - dense_3_acc: 0.9938 - dense_4_acc: 0.9894 - dense_5_acc: 0.9712 - dense_6_acc: 0.9578 - dense_7_acc: 0.8834 - dense_8_acc: 0.6873 - val_loss: 2.5331 - val_dense_3_loss: 0.0288 - val_dense_4_loss: 0.0465 - val_dense_5_loss: 0.1186 - val_dense_6_loss: 0.1879 - val_dense_7_loss: 0.4902 - val_dense_8_loss: 1.6610 - val_dense_3_acc: 0.9929 - val_dense_4_acc: 0.9882 - val_dense_5_acc: 0.9684 - val_dense_6_acc: 0.9535 - val_dense_7_acc: 0.8772 - val_dense_8_acc: 0.6622\n",
      "Epoch 17/50\n",
      " - 1972s - loss: 2.0525 - dense_3_loss: 0.0234 - dense_4_loss: 0.0387 - dense_5_loss: 0.0994 - dense_6_loss: 0.1543 - dense_7_loss: 0.4275 - dense_8_loss: 1.3091 - dense_3_acc: 0.9938 - dense_4_acc: 0.9895 - dense_5_acc: 0.9717 - dense_6_acc: 0.9588 - dense_7_acc: 0.8835 - dense_8_acc: 0.6875 - val_loss: 2.5515 - val_dense_3_loss: 0.0304 - val_dense_4_loss: 0.0475 - val_dense_5_loss: 0.1217 - val_dense_6_loss: 0.1892 - val_dense_7_loss: 0.4970 - val_dense_8_loss: 1.6656 - val_dense_3_acc: 0.9926 - val_dense_4_acc: 0.9881 - val_dense_5_acc: 0.9678 - val_dense_6_acc: 0.9528 - val_dense_7_acc: 0.8743 - val_dense_8_acc: 0.6606\n",
      "Epoch 18/50\n"
     ]
    },
    {
     "ename": "KeyboardInterrupt",
     "evalue": "ignored",
     "output_type": "error",
     "traceback": [
      "\u001b[0;31m---------------------------------------------------------------------------\u001b[0m",
      "\u001b[0;31mKeyboardInterrupt\u001b[0m                         Traceback (most recent call last)",
      "\u001b[0;32m<ipython-input-27-cfce87972ea7>\u001b[0m in \u001b[0;36m<module>\u001b[0;34m()\u001b[0m\n\u001b[1;32m     13\u001b[0m                 \u001b[0;34m(\u001b[0m\u001b[0mvalid\u001b[0m\u001b[0;34m,\u001b[0m\u001b[0mbatch_size\u001b[0m\u001b[0;34m=\u001b[0m\u001b[0mbatch_size\u001b[0m\u001b[0;34m,\u001b[0m\u001b[0mlen1\u001b[0m\u001b[0;34m=\u001b[0m\u001b[0;36m50\u001b[0m\u001b[0;34m)\u001b[0m\u001b[0;34m,\u001b[0m\u001b[0;34m\u001b[0m\u001b[0m\n\u001b[1;32m     14\u001b[0m                 \u001b[0mvalidation_steps\u001b[0m\u001b[0;34m=\u001b[0m\u001b[0mvalid\u001b[0m\u001b[0;34m.\u001b[0m\u001b[0mshape\u001b[0m\u001b[0;34m[\u001b[0m\u001b[0;36m0\u001b[0m\u001b[0;34m]\u001b[0m\u001b[0;34m//\u001b[0m\u001b[0mbatch_size\u001b[0m\u001b[0;34m,\u001b[0m\u001b[0;34m\u001b[0m\u001b[0m\n\u001b[0;32m---> 15\u001b[0;31m                 verbose=2,callbacks=[Checkpoint,csv_logger,EarlyStop])\n\u001b[0m",
      "\u001b[0;32m/usr/local/lib/python3.6/dist-packages/keras/legacy/interfaces.py\u001b[0m in \u001b[0;36mwrapper\u001b[0;34m(*args, **kwargs)\u001b[0m\n\u001b[1;32m     89\u001b[0m                 warnings.warn('Update your `' + object_name +\n\u001b[1;32m     90\u001b[0m                               '` call to the Keras 2 API: ' + signature, stacklevel=2)\n\u001b[0;32m---> 91\u001b[0;31m             \u001b[0;32mreturn\u001b[0m \u001b[0mfunc\u001b[0m\u001b[0;34m(\u001b[0m\u001b[0;34m*\u001b[0m\u001b[0margs\u001b[0m\u001b[0;34m,\u001b[0m \u001b[0;34m**\u001b[0m\u001b[0mkwargs\u001b[0m\u001b[0;34m)\u001b[0m\u001b[0;34m\u001b[0m\u001b[0m\n\u001b[0m\u001b[1;32m     92\u001b[0m         \u001b[0mwrapper\u001b[0m\u001b[0;34m.\u001b[0m\u001b[0m_original_function\u001b[0m \u001b[0;34m=\u001b[0m \u001b[0mfunc\u001b[0m\u001b[0;34m\u001b[0m\u001b[0m\n\u001b[1;32m     93\u001b[0m         \u001b[0;32mreturn\u001b[0m \u001b[0mwrapper\u001b[0m\u001b[0;34m\u001b[0m\u001b[0m\n",
      "\u001b[0;32m/usr/local/lib/python3.6/dist-packages/keras/engine/training.py\u001b[0m in \u001b[0;36mfit_generator\u001b[0;34m(self, generator, steps_per_epoch, epochs, verbose, callbacks, validation_data, validation_steps, class_weight, max_queue_size, workers, use_multiprocessing, shuffle, initial_epoch)\u001b[0m\n\u001b[1;32m   1413\u001b[0m             \u001b[0muse_multiprocessing\u001b[0m\u001b[0;34m=\u001b[0m\u001b[0muse_multiprocessing\u001b[0m\u001b[0;34m,\u001b[0m\u001b[0;34m\u001b[0m\u001b[0m\n\u001b[1;32m   1414\u001b[0m             \u001b[0mshuffle\u001b[0m\u001b[0;34m=\u001b[0m\u001b[0mshuffle\u001b[0m\u001b[0;34m,\u001b[0m\u001b[0;34m\u001b[0m\u001b[0m\n\u001b[0;32m-> 1415\u001b[0;31m             initial_epoch=initial_epoch)\n\u001b[0m\u001b[1;32m   1416\u001b[0m \u001b[0;34m\u001b[0m\u001b[0m\n\u001b[1;32m   1417\u001b[0m     \u001b[0;34m@\u001b[0m\u001b[0minterfaces\u001b[0m\u001b[0;34m.\u001b[0m\u001b[0mlegacy_generator_methods_support\u001b[0m\u001b[0;34m\u001b[0m\u001b[0m\n",
      "\u001b[0;32m/usr/local/lib/python3.6/dist-packages/keras/engine/training_generator.py\u001b[0m in \u001b[0;36mfit_generator\u001b[0;34m(model, generator, steps_per_epoch, epochs, verbose, callbacks, validation_data, validation_steps, class_weight, max_queue_size, workers, use_multiprocessing, shuffle, initial_epoch)\u001b[0m\n\u001b[1;32m    211\u001b[0m                 outs = model.train_on_batch(x, y,\n\u001b[1;32m    212\u001b[0m                                             \u001b[0msample_weight\u001b[0m\u001b[0;34m=\u001b[0m\u001b[0msample_weight\u001b[0m\u001b[0;34m,\u001b[0m\u001b[0;34m\u001b[0m\u001b[0m\n\u001b[0;32m--> 213\u001b[0;31m                                             class_weight=class_weight)\n\u001b[0m\u001b[1;32m    214\u001b[0m \u001b[0;34m\u001b[0m\u001b[0m\n\u001b[1;32m    215\u001b[0m                 \u001b[0mouts\u001b[0m \u001b[0;34m=\u001b[0m \u001b[0mto_list\u001b[0m\u001b[0;34m(\u001b[0m\u001b[0mouts\u001b[0m\u001b[0;34m)\u001b[0m\u001b[0;34m\u001b[0m\u001b[0m\n",
      "\u001b[0;32m/usr/local/lib/python3.6/dist-packages/keras/engine/training.py\u001b[0m in \u001b[0;36mtrain_on_batch\u001b[0;34m(self, x, y, sample_weight, class_weight)\u001b[0m\n\u001b[1;32m   1213\u001b[0m             \u001b[0mins\u001b[0m \u001b[0;34m=\u001b[0m \u001b[0mx\u001b[0m \u001b[0;34m+\u001b[0m \u001b[0my\u001b[0m \u001b[0;34m+\u001b[0m \u001b[0msample_weights\u001b[0m\u001b[0;34m\u001b[0m\u001b[0m\n\u001b[1;32m   1214\u001b[0m         \u001b[0mself\u001b[0m\u001b[0;34m.\u001b[0m\u001b[0m_make_train_function\u001b[0m\u001b[0;34m(\u001b[0m\u001b[0;34m)\u001b[0m\u001b[0;34m\u001b[0m\u001b[0m\n\u001b[0;32m-> 1215\u001b[0;31m         \u001b[0moutputs\u001b[0m \u001b[0;34m=\u001b[0m \u001b[0mself\u001b[0m\u001b[0;34m.\u001b[0m\u001b[0mtrain_function\u001b[0m\u001b[0;34m(\u001b[0m\u001b[0mins\u001b[0m\u001b[0;34m)\u001b[0m\u001b[0;34m\u001b[0m\u001b[0m\n\u001b[0m\u001b[1;32m   1216\u001b[0m         \u001b[0;32mreturn\u001b[0m \u001b[0munpack_singleton\u001b[0m\u001b[0;34m(\u001b[0m\u001b[0moutputs\u001b[0m\u001b[0;34m)\u001b[0m\u001b[0;34m\u001b[0m\u001b[0m\n\u001b[1;32m   1217\u001b[0m \u001b[0;34m\u001b[0m\u001b[0m\n",
      "\u001b[0;32m/usr/local/lib/python3.6/dist-packages/keras/backend/tensorflow_backend.py\u001b[0m in \u001b[0;36m__call__\u001b[0;34m(self, inputs)\u001b[0m\n\u001b[1;32m   2664\u001b[0m                 \u001b[0;32mreturn\u001b[0m \u001b[0mself\u001b[0m\u001b[0;34m.\u001b[0m\u001b[0m_legacy_call\u001b[0m\u001b[0;34m(\u001b[0m\u001b[0minputs\u001b[0m\u001b[0;34m)\u001b[0m\u001b[0;34m\u001b[0m\u001b[0m\n\u001b[1;32m   2665\u001b[0m \u001b[0;34m\u001b[0m\u001b[0m\n\u001b[0;32m-> 2666\u001b[0;31m             \u001b[0;32mreturn\u001b[0m \u001b[0mself\u001b[0m\u001b[0;34m.\u001b[0m\u001b[0m_call\u001b[0m\u001b[0;34m(\u001b[0m\u001b[0minputs\u001b[0m\u001b[0;34m)\u001b[0m\u001b[0;34m\u001b[0m\u001b[0m\n\u001b[0m\u001b[1;32m   2667\u001b[0m         \u001b[0;32melse\u001b[0m\u001b[0;34m:\u001b[0m\u001b[0;34m\u001b[0m\u001b[0m\n\u001b[1;32m   2668\u001b[0m             \u001b[0;32mif\u001b[0m \u001b[0mpy_any\u001b[0m\u001b[0;34m(\u001b[0m\u001b[0mis_tensor\u001b[0m\u001b[0;34m(\u001b[0m\u001b[0mx\u001b[0m\u001b[0;34m)\u001b[0m \u001b[0;32mfor\u001b[0m \u001b[0mx\u001b[0m \u001b[0;32min\u001b[0m \u001b[0minputs\u001b[0m\u001b[0;34m)\u001b[0m\u001b[0;34m:\u001b[0m\u001b[0;34m\u001b[0m\u001b[0m\n",
      "\u001b[0;32m/usr/local/lib/python3.6/dist-packages/keras/backend/tensorflow_backend.py\u001b[0m in \u001b[0;36m_call\u001b[0;34m(self, inputs)\u001b[0m\n\u001b[1;32m   2634\u001b[0m                                 \u001b[0msymbol_vals\u001b[0m\u001b[0;34m,\u001b[0m\u001b[0;34m\u001b[0m\u001b[0m\n\u001b[1;32m   2635\u001b[0m                                 session)\n\u001b[0;32m-> 2636\u001b[0;31m         \u001b[0mfetched\u001b[0m \u001b[0;34m=\u001b[0m \u001b[0mself\u001b[0m\u001b[0;34m.\u001b[0m\u001b[0m_callable_fn\u001b[0m\u001b[0;34m(\u001b[0m\u001b[0;34m*\u001b[0m\u001b[0marray_vals\u001b[0m\u001b[0;34m)\u001b[0m\u001b[0;34m\u001b[0m\u001b[0m\n\u001b[0m\u001b[1;32m   2637\u001b[0m         \u001b[0;32mreturn\u001b[0m \u001b[0mfetched\u001b[0m\u001b[0;34m[\u001b[0m\u001b[0;34m:\u001b[0m\u001b[0mlen\u001b[0m\u001b[0;34m(\u001b[0m\u001b[0mself\u001b[0m\u001b[0;34m.\u001b[0m\u001b[0moutputs\u001b[0m\u001b[0;34m)\u001b[0m\u001b[0;34m]\u001b[0m\u001b[0;34m\u001b[0m\u001b[0m\n\u001b[1;32m   2638\u001b[0m \u001b[0;34m\u001b[0m\u001b[0m\n",
      "\u001b[0;32m/usr/local/lib/python3.6/dist-packages/tensorflow/python/client/session.py\u001b[0m in \u001b[0;36m__call__\u001b[0;34m(self, *args, **kwargs)\u001b[0m\n\u001b[1;32m   1380\u001b[0m           ret = tf_session.TF_SessionRunCallable(\n\u001b[1;32m   1381\u001b[0m               \u001b[0mself\u001b[0m\u001b[0;34m.\u001b[0m\u001b[0m_session\u001b[0m\u001b[0;34m.\u001b[0m\u001b[0m_session\u001b[0m\u001b[0;34m,\u001b[0m \u001b[0mself\u001b[0m\u001b[0;34m.\u001b[0m\u001b[0m_handle\u001b[0m\u001b[0;34m,\u001b[0m \u001b[0margs\u001b[0m\u001b[0;34m,\u001b[0m \u001b[0mstatus\u001b[0m\u001b[0;34m,\u001b[0m\u001b[0;34m\u001b[0m\u001b[0m\n\u001b[0;32m-> 1382\u001b[0;31m               run_metadata_ptr)\n\u001b[0m\u001b[1;32m   1383\u001b[0m         \u001b[0;32mif\u001b[0m \u001b[0mrun_metadata\u001b[0m\u001b[0;34m:\u001b[0m\u001b[0;34m\u001b[0m\u001b[0m\n\u001b[1;32m   1384\u001b[0m           \u001b[0mproto_data\u001b[0m \u001b[0;34m=\u001b[0m \u001b[0mtf_session\u001b[0m\u001b[0;34m.\u001b[0m\u001b[0mTF_GetBuffer\u001b[0m\u001b[0;34m(\u001b[0m\u001b[0mrun_metadata_ptr\u001b[0m\u001b[0;34m)\u001b[0m\u001b[0;34m\u001b[0m\u001b[0m\n",
      "\u001b[0;31mKeyboardInterrupt\u001b[0m: "
     ]
    }
   ],
   "source": [
    "batch_size = 250\n",
    "m.load_weights('./PCR_SILVA_all/W2V/ResNet_like_N_big.hdfs')\n",
    "filepath = ''.join('./PCR_SILVA_all/W2V/ResNet_like_N_big_len50.hdfs')\n",
    "Checkpoint = ModelCheckpoint(filepath,monitor='val_loss', save_best_only=True,\n",
    "                             save_weights_only=True,period=1)\n",
    "csv_logger = CSVLogger('./PCR_SILVA_all/W2V/ResNet_like_N_big_len50.log')\n",
    "EarlyStop = EarlyStopping(monitor='val_loss', min_delta=0, patience=5, verbose=0, mode='auto')\n",
    "\n",
    "m.fit_generator(simulate_multioutput_ngs_generator(train,batch_size=batch_size,len1=50),\n",
    "                epochs=50,shuffle=True,\n",
    "                steps_per_epoch=train.shape[0]//batch_size,\n",
    "                validation_data=simulate_multioutput_ngs_generator\n",
    "                (valid,batch_size=batch_size,len1=50),\n",
    "                validation_steps=valid.shape[0]//batch_size,\n",
    "                verbose=2,callbacks=[Checkpoint,csv_logger,EarlyStop])"
   ]
  },
  {
   "cell_type": "markdown",
   "metadata": {
    "colab_type": "text",
    "id": "-SQ1Mc2suwIw"
   },
   "source": [
    "### ResNet_Like Network_No_W2V"
   ]
  },
  {
   "cell_type": "code",
   "execution_count": 0,
   "metadata": {
    "colab": {},
    "colab_type": "code",
    "collapsed": true,
    "id": "KmRTbEKHu0PK"
   },
   "outputs": [],
   "source": [
    "#inp = Input(shape=(max_len,), dtype='uint8')\n",
    "inp = Input(shape=(max_len,),dtype='uint16')\n",
    "#main = Embedding(max_features, vector_size, weights=[embedding_matrix],trainable=False)(inp)\n",
    "main = Embedding(max_features, 128)(inp)\n",
    "#main = SpatialDropout1D(dr_rate)(main)\n",
    "main = Conv1D(filters=64, kernel_size=3, padding='same')(main)\n",
    "i_l1 = MaxPooling1D(pool_size=2)(main)\n",
    "\n",
    "main = Conv1D(filters=64, kernel_size=3, padding='same')(main)\n",
    "main = BatchNormalization()(main)\n",
    "main = Activation('relu')(main)\n",
    "main = Conv1D(filters=64, kernel_size=3, padding='same')(main)\n",
    "main = concatenate([main, i_l1],axis=1)\n",
    "main = BatchNormalization()(main)\n",
    "main = Activation('relu')(main)\n",
    "main = MaxPooling1D(pool_size=2)(main)\n",
    "\n",
    "i_l1 = Conv1D(filters=128, kernel_size=1, padding='same')(main)\n",
    "main = Conv1D(filters=128, kernel_size=3, padding='same')(main)\n",
    "main = BatchNormalization()(main)\n",
    "main = Activation('relu')(main)\n",
    "main = Conv1D(filters=128, kernel_size=3, padding='same')(main)\n",
    "main = concatenate([main, i_l1],axis=1)\n",
    "main = BatchNormalization()(main)\n",
    "main = Activation('relu')(main)\n",
    "main = MaxPooling1D(pool_size=2)(main)\n",
    "\n",
    "i_l1 = Conv1D(filters=256, kernel_size=1, padding='same')(main)\n",
    "main = Conv1D(filters=256, kernel_size=3, padding='same')(main)\n",
    "main = BatchNormalization()(main)\n",
    "main = Activation('relu')(main)\n",
    "main = Conv1D(filters=256, kernel_size=3, padding='same')(main)\n",
    "main = concatenate([main, i_l1],axis=1)\n",
    "main = BatchNormalization()(main)\n",
    "main = Activation('relu')(main)\n",
    "main = MaxPooling1D(pool_size=2)(main)\n",
    "\n",
    "i_l1 = Conv1D(filters=512, kernel_size=1, padding='same')(main)\n",
    "main = Conv1D(filters=512, kernel_size=3, padding='same')(main)\n",
    "main = BatchNormalization()(main)\n",
    "main = Activation('relu')(main)\n",
    "main = Conv1D(filters=512, kernel_size=3, padding='same')(main)\n",
    "main = concatenate([main, i_l1],axis=1)\n",
    "main = BatchNormalization()(main)\n",
    "main = Activation('relu')(main)\n",
    "main = MaxPooling1D(pool_size=2)(main)\n",
    "\n",
    "main = GlobalMaxPool1D()(main)\n",
    "main = Dense(1024, activation='relu')(main)  # Should be 4096\n",
    "main = Dense(512, activation='relu')(main)  # Should be 2048\n",
    "\n",
    "out1 = Dense(classes_1,activation='softmax')(main)\n",
    "out2 = Dense(classes_2,activation='softmax')(main)\n",
    "out3 = Dense(classes_3,activation='softmax')(main)\n",
    "out4 = Dense(classes_4,activation='softmax')(main)\n",
    "out5 = Dense(classes_5,activation='softmax')(main)\n",
    "out6 = Dense(classes_6,activation='softmax')(main)\n",
    "\n",
    "m = Model(inputs=[inp], outputs=[out1,out2,out3,out4,out5,out6])\n",
    "\n",
    "optimizer = AdamW(lr=0.001, beta_1=0.9, beta_2=0.999, weight_decay=1e-4, epsilon=1e-8, decay=0.)\n",
    "m.compile(loss='sparse_categorical_crossentropy',optimizer=optimizer,metrics=['acc'])"
   ]
  },
  {
   "cell_type": "code",
   "execution_count": 0,
   "metadata": {
    "colab": {
     "base_uri": "https://localhost:8080/",
     "height": 274
    },
    "colab_type": "code",
    "collapsed": false,
    "id": "PdQrfrnSu98H",
    "outputId": "b08d3e5d-6d91-4d1c-b505-87f3c51068b9"
   },
   "outputs": [
    {
     "name": "stdout",
     "output_type": "stream",
     "text": [
      "Epoch 1/100\n",
      " - 1997s - loss: 85.5805 - dense_3_loss: 12.6814 - dense_4_loss: 12.7402 - dense_5_loss: 14.9921 - dense_6_loss: 15.0239 - dense_7_loss: 15.0491 - dense_8_loss: 15.0939 - dense_3_acc: 0.2132 - dense_4_acc: 0.2096 - dense_5_acc: 0.0699 - dense_6_acc: 0.0679 - dense_7_acc: 0.0663 - dense_8_acc: 0.0636 - val_loss: 85.8867 - val_dense_3_loss: 12.7245 - val_dense_4_loss: 12.7848 - val_dense_5_loss: 15.0452 - val_dense_6_loss: 15.0792 - val_dense_7_loss: 15.1055 - val_dense_8_loss: 15.1476 - val_dense_3_acc: 0.2105 - val_dense_4_acc: 0.2068 - val_dense_5_acc: 0.0666 - val_dense_6_acc: 0.0645 - val_dense_7_acc: 0.0628 - val_dense_8_acc: 0.0603\n",
      "Epoch 2/100\n",
      " - 1923s - loss: 85.5805 - dense_3_loss: 12.6814 - dense_4_loss: 12.7402 - dense_5_loss: 14.9921 - dense_6_loss: 15.0239 - dense_7_loss: 15.0491 - dense_8_loss: 15.0939 - dense_3_acc: 0.2132 - dense_4_acc: 0.2096 - dense_5_acc: 0.0699 - dense_6_acc: 0.0679 - dense_7_acc: 0.0663 - dense_8_acc: 0.0636 - val_loss: 85.8867 - val_dense_3_loss: 12.7245 - val_dense_4_loss: 12.7848 - val_dense_5_loss: 15.0452 - val_dense_6_loss: 15.0792 - val_dense_7_loss: 15.1055 - val_dense_8_loss: 15.1476 - val_dense_3_acc: 0.2105 - val_dense_4_acc: 0.2068 - val_dense_5_acc: 0.0666 - val_dense_6_acc: 0.0645 - val_dense_7_acc: 0.0628 - val_dense_8_acc: 0.0603\n",
      "Epoch 3/100\n",
      " - 1923s - loss: 85.5805 - dense_3_loss: 12.6814 - dense_4_loss: 12.7402 - dense_5_loss: 14.9921 - dense_6_loss: 15.0239 - dense_7_loss: 15.0491 - dense_8_loss: 15.0939 - dense_3_acc: 0.2132 - dense_4_acc: 0.2096 - dense_5_acc: 0.0699 - dense_6_acc: 0.0679 - dense_7_acc: 0.0663 - dense_8_acc: 0.0636 - val_loss: 85.8867 - val_dense_3_loss: 12.7245 - val_dense_4_loss: 12.7848 - val_dense_5_loss: 15.0452 - val_dense_6_loss: 15.0792 - val_dense_7_loss: 15.1055 - val_dense_8_loss: 15.1476 - val_dense_3_acc: 0.2105 - val_dense_4_acc: 0.2068 - val_dense_5_acc: 0.0666 - val_dense_6_acc: 0.0645 - val_dense_7_acc: 0.0628 - val_dense_8_acc: 0.0603\n",
      "Epoch 4/100\n",
      " - 1922s - loss: 85.5805 - dense_3_loss: 12.6814 - dense_4_loss: 12.7402 - dense_5_loss: 14.9921 - dense_6_loss: 15.0239 - dense_7_loss: 15.0491 - dense_8_loss: 15.0939 - dense_3_acc: 0.2132 - dense_4_acc: 0.2096 - dense_5_acc: 0.0699 - dense_6_acc: 0.0679 - dense_7_acc: 0.0663 - dense_8_acc: 0.0636 - val_loss: 85.8867 - val_dense_3_loss: 12.7245 - val_dense_4_loss: 12.7848 - val_dense_5_loss: 15.0452 - val_dense_6_loss: 15.0792 - val_dense_7_loss: 15.1055 - val_dense_8_loss: 15.1476 - val_dense_3_acc: 0.2105 - val_dense_4_acc: 0.2068 - val_dense_5_acc: 0.0666 - val_dense_6_acc: 0.0645 - val_dense_7_acc: 0.0628 - val_dense_8_acc: 0.0603\n",
      "Epoch 5/100\n",
      " - 1925s - loss: 85.5805 - dense_3_loss: 12.6814 - dense_4_loss: 12.7402 - dense_5_loss: 14.9921 - dense_6_loss: 15.0239 - dense_7_loss: 15.0491 - dense_8_loss: 15.0939 - dense_3_acc: 0.2132 - dense_4_acc: 0.2096 - dense_5_acc: 0.0699 - dense_6_acc: 0.0679 - dense_7_acc: 0.0663 - dense_8_acc: 0.0636 - val_loss: 85.8867 - val_dense_3_loss: 12.7245 - val_dense_4_loss: 12.7848 - val_dense_5_loss: 15.0452 - val_dense_6_loss: 15.0792 - val_dense_7_loss: 15.1055 - val_dense_8_loss: 15.1476 - val_dense_3_acc: 0.2105 - val_dense_4_acc: 0.2068 - val_dense_5_acc: 0.0666 - val_dense_6_acc: 0.0645 - val_dense_7_acc: 0.0628 - val_dense_8_acc: 0.0603\n",
      "Epoch 6/100\n",
      " - 1930s - loss: 85.5805 - dense_3_loss: 12.6814 - dense_4_loss: 12.7402 - dense_5_loss: 14.9921 - dense_6_loss: 15.0239 - dense_7_loss: 15.0491 - dense_8_loss: 15.0939 - dense_3_acc: 0.2132 - dense_4_acc: 0.2096 - dense_5_acc: 0.0699 - dense_6_acc: 0.0679 - dense_7_acc: 0.0663 - dense_8_acc: 0.0636 - val_loss: 85.8867 - val_dense_3_loss: 12.7245 - val_dense_4_loss: 12.7848 - val_dense_5_loss: 15.0452 - val_dense_6_loss: 15.0792 - val_dense_7_loss: 15.1055 - val_dense_8_loss: 15.1476 - val_dense_3_acc: 0.2105 - val_dense_4_acc: 0.2068 - val_dense_5_acc: 0.0666 - val_dense_6_acc: 0.0645 - val_dense_7_acc: 0.0628 - val_dense_8_acc: 0.0603\n"
     ]
    },
    {
     "data": {
      "text/plain": [
       "<keras.callbacks.History at 0x7fee24728b38>"
      ]
     },
     "execution_count": 27,
     "metadata": {
      "tags": []
     },
     "output_type": "execute_result"
    }
   ],
   "source": [
    "batch_size = 250\n",
    "m.load_weights('./PCR_SILVA_all/W2V/ResNet_like_N_No_W2V.hdfs')\n",
    "filepath = ''.join('./PCR_SILVA_all/W2V/ResNet_like_N_No_W2V_len50.hdfs')\n",
    "Checkpoint = ModelCheckpoint(filepath,monitor='val_loss', save_best_only=True,\n",
    "                             save_weights_only=True,period=1)\n",
    "csv_logger = CSVLogger('./PCR_SILVA_all/W2V/ResNet_like_N_No_W2V_len50.log')\n",
    "EarlyStop = EarlyStopping(monitor='val_loss', min_delta=0, patience=5, verbose=0, mode='auto')\n",
    "\n",
    "m.fit_generator(simulate_multioutput_ngs_generator(train,batch_size=batch_size,len1=50),\n",
    "                epochs=100,shuffle=True,\n",
    "                steps_per_epoch=train.shape[0]//batch_size,\n",
    "                validation_data=simulate_multioutput_ngs_generator\n",
    "                (valid,batch_size=batch_size,len1=50),\n",
    "                validation_steps=valid.shape[0]//batch_size,\n",
    "                verbose=2,callbacks=[Checkpoint,csv_logger,EarlyStop])"
   ]
  },
  {
   "cell_type": "markdown",
   "metadata": {
    "colab_type": "text",
    "id": "FgYlbvgpCll9"
   },
   "source": [
    "### Fixed_Len ResNet like"
   ]
  },
  {
   "cell_type": "code",
   "execution_count": 0,
   "metadata": {
    "colab": {},
    "colab_type": "code",
    "collapsed": true,
    "id": "J_ouI8I9Crg7"
   },
   "outputs": [],
   "source": [
    "inp = Input(shape=(max_len,),dtype='uint16')\n",
    "main = Embedding(max_features, vector_size, weights=[embedding_matrix],trainable=False)(inp)\n",
    "#main = Embedding(max_features, 128)(inp)\n",
    "#main = SpatialDropout1D(dr_rate)(main)\n",
    "main = Conv1D(filters=64, kernel_size=3, padding='same')(main)\n",
    "i_l1 = MaxPooling1D(pool_size=2)(main)\n",
    "\n",
    "main = Conv1D(filters=64, kernel_size=3, padding='same')(main)\n",
    "main = BatchNormalization()(main)\n",
    "main = Activation('relu')(main)\n",
    "main = Conv1D(filters=64, kernel_size=3, padding='same')(main)\n",
    "main = concatenate([main, i_l1],axis=1)\n",
    "main = BatchNormalization()(main)\n",
    "main = Activation('relu')(main)\n",
    "main = MaxPooling1D(pool_size=2)(main)\n",
    "\n",
    "i_l1 = Conv1D(filters=128, kernel_size=1, padding='same')(main)\n",
    "main = Conv1D(filters=128, kernel_size=3, padding='same')(main)\n",
    "main = BatchNormalization()(main)\n",
    "main = Activation('relu')(main)\n",
    "main = Conv1D(filters=128, kernel_size=3, padding='same')(main)\n",
    "main = concatenate([main, i_l1],axis=1)\n",
    "main = BatchNormalization()(main)\n",
    "main = Activation('relu')(main)\n",
    "main = MaxPooling1D(pool_size=2)(main)\n",
    "\n",
    "i_l1 = Conv1D(filters=256, kernel_size=1, padding='same')(main)\n",
    "main = Conv1D(filters=256, kernel_size=3, padding='same')(main)\n",
    "main = BatchNormalization()(main)\n",
    "main = Activation('relu')(main)\n",
    "main = Conv1D(filters=256, kernel_size=3, padding='same')(main)\n",
    "main = concatenate([main, i_l1],axis=1)\n",
    "main = BatchNormalization()(main)\n",
    "main = Activation('relu')(main)\n",
    "main = MaxPooling1D(pool_size=2)(main)\n",
    "\n",
    "i_l1 = Conv1D(filters=512, kernel_size=1, padding='same')(main)\n",
    "main = Conv1D(filters=512, kernel_size=3, padding='same')(main)\n",
    "main = BatchNormalization()(main)\n",
    "main = Activation('relu')(main)\n",
    "main = Conv1D(filters=512, kernel_size=3, padding='same')(main)\n",
    "main = concatenate([main, i_l1],axis=1)\n",
    "main = BatchNormalization()(main)\n",
    "main = Activation('relu')(main)\n",
    "main = MaxPooling1D(pool_size=2)(main)\n",
    "\n",
    "main = GlobalMaxPool1D()(main)\n",
    "main = Dense(1024, activation='relu')(main)  # Should be 4096\n",
    "main = Dense(512, activation='relu')(main)  # Should be 2048\n",
    "\n",
    "out1 = Dense(classes_1,activation='softmax')(main)\n",
    "out2 = Dense(classes_2,activation='softmax')(main)\n",
    "out3 = Dense(classes_3,activation='softmax')(main)\n",
    "out4 = Dense(classes_4,activation='softmax')(main)\n",
    "out5 = Dense(classes_5,activation='softmax')(main)\n",
    "out6 = Dense(classes_6,activation='softmax')(main)\n",
    "\n",
    "m = Model(inputs=[inp], outputs=[out1,out2,out3,out4,out5,out6])\n",
    "\n",
    "optimizer = AdamW(lr=0.001, beta_1=0.9, beta_2=0.999, weight_decay=1e-4, epsilon=1e-8, decay=0.)\n",
    "m.compile(loss='sparse_categorical_crossentropy',optimizer=optimizer,metrics=['acc'])"
   ]
  },
  {
   "cell_type": "code",
   "execution_count": 0,
   "metadata": {
    "colab": {},
    "colab_type": "code",
    "collapsed": true,
    "id": "fIDImZyhCsjV"
   },
   "outputs": [],
   "source": [
    "def simulate_multiooutput_ngs_generator_fixed_len(df,len1 = 100,batch_size=250):\n",
    "    y_sim_1,y_sim_2,y_sim_3,y_sim_4,y_sim_5,y_sim_6 = df['phylum-'].values,df['class_-'].values,df['order-'].values,df['family-'].values,df['genus-'].values,df['species-'].values\n",
    "    x_sim = df['encoded'].apply(lambda x : simulate_reads(x,len1=len1))\n",
    "    x_sim = pad_sequences(x_sim.values,maxlen=max_len)\n",
    "    x_sim = array(np.concatenate(x_sim).reshape(x_sim.shape[0],max_len).tolist()).astype('uint16')\n",
    "    samples_per_epoch = df.shape[0]\n",
    "    number_of_batches = samples_per_epoch//batch_size\n",
    "    counter=0\n",
    "\n",
    "    while counter <=number_of_batches :\n",
    "        X_batch = np.array(x_sim[batch_size*counter:batch_size*(counter+1)]).astype('uint16')\n",
    "        y_1 = y_sim_1[batch_size*counter:batch_size*(counter+1)].astype('uint8')\n",
    "        y_2 = y_sim_2[batch_size*counter:batch_size*(counter+1)].astype('uint8')\n",
    "        y_3 = y_sim_3[batch_size*counter:batch_size*(counter+1)].astype('uint8')\n",
    "        y_4 = y_sim_4[batch_size*counter:batch_size*(counter+1)].astype('uint16')\n",
    "        y_5 = y_sim_5[batch_size*counter:batch_size*(counter+1)].astype('uint16')\n",
    "        y_6 = y_sim_6[batch_size*counter:batch_size*(counter+1)].astype('uint16')\n",
    "        counter += 1\n",
    "        if counter ==number_of_batches:\n",
    "            counter = 0\n",
    "            del x_sim\n",
    "            y_sim_1,y_sim_2,y_sim_3,y_sim_4,y_sim_5,y_sim_6 = df['phylum-'].values,df['class_-'].values,df['order-'].values,df['family-'].values,df['genus-'].values,df['species-'].values\n",
    "            x_sim = df['encoded'].apply(lambda x : simulate_reads(x,len1=len1))\n",
    "            x_sim = pad_sequences(x_sim.values,maxlen=max_len)\n",
    "            x_sim = array(np.concatenate(x_sim).reshape(x_sim.shape[0],max_len).tolist()).astype('uint16')\n",
    "        yield X_batch,[y_1,y_2,y_3,y_4,y_5,y_6]"
   ]
  },
  {
   "cell_type": "code",
   "execution_count": 0,
   "metadata": {
    "colab": {
     "base_uri": "https://localhost:8080/",
     "height": 784
    },
    "colab_type": "code",
    "collapsed": false,
    "id": "Wj-RpmhQCx5z",
    "outputId": "a129995b-7801-4fbf-ef98-d736021fbc59"
   },
   "outputs": [
    {
     "name": "stdout",
     "output_type": "stream",
     "text": [
      "Epoch 1/47\n",
      " - 1992s - loss: 1.6019 - dense_3_loss: 0.0136 - dense_4_loss: 0.0195 - dense_5_loss: 0.0465 - dense_6_loss: 0.0796 - dense_7_loss: 0.2742 - dense_8_loss: 1.1687 - dense_3_acc: 0.9975 - dense_4_acc: 0.9965 - dense_5_acc: 0.9900 - dense_6_acc: 0.9829 - dense_7_acc: 0.9300 - dense_8_acc: 0.7205 - val_loss: 2.0037 - val_dense_3_loss: 0.0185 - val_dense_4_loss: 0.0256 - val_dense_5_loss: 0.0613 - val_dense_6_loss: 0.1025 - val_dense_7_loss: 0.3234 - val_dense_8_loss: 1.4724 - val_dense_3_acc: 0.9968 - val_dense_4_acc: 0.9955 - val_dense_5_acc: 0.9874 - val_dense_6_acc: 0.9790 - val_dense_7_acc: 0.9234 - val_dense_8_acc: 0.6956\n",
      "Epoch 2/47\n",
      " - 1924s - loss: 1.5654 - dense_3_loss: 0.0133 - dense_4_loss: 0.0192 - dense_5_loss: 0.0457 - dense_6_loss: 0.0774 - dense_7_loss: 0.2660 - dense_8_loss: 1.1437 - dense_3_acc: 0.9975 - dense_4_acc: 0.9966 - dense_5_acc: 0.9900 - dense_6_acc: 0.9832 - dense_7_acc: 0.9319 - dense_8_acc: 0.7226 - val_loss: 2.0026 - val_dense_3_loss: 0.0211 - val_dense_4_loss: 0.0278 - val_dense_5_loss: 0.0632 - val_dense_6_loss: 0.1049 - val_dense_7_loss: 0.3262 - val_dense_8_loss: 1.4594 - val_dense_3_acc: 0.9961 - val_dense_4_acc: 0.9951 - val_dense_5_acc: 0.9872 - val_dense_6_acc: 0.9787 - val_dense_7_acc: 0.9228 - val_dense_8_acc: 0.6945\n",
      "Epoch 3/47\n",
      " - 1925s - loss: 1.5420 - dense_3_loss: 0.0125 - dense_4_loss: 0.0184 - dense_5_loss: 0.0444 - dense_6_loss: 0.0753 - dense_7_loss: 0.2611 - dense_8_loss: 1.1304 - dense_3_acc: 0.9977 - dense_4_acc: 0.9966 - dense_5_acc: 0.9904 - dense_6_acc: 0.9837 - dense_7_acc: 0.9326 - dense_8_acc: 0.7244 - val_loss: 1.9644 - val_dense_3_loss: 0.0195 - val_dense_4_loss: 0.0272 - val_dense_5_loss: 0.0605 - val_dense_6_loss: 0.0996 - val_dense_7_loss: 0.3158 - val_dense_8_loss: 1.4418 - val_dense_3_acc: 0.9965 - val_dense_4_acc: 0.9955 - val_dense_5_acc: 0.9881 - val_dense_6_acc: 0.9802 - val_dense_7_acc: 0.9252 - val_dense_8_acc: 0.6973\n",
      "Epoch 4/47\n",
      " - 1923s - loss: 1.5194 - dense_3_loss: 0.0119 - dense_4_loss: 0.0176 - dense_5_loss: 0.0426 - dense_6_loss: 0.0726 - dense_7_loss: 0.2551 - dense_8_loss: 1.1196 - dense_3_acc: 0.9978 - dense_4_acc: 0.9969 - dense_5_acc: 0.9908 - dense_6_acc: 0.9845 - dense_7_acc: 0.9337 - dense_8_acc: 0.7259 - val_loss: 1.9759 - val_dense_3_loss: 0.0198 - val_dense_4_loss: 0.0278 - val_dense_5_loss: 0.0621 - val_dense_6_loss: 0.1013 - val_dense_7_loss: 0.3190 - val_dense_8_loss: 1.4459 - val_dense_3_acc: 0.9964 - val_dense_4_acc: 0.9952 - val_dense_5_acc: 0.9871 - val_dense_6_acc: 0.9794 - val_dense_7_acc: 0.9253 - val_dense_8_acc: 0.6982\n",
      "Epoch 5/47\n",
      " - 1923s - loss: 1.5077 - dense_3_loss: 0.0119 - dense_4_loss: 0.0174 - dense_5_loss: 0.0422 - dense_6_loss: 0.0718 - dense_7_loss: 0.2520 - dense_8_loss: 1.1125 - dense_3_acc: 0.9978 - dense_4_acc: 0.9969 - dense_5_acc: 0.9906 - dense_6_acc: 0.9844 - dense_7_acc: 0.9342 - dense_8_acc: 0.7267 - val_loss: 1.9040 - val_dense_3_loss: 0.0175 - val_dense_4_loss: 0.0245 - val_dense_5_loss: 0.0564 - val_dense_6_loss: 0.0938 - val_dense_7_loss: 0.2999 - val_dense_8_loss: 1.4119 - val_dense_3_acc: 0.9969 - val_dense_4_acc: 0.9959 - val_dense_5_acc: 0.9889 - val_dense_6_acc: 0.9815 - val_dense_7_acc: 0.9289 - val_dense_8_acc: 0.7023\n",
      "Epoch 6/47\n",
      " - 1945s - loss: 1.4853 - dense_3_loss: 0.0114 - dense_4_loss: 0.0168 - dense_5_loss: 0.0404 - dense_6_loss: 0.0692 - dense_7_loss: 0.2462 - dense_8_loss: 1.1013 - dense_3_acc: 0.9979 - dense_4_acc: 0.9970 - dense_5_acc: 0.9911 - dense_6_acc: 0.9850 - dense_7_acc: 0.9354 - dense_8_acc: 0.7289 - val_loss: 1.9200 - val_dense_3_loss: 0.0181 - val_dense_4_loss: 0.0251 - val_dense_5_loss: 0.0572 - val_dense_6_loss: 0.0967 - val_dense_7_loss: 0.3079 - val_dense_8_loss: 1.4149 - val_dense_3_acc: 0.9969 - val_dense_4_acc: 0.9957 - val_dense_5_acc: 0.9884 - val_dense_6_acc: 0.9805 - val_dense_7_acc: 0.9276 - val_dense_8_acc: 0.7014\n",
      "Epoch 7/47\n",
      " - 1933s - loss: 1.4754 - dense_3_loss: 0.0114 - dense_4_loss: 0.0166 - dense_5_loss: 0.0396 - dense_6_loss: 0.0677 - dense_7_loss: 0.2437 - dense_8_loss: 1.0963 - dense_3_acc: 0.9978 - dense_4_acc: 0.9969 - dense_5_acc: 0.9913 - dense_6_acc: 0.9853 - dense_7_acc: 0.9359 - dense_8_acc: 0.7290 - val_loss: 1.9247 - val_dense_3_loss: 0.0174 - val_dense_4_loss: 0.0245 - val_dense_5_loss: 0.0577 - val_dense_6_loss: 0.0969 - val_dense_7_loss: 0.3064 - val_dense_8_loss: 1.4217 - val_dense_3_acc: 0.9970 - val_dense_4_acc: 0.9959 - val_dense_5_acc: 0.9885 - val_dense_6_acc: 0.9806 - val_dense_7_acc: 0.9275 - val_dense_8_acc: 0.7003\n",
      "Epoch 8/47\n",
      " - 1922s - loss: 1.4654 - dense_3_loss: 0.0112 - dense_4_loss: 0.0167 - dense_5_loss: 0.0395 - dense_6_loss: 0.0674 - dense_7_loss: 0.2413 - dense_8_loss: 1.0893 - dense_3_acc: 0.9980 - dense_4_acc: 0.9971 - dense_5_acc: 0.9914 - dense_6_acc: 0.9854 - dense_7_acc: 0.9370 - dense_8_acc: 0.7307 - val_loss: 1.8930 - val_dense_3_loss: 0.0172 - val_dense_4_loss: 0.0238 - val_dense_5_loss: 0.0561 - val_dense_6_loss: 0.0929 - val_dense_7_loss: 0.2972 - val_dense_8_loss: 1.4058 - val_dense_3_acc: 0.9971 - val_dense_4_acc: 0.9961 - val_dense_5_acc: 0.9887 - val_dense_6_acc: 0.9817 - val_dense_7_acc: 0.9304 - val_dense_8_acc: 0.7038\n",
      "Epoch 9/47\n",
      " - 1922s - loss: 1.4528 - dense_3_loss: 0.0108 - dense_4_loss: 0.0158 - dense_5_loss: 0.0385 - dense_6_loss: 0.0659 - dense_7_loss: 0.2380 - dense_8_loss: 1.0838 - dense_3_acc: 0.9980 - dense_4_acc: 0.9971 - dense_5_acc: 0.9915 - dense_6_acc: 0.9855 - dense_7_acc: 0.9372 - dense_8_acc: 0.7310 - val_loss: 1.9178 - val_dense_3_loss: 0.0176 - val_dense_4_loss: 0.0255 - val_dense_5_loss: 0.0583 - val_dense_6_loss: 0.0972 - val_dense_7_loss: 0.3065 - val_dense_8_loss: 1.4126 - val_dense_3_acc: 0.9970 - val_dense_4_acc: 0.9957 - val_dense_5_acc: 0.9885 - val_dense_6_acc: 0.9807 - val_dense_7_acc: 0.9285 - val_dense_8_acc: 0.7010\n",
      "Epoch 10/47\n",
      " - 1922s - loss: 1.4458 - dense_3_loss: 0.0108 - dense_4_loss: 0.0159 - dense_5_loss: 0.0386 - dense_6_loss: 0.0656 - dense_7_loss: 0.2360 - dense_8_loss: 1.0788 - dense_3_acc: 0.9980 - dense_4_acc: 0.9971 - dense_5_acc: 0.9914 - dense_6_acc: 0.9857 - dense_7_acc: 0.9376 - dense_8_acc: 0.7323 - val_loss: 1.8904 - val_dense_3_loss: 0.0180 - val_dense_4_loss: 0.0247 - val_dense_5_loss: 0.0569 - val_dense_6_loss: 0.0940 - val_dense_7_loss: 0.2961 - val_dense_8_loss: 1.4007 - val_dense_3_acc: 0.9969 - val_dense_4_acc: 0.9959 - val_dense_5_acc: 0.9886 - val_dense_6_acc: 0.9814 - val_dense_7_acc: 0.9310 - val_dense_8_acc: 0.7049\n",
      "Epoch 11/47\n",
      " - 1922s - loss: 1.4375 - dense_3_loss: 0.0111 - dense_4_loss: 0.0160 - dense_5_loss: 0.0377 - dense_6_loss: 0.0642 - dense_7_loss: 0.2346 - dense_8_loss: 1.0739 - dense_3_acc: 0.9980 - dense_4_acc: 0.9972 - dense_5_acc: 0.9916 - dense_6_acc: 0.9860 - dense_7_acc: 0.9378 - dense_8_acc: 0.7328 - val_loss: 1.8950 - val_dense_3_loss: 0.0179 - val_dense_4_loss: 0.0242 - val_dense_5_loss: 0.0577 - val_dense_6_loss: 0.0951 - val_dense_7_loss: 0.2990 - val_dense_8_loss: 1.4012 - val_dense_3_acc: 0.9969 - val_dense_4_acc: 0.9959 - val_dense_5_acc: 0.9885 - val_dense_6_acc: 0.9813 - val_dense_7_acc: 0.9299 - val_dense_8_acc: 0.7031\n",
      "Epoch 12/47\n",
      " - 1921s - loss: 1.4250 - dense_3_loss: 0.0103 - dense_4_loss: 0.0151 - dense_5_loss: 0.0365 - dense_6_loss: 0.0630 - dense_7_loss: 0.2314 - dense_8_loss: 1.0687 - dense_3_acc: 0.9981 - dense_4_acc: 0.9973 - dense_5_acc: 0.9919 - dense_6_acc: 0.9862 - dense_7_acc: 0.9388 - dense_8_acc: 0.7339 - val_loss: 1.8824 - val_dense_3_loss: 0.0179 - val_dense_4_loss: 0.0246 - val_dense_5_loss: 0.0560 - val_dense_6_loss: 0.0936 - val_dense_7_loss: 0.2979 - val_dense_8_loss: 1.3924 - val_dense_3_acc: 0.9969 - val_dense_4_acc: 0.9960 - val_dense_5_acc: 0.9891 - val_dense_6_acc: 0.9821 - val_dense_7_acc: 0.9300 - val_dense_8_acc: 0.7046\n",
      "Epoch 13/47\n",
      " - 1921s - loss: 1.4170 - dense_3_loss: 0.0103 - dense_4_loss: 0.0148 - dense_5_loss: 0.0361 - dense_6_loss: 0.0625 - dense_7_loss: 0.2297 - dense_8_loss: 1.0636 - dense_3_acc: 0.9981 - dense_4_acc: 0.9973 - dense_5_acc: 0.9919 - dense_6_acc: 0.9862 - dense_7_acc: 0.9390 - dense_8_acc: 0.7345 - val_loss: 1.8696 - val_dense_3_loss: 0.0170 - val_dense_4_loss: 0.0236 - val_dense_5_loss: 0.0549 - val_dense_6_loss: 0.0916 - val_dense_7_loss: 0.2905 - val_dense_8_loss: 1.3920 - val_dense_3_acc: 0.9970 - val_dense_4_acc: 0.9960 - val_dense_5_acc: 0.9891 - val_dense_6_acc: 0.9821 - val_dense_7_acc: 0.9312 - val_dense_8_acc: 0.7056\n",
      "Epoch 14/47\n",
      " - 1921s - loss: 1.4113 - dense_3_loss: 0.0099 - dense_4_loss: 0.0147 - dense_5_loss: 0.0359 - dense_6_loss: 0.0615 - dense_7_loss: 0.2280 - dense_8_loss: 1.0611 - dense_3_acc: 0.9982 - dense_4_acc: 0.9973 - dense_5_acc: 0.9920 - dense_6_acc: 0.9865 - dense_7_acc: 0.9395 - dense_8_acc: 0.7352 - val_loss: 1.8921 - val_dense_3_loss: 0.0193 - val_dense_4_loss: 0.0261 - val_dense_5_loss: 0.0578 - val_dense_6_loss: 0.0948 - val_dense_7_loss: 0.2979 - val_dense_8_loss: 1.3963 - val_dense_3_acc: 0.9966 - val_dense_4_acc: 0.9956 - val_dense_5_acc: 0.9888 - val_dense_6_acc: 0.9817 - val_dense_7_acc: 0.9307 - val_dense_8_acc: 0.7053\n",
      "Epoch 15/47\n",
      " - 1922s - loss: 1.4072 - dense_3_loss: 0.0100 - dense_4_loss: 0.0146 - dense_5_loss: 0.0357 - dense_6_loss: 0.0613 - dense_7_loss: 0.2272 - dense_8_loss: 1.0584 - dense_3_acc: 0.9981 - dense_4_acc: 0.9974 - dense_5_acc: 0.9921 - dense_6_acc: 0.9866 - dense_7_acc: 0.9397 - dense_8_acc: 0.7353 - val_loss: 1.8683 - val_dense_3_loss: 0.0182 - val_dense_4_loss: 0.0247 - val_dense_5_loss: 0.0559 - val_dense_6_loss: 0.0927 - val_dense_7_loss: 0.2929 - val_dense_8_loss: 1.3839 - val_dense_3_acc: 0.9969 - val_dense_4_acc: 0.9960 - val_dense_5_acc: 0.9891 - val_dense_6_acc: 0.9821 - val_dense_7_acc: 0.9312 - val_dense_8_acc: 0.7055\n",
      "Epoch 16/47\n",
      " - 1925s - loss: 1.3981 - dense_3_loss: 0.0101 - dense_4_loss: 0.0147 - dense_5_loss: 0.0350 - dense_6_loss: 0.0605 - dense_7_loss: 0.2247 - dense_8_loss: 1.0530 - dense_3_acc: 0.9981 - dense_4_acc: 0.9973 - dense_5_acc: 0.9921 - dense_6_acc: 0.9868 - dense_7_acc: 0.9400 - dense_8_acc: 0.7361 - val_loss: 1.8648 - val_dense_3_loss: 0.0180 - val_dense_4_loss: 0.0246 - val_dense_5_loss: 0.0555 - val_dense_6_loss: 0.0915 - val_dense_7_loss: 0.2922 - val_dense_8_loss: 1.3831 - val_dense_3_acc: 0.9970 - val_dense_4_acc: 0.9960 - val_dense_5_acc: 0.9894 - val_dense_6_acc: 0.9826 - val_dense_7_acc: 0.9312 - val_dense_8_acc: 0.7076\n",
      "Epoch 17/47\n",
      " - 1925s - loss: 1.3905 - dense_3_loss: 0.0094 - dense_4_loss: 0.0141 - dense_5_loss: 0.0343 - dense_6_loss: 0.0592 - dense_7_loss: 0.2228 - dense_8_loss: 1.0507 - dense_3_acc: 0.9982 - dense_4_acc: 0.9974 - dense_5_acc: 0.9923 - dense_6_acc: 0.9869 - dense_7_acc: 0.9403 - dense_8_acc: 0.7364 - val_loss: 1.8499 - val_dense_3_loss: 0.0182 - val_dense_4_loss: 0.0242 - val_dense_5_loss: 0.0551 - val_dense_6_loss: 0.0905 - val_dense_7_loss: 0.2889 - val_dense_8_loss: 1.3730 - val_dense_3_acc: 0.9970 - val_dense_4_acc: 0.9963 - val_dense_5_acc: 0.9891 - val_dense_6_acc: 0.9824 - val_dense_7_acc: 0.9319 - val_dense_8_acc: 0.7073\n",
      "Epoch 18/47\n",
      " - 1925s - loss: 1.3811 - dense_3_loss: 0.0095 - dense_4_loss: 0.0138 - dense_5_loss: 0.0334 - dense_6_loss: 0.0582 - dense_7_loss: 0.2202 - dense_8_loss: 1.0459 - dense_3_acc: 0.9983 - dense_4_acc: 0.9975 - dense_5_acc: 0.9924 - dense_6_acc: 0.9872 - dense_7_acc: 0.9409 - dense_8_acc: 0.7369 - val_loss: 1.8642 - val_dense_3_loss: 0.0188 - val_dense_4_loss: 0.0250 - val_dense_5_loss: 0.0557 - val_dense_6_loss: 0.0927 - val_dense_7_loss: 0.2925 - val_dense_8_loss: 1.3795 - val_dense_3_acc: 0.9967 - val_dense_4_acc: 0.9958 - val_dense_5_acc: 0.9891 - val_dense_6_acc: 0.9818 - val_dense_7_acc: 0.9315 - val_dense_8_acc: 0.7070\n",
      "Epoch 19/47\n",
      " - 1922s - loss: 1.3781 - dense_3_loss: 0.0098 - dense_4_loss: 0.0141 - dense_5_loss: 0.0337 - dense_6_loss: 0.0585 - dense_7_loss: 0.2194 - dense_8_loss: 1.0427 - dense_3_acc: 0.9982 - dense_4_acc: 0.9975 - dense_5_acc: 0.9924 - dense_6_acc: 0.9872 - dense_7_acc: 0.9418 - dense_8_acc: 0.7380 - val_loss: 1.8638 - val_dense_3_loss: 0.0189 - val_dense_4_loss: 0.0252 - val_dense_5_loss: 0.0556 - val_dense_6_loss: 0.0927 - val_dense_7_loss: 0.2917 - val_dense_8_loss: 1.3798 - val_dense_3_acc: 0.9968 - val_dense_4_acc: 0.9958 - val_dense_5_acc: 0.9888 - val_dense_6_acc: 0.9817 - val_dense_7_acc: 0.9311 - val_dense_8_acc: 0.7069\n",
      "Epoch 20/47\n",
      " - 1923s - loss: 1.3743 - dense_3_loss: 0.0096 - dense_4_loss: 0.0139 - dense_5_loss: 0.0335 - dense_6_loss: 0.0582 - dense_7_loss: 0.2184 - dense_8_loss: 1.0407 - dense_3_acc: 0.9982 - dense_4_acc: 0.9974 - dense_5_acc: 0.9926 - dense_6_acc: 0.9873 - dense_7_acc: 0.9418 - dense_8_acc: 0.7381 - val_loss: 1.8457 - val_dense_3_loss: 0.0162 - val_dense_4_loss: 0.0229 - val_dense_5_loss: 0.0541 - val_dense_6_loss: 0.0902 - val_dense_7_loss: 0.2870 - val_dense_8_loss: 1.3753 - val_dense_3_acc: 0.9975 - val_dense_4_acc: 0.9964 - val_dense_5_acc: 0.9898 - val_dense_6_acc: 0.9828 - val_dense_7_acc: 0.9335 - val_dense_8_acc: 0.7079\n",
      "Epoch 21/47\n",
      " - 1923s - loss: 1.3723 - dense_3_loss: 0.0093 - dense_4_loss: 0.0136 - dense_5_loss: 0.0331 - dense_6_loss: 0.0581 - dense_7_loss: 0.2185 - dense_8_loss: 1.0397 - dense_3_acc: 0.9983 - dense_4_acc: 0.9975 - dense_5_acc: 0.9925 - dense_6_acc: 0.9872 - dense_7_acc: 0.9415 - dense_8_acc: 0.7386 - val_loss: 1.8471 - val_dense_3_loss: 0.0181 - val_dense_4_loss: 0.0245 - val_dense_5_loss: 0.0557 - val_dense_6_loss: 0.0904 - val_dense_7_loss: 0.2881 - val_dense_8_loss: 1.3703 - val_dense_3_acc: 0.9970 - val_dense_4_acc: 0.9962 - val_dense_5_acc: 0.9895 - val_dense_6_acc: 0.9827 - val_dense_7_acc: 0.9336 - val_dense_8_acc: 0.7094\n",
      "Epoch 22/47\n"
     ]
    }
   ],
   "source": [
    "batch_size = 250\n",
    "m.load_weights('./PCR_SILVA_all/W2V/Fixed_len_ResNet_like_N.hdfs')\n",
    "filepath = ''.join('./PCR_SILVA_all/W2V/Fixed_len_ResNet_like_N.hdfs')\n",
    "Checkpoint = ModelCheckpoint(filepath,monitor='val_loss', save_best_only=True,\n",
    "                             save_weights_only=True,period=1)\n",
    "csv_logger = CSVLogger('./PCR_SILVA_all/W2V/Fixed_len_ResNet_like_N.log')\n",
    "EarlyStop = EarlyStopping(monitor='val_loss', min_delta=0, patience=10, verbose=0, mode='auto')\n",
    "\n",
    "train_gen = simulate_multiooutput_ngs_generator_fixed_len(train,batch_size=batch_size,len1=100)\n",
    "valid_gen = simulate_multiooutput_ngs_generator_fixed_len(valid,batch_size=batch_size,len1=100)\n",
    "\n",
    "m.fit_generator(train_gen,\n",
    "                epochs=47,shuffle=True,\n",
    "                steps_per_epoch=train.shape[0]//batch_size,\n",
    "                validation_data=valid_gen,\n",
    "                validation_steps=valid.shape[0]//batch_size,\n",
    "                verbose=2,callbacks=[Checkpoint,csv_logger,EarlyStop])"
   ]
  },
  {
   "cell_type": "markdown",
   "metadata": {
    "colab_type": "text",
    "id": "17szAPM30UXj"
   },
   "source": [
    "### ResNet_OHE"
   ]
  },
  {
   "cell_type": "code",
   "execution_count": 0,
   "metadata": {
    "colab": {},
    "colab_type": "code",
    "collapsed": true,
    "id": "k_SQwbf_0azb"
   },
   "outputs": [],
   "source": [
    "inp = Input(shape=(max_len,),dtype='uint8')\n",
    "#main = Embedding(max_features, vector_size, weights=[embedding_matrix],trainable=False)(inp)\n",
    "main = Embedding(5, 128)(inp)\n",
    "#main = SpatialDropout1D(dr_rate)(main)\n",
    "main = Conv1D(filters=64, kernel_size=3, padding='same')(main)\n",
    "i_l1 = MaxPooling1D(pool_size=2)(main)\n",
    "\n",
    "main = Conv1D(filters=64, kernel_size=3, padding='same')(main)\n",
    "main = BatchNormalization()(main)\n",
    "main = Activation('relu')(main)\n",
    "main = Conv1D(filters=64, kernel_size=3, padding='same')(main)\n",
    "main = concatenate([main, i_l1],axis=1)\n",
    "main = BatchNormalization()(main)\n",
    "main = Activation('relu')(main)\n",
    "main = MaxPooling1D(pool_size=2)(main)\n",
    "\n",
    "i_l1 = Conv1D(filters=128, kernel_size=1, padding='same')(main)\n",
    "main = Conv1D(filters=128, kernel_size=3, padding='same')(main)\n",
    "main = BatchNormalization()(main)\n",
    "main = Activation('relu')(main)\n",
    "main = Conv1D(filters=128, kernel_size=3, padding='same')(main)\n",
    "main = concatenate([main, i_l1],axis=1)\n",
    "main = BatchNormalization()(main)\n",
    "main = Activation('relu')(main)\n",
    "main = MaxPooling1D(pool_size=2)(main)\n",
    "\n",
    "i_l1 = Conv1D(filters=256, kernel_size=1, padding='same')(main)\n",
    "main = Conv1D(filters=256, kernel_size=3, padding='same')(main)\n",
    "main = BatchNormalization()(main)\n",
    "main = Activation('relu')(main)\n",
    "main = Conv1D(filters=256, kernel_size=3, padding='same')(main)\n",
    "main = concatenate([main, i_l1],axis=1)\n",
    "main = BatchNormalization()(main)\n",
    "main = Activation('relu')(main)\n",
    "main = MaxPooling1D(pool_size=2)(main)\n",
    "\n",
    "i_l1 = Conv1D(filters=512, kernel_size=1, padding='same')(main)\n",
    "main = Conv1D(filters=512, kernel_size=3, padding='same')(main)\n",
    "main = BatchNormalization()(main)\n",
    "main = Activation('relu')(main)\n",
    "main = Conv1D(filters=512, kernel_size=3, padding='same')(main)\n",
    "main = concatenate([main, i_l1],axis=1)\n",
    "main = BatchNormalization()(main)\n",
    "main = Activation('relu')(main)\n",
    "main = MaxPooling1D(pool_size=2)(main)\n",
    "\n",
    "main = GlobalMaxPool1D()(main)\n",
    "main = Dense(1024, activation='relu')(main)  # Should be 4096\n",
    "main = Dense(512, activation='relu')(main)  # Should be 2048\n",
    "\n",
    "out1 = Dense(classes_1,activation='softmax')(main)\n",
    "out2 = Dense(classes_2,activation='softmax')(main)\n",
    "out3 = Dense(classes_3,activation='softmax')(main)\n",
    "out4 = Dense(classes_4,activation='softmax')(main)\n",
    "out5 = Dense(classes_5,activation='softmax')(main)\n",
    "out6 = Dense(classes_6,activation='softmax')(main)\n",
    "\n",
    "m = Model(inputs=[inp], outputs=[out1,out2,out3,out4,out5,out6])\n",
    "\n",
    "optimizer = AdamW(lr=0.001, beta_1=0.9, beta_2=0.999, weight_decay=1e-4, epsilon=1e-8, decay=0.)\n",
    "m.compile(loss='sparse_categorical_crossentropy',optimizer=optimizer,metrics=['acc'])"
   ]
  },
  {
   "cell_type": "code",
   "execution_count": 0,
   "metadata": {
    "colab": {},
    "colab_type": "code",
    "collapsed": true,
    "id": "5FLZc5y70hSj"
   },
   "outputs": [],
   "source": [
    "batch_size = 250\n",
    "#m.load_weights('./PCR_SILVA_all/W2V/ResNet_like_N_OHE_len50.hdfs')\n",
    "filepath = ''.join('./PCR_SILVA_all/W2V/ResNet_like_N_OHE_len50.hdfs')\n",
    "Checkpoint = ModelCheckpoint(filepath,monitor='val_loss', save_best_only=True,\n",
    "                             save_weights_only=True,period=1)\n",
    "csv_logger = CSVLogger('./PCR_SILVA_all/W2V/ResNet_like_N_OHE_len50.log')\n",
    "EarlyStop = EarlyStopping(monitor='val_loss', min_delta=0, patience=5, verbose=0, mode='auto')\n",
    "\n",
    "m.fit_generator(simulate_multioutput_ngs_generator(train,batch_size=batch_size,len1=50),\n",
    "                epochs=50,shuffle=True,\n",
    "                steps_per_epoch=train.shape[0]//batch_size,\n",
    "                validation_data=simulate_multioutput_ngs_generator\n",
    "                (valid,batch_size=batch_size,len1=50),\n",
    "                validation_steps=valid.shape[0]//batch_size,\n",
    "                verbose=2,callbacks=[Checkpoint,csv_logger,EarlyStop])"
   ]
  },
  {
   "cell_type": "markdown",
   "metadata": {
    "colab_type": "text",
    "id": "6t9cfBRA_Eho"
   },
   "source": [
    "### 2-Block ResNet"
   ]
  },
  {
   "cell_type": "code",
   "execution_count": 0,
   "metadata": {
    "colab": {},
    "colab_type": "code",
    "collapsed": true,
    "id": "CIj4GJ10-zt7"
   },
   "outputs": [],
   "source": [
    "inp = Input(shape=(max_len,),dtype='uint16')\n",
    "main = Embedding(max_features, vector_size, weights=[embedding_matrix],trainable=False)(inp)\n",
    "#main = Embedding(5, 128)(inp)\n",
    "#main = SpatialDropout1D(dr_rate)(main)\n",
    "main = Conv1D(filters=64, kernel_size=3, padding='same')(main)\n",
    "i_l1 = MaxPooling1D(pool_size=2)(main)\n",
    "\n",
    "main = Conv1D(filters=64, kernel_size=3, padding='same')(main)\n",
    "main = BatchNormalization()(main)\n",
    "main = Activation('relu')(main)\n",
    "main = Conv1D(filters=64, kernel_size=3, padding='same')(main)\n",
    "main = concatenate([main, i_l1],axis=1)\n",
    "main = BatchNormalization()(main)\n",
    "main = Activation('relu')(main)\n",
    "main = MaxPooling1D(pool_size=2)(main)\n",
    "\n",
    "i_l1 = Conv1D(filters=128, kernel_size=1, padding='same')(main)\n",
    "main = Conv1D(filters=128, kernel_size=3, padding='same')(main)\n",
    "main = BatchNormalization()(main)\n",
    "main = Activation('relu')(main)\n",
    "main = Conv1D(filters=128, kernel_size=3, padding='same')(main)\n",
    "main = concatenate([main, i_l1],axis=1)\n",
    "main = BatchNormalization()(main)\n",
    "main = Activation('relu')(main)\n",
    "main = MaxPooling1D(pool_size=2)(main)\n",
    "\n",
    "\n",
    "main = GlobalMaxPool1D()(main)\n",
    "main = Dense(1024, activation='relu')(main)  # Should be 4096\n",
    "main = Dense(512, activation='relu')(main)  # Should be 2048\n",
    "\n",
    "out1 = Dense(classes_1,activation='softmax')(main)\n",
    "out2 = Dense(classes_2,activation='softmax')(main)\n",
    "out3 = Dense(classes_3,activation='softmax')(main)\n",
    "out4 = Dense(classes_4,activation='softmax')(main)\n",
    "out5 = Dense(classes_5,activation='softmax')(main)\n",
    "out6 = Dense(classes_6,activation='softmax')(main)\n",
    "\n",
    "m = Model(inputs=[inp], outputs=[out1,out2,out3,out4,out5,out6])\n",
    "\n",
    "optimizer = AdamW(lr=0.001, beta_1=0.9, beta_2=0.999, weight_decay=1e-4, epsilon=1e-8, decay=0.)\n",
    "m.compile(loss='sparse_categorical_crossentropy',optimizer=optimizer,metrics=['acc'])"
   ]
  },
  {
   "cell_type": "code",
   "execution_count": 0,
   "metadata": {
    "colab": {},
    "colab_type": "code",
    "collapsed": true,
    "id": "-JSMlp4a_Lj1"
   },
   "outputs": [],
   "source": [
    "batch_size = 250\n",
    "#m.load_weights('./PCR_SILVA_all/W2V/ResNet_like_N_big.hdfs')\n",
    "filepath = ''.join('./PCR_SILVA_all/W2V/2_Block_ResNet.hdfs')\n",
    "Checkpoint = ModelCheckpoint(filepath,monitor='val_loss', save_best_only=True,\n",
    "                             save_weights_only=True,period=1)\n",
    "csv_logger = CSVLogger('./PCR_SILVA_all/W2V/2_Block_ResNet.log')\n",
    "EarlyStop = EarlyStopping(monitor='val_loss', min_delta=0, patience=5, verbose=0, mode='auto')\n",
    "\n",
    "m.fit_generator(simulate_multioutput_ngs_generator(train,batch_size=batch_size,len1=25),\n",
    "                epochs=50,shuffle=True,\n",
    "                steps_per_epoch=train.shape[0]//batch_size,\n",
    "                validation_data=simulate_multioutput_ngs_generator\n",
    "                (valid,batch_size=batch_size,len1=25),\n",
    "                validation_steps=valid.shape[0]//batch_size,\n",
    "                verbose=2,callbacks=[Checkpoint,csv_logger,EarlyStop])"
   ]
  },
  {
   "cell_type": "markdown",
   "metadata": {
    "colab_type": "text",
    "id": "JAk7EK33_K23"
   },
   "source": [
    "### 2_Block_ResNet_No_W2V"
   ]
  },
  {
   "cell_type": "code",
   "execution_count": 0,
   "metadata": {
    "colab": {},
    "colab_type": "code",
    "collapsed": true,
    "id": "zybq1F--_ekY"
   },
   "outputs": [],
   "source": [
    "#2_Block_ResNet_No_W2V\n",
    "inp = Input(shape=(max_len,),dtype='uint16')\n",
    "#main = Embedding(max_features, vector_size, weights=[embedding_matrix],trainable=False)(inp)\n",
    "main = Embedding(5, 128)(inp)\n",
    "#main = SpatialDropout1D(dr_rate)(main)\n",
    "main = Conv1D(filters=64, kernel_size=3, padding='same')(main)\n",
    "i_l1 = MaxPooling1D(pool_size=2)(main)\n",
    "\n",
    "main = Conv1D(filters=64, kernel_size=3, padding='same')(main)\n",
    "main = BatchNormalization()(main)\n",
    "main = Activation('relu')(main)\n",
    "main = Conv1D(filters=64, kernel_size=3, padding='same')(main)\n",
    "main = concatenate([main, i_l1],axis=1)\n",
    "main = BatchNormalization()(main)\n",
    "main = Activation('relu')(main)\n",
    "main = MaxPooling1D(pool_size=2)(main)\n",
    "\n",
    "i_l1 = Conv1D(filters=128, kernel_size=1, padding='same')(main)\n",
    "main = Conv1D(filters=128, kernel_size=3, padding='same')(main)\n",
    "main = BatchNormalization()(main)\n",
    "main = Activation('relu')(main)\n",
    "main = Conv1D(filters=128, kernel_size=3, padding='same')(main)\n",
    "main = concatenate([main, i_l1],axis=1)\n",
    "main = BatchNormalization()(main)\n",
    "main = Activation('relu')(main)\n",
    "main = MaxPooling1D(pool_size=2)(main)\n",
    "\n",
    "\n",
    "main = GlobalMaxPool1D()(main)\n",
    "main = Dense(1024, activation='relu')(main)  # Should be 4096\n",
    "main = Dense(512, activation='relu')(main)  # Should be 2048\n",
    "\n",
    "out1 = Dense(classes_1,activation='softmax')(main)\n",
    "out2 = Dense(classes_2,activation='softmax')(main)\n",
    "out3 = Dense(classes_3,activation='softmax')(main)\n",
    "out4 = Dense(classes_4,activation='softmax')(main)\n",
    "out5 = Dense(classes_5,activation='softmax')(main)\n",
    "out6 = Dense(classes_6,activation='softmax')(main)\n",
    "\n",
    "m = Model(inputs=[inp], outputs=[out1,out2,out3,out4,out5,out6])\n",
    "\n",
    "optimizer = AdamW(lr=0.001, beta_1=0.9, beta_2=0.999, weight_decay=1e-4, epsilon=1e-8, decay=0.)\n",
    "m.compile(loss='sparse_categorical_crossentropy',optimizer=optimizer,metrics=['acc'])"
   ]
  },
  {
   "cell_type": "code",
   "execution_count": 0,
   "metadata": {
    "colab": {},
    "colab_type": "code",
    "collapsed": true,
    "id": "06NMlEG9_mcm"
   },
   "outputs": [],
   "source": [
    "batch_size = 250\n",
    "#m.load_weights('./PCR_SILVA_all/W2V/2_Block_ResNet_No_W2V.hdfs')\n",
    "filepath = ''.join('./PCR_SILVA_all/W2V/2_Block_ResNet.hdfs')\n",
    "Checkpoint = ModelCheckpoint(filepath,monitor='val_loss', save_best_only=True,\n",
    "                             save_weights_only=True,period=1)\n",
    "csv_logger = CSVLogger('./PCR_SILVA_all/W2V/2_Block_ResNet_No_W2V.log')\n",
    "EarlyStop = EarlyStopping(monitor='val_loss', min_delta=0, patience=5, verbose=0, mode='auto')\n",
    "\n",
    "m.fit_generator(simulate_multioutput_ngs_generator(train,batch_size=batch_size,len1=25),\n",
    "                epochs=50,shuffle=True,\n",
    "                steps_per_epoch=train.shape[0]//batch_size,\n",
    "                validation_data=simulate_multioutput_ngs_generator\n",
    "                (valid,batch_size=batch_size,len1=25),\n",
    "                validation_steps=valid.shape[0]//batch_size,\n",
    "                verbose=2,callbacks=[Checkpoint,csv_logger,EarlyStop])"
   ]
  },
  {
   "cell_type": "markdown",
   "metadata": {
    "colab_type": "text",
    "id": "w2R2Kb9OKvef"
   },
   "source": [
    "### 6_block_ResNet_No_W2V"
   ]
  },
  {
   "cell_type": "code",
   "execution_count": 0,
   "metadata": {
    "colab": {},
    "colab_type": "code",
    "collapsed": true,
    "id": "0BIMkmSLKzgF"
   },
   "outputs": [],
   "source": [
    "#6_Block_ResNet_No_W2V\n",
    "inp = Input(shape=(max_len,),dtype='uint16')\n",
    "#main = Embedding(max_features, vector_size, weights=[embedding_matrix],trainable=False)(inp)\n",
    "main = Embedding(5, 128)(inp)\n",
    "#main = SpatialDropout1D(dr_rate)(main)\n",
    "main = Conv1D(filters=64, kernel_size=3, padding='same')(main)\n",
    "i_l1 = MaxPooling1D(pool_size=2)(main)\n",
    "\n",
    "main = Conv1D(filters=64, kernel_size=3, padding='same')(main)\n",
    "main = BatchNormalization()(main)\n",
    "main = Activation('relu')(main)\n",
    "main = Conv1D(filters=64, kernel_size=3, padding='same')(main)\n",
    "main = concatenate([main, i_l1],axis=1)\n",
    "main = BatchNormalization()(main)\n",
    "main = Activation('relu')(main)\n",
    "main = MaxPooling1D(pool_size=2)(main)\n",
    "\n",
    "for i in range(5):\n",
    "  i_l1 = Conv1D(filters=128, kernel_size=1, padding='same')(main)\n",
    "  main = Conv1D(filters=128, kernel_size=3, padding='same')(main)\n",
    "  main = BatchNormalization()(main)\n",
    "  main = Activation('relu')(main)\n",
    "  main = Conv1D(filters=128, kernel_size=3, padding='same')(main)\n",
    "  main = concatenate([main, i_l1],axis=1)\n",
    "  main = BatchNormalization()(main)\n",
    "  main = Activation('relu')(main)\n",
    "  main = MaxPooling1D(pool_size=2)(main)\n",
    "\n",
    "main = GlobalMaxPool1D()(main)\n",
    "main = Dense(2048, activation='relu')(main)  # Should be 4096\n",
    "main = Dense(1024, activation='relu')(main)  # Should be 2048\n",
    "\n",
    "out1 = Dense(classes_1,activation='softmax')(main)\n",
    "out2 = Dense(classes_2,activation='softmax')(main)\n",
    "out3 = Dense(classes_3,activation='softmax')(main)\n",
    "out4 = Dense(classes_4,activation='softmax')(main)\n",
    "out5 = Dense(classes_5,activation='softmax')(main)\n",
    "out6 = Dense(classes_6,activation='softmax')(main)\n",
    "\n",
    "m = Model(inputs=[inp], outputs=[out1,out2,out3,out4,out5,out6])\n",
    "\n",
    "optimizer = AdamW(lr=0.001, beta_1=0.9, beta_2=0.999, weight_decay=1e-4, epsilon=1e-8, decay=0.)\n",
    "m.compile(loss='sparse_categorical_crossentropy',optimizer=optimizer,metrics=['acc'])"
   ]
  },
  {
   "cell_type": "code",
   "execution_count": 0,
   "metadata": {
    "colab": {
     "base_uri": "https://localhost:8080/",
     "height": 332
    },
    "colab_type": "code",
    "collapsed": false,
    "id": "2ZFfs2G1KuvM",
    "outputId": "733e2cd7-6e27-454f-c193-00dabc9c1a29"
   },
   "outputs": [
    {
     "name": "stdout",
     "output_type": "stream",
     "text": [
      "Epoch 1/50\n",
      " - 1324s - loss: 20.6310 - dense_35_loss: 1.3044 - dense_36_loss: 1.8062 - dense_37_loss: 2.8904 - dense_38_loss: 3.6665 - dense_39_loss: 4.9024 - dense_40_loss: 6.0611 - dense_35_acc: 0.3955 - dense_36_acc: 0.3094 - dense_37_acc: 0.2145 - dense_38_acc: 0.1489 - dense_39_acc: 0.1380 - dense_40_acc: 0.1262 - val_loss: 20.6626 - val_dense_35_loss: 1.2920 - val_dense_36_loss: 1.7810 - val_dense_37_loss: 2.8783 - val_dense_38_loss: 3.6469 - val_dense_39_loss: 4.8869 - val_dense_40_loss: 6.1775 - val_dense_35_acc: 0.3970 - val_dense_36_acc: 0.3252 - val_dense_37_acc: 0.2257 - val_dense_38_acc: 0.1587 - val_dense_39_acc: 0.1396 - val_dense_40_acc: 0.1247\n",
      "Epoch 2/50\n",
      " - 1246s - loss: 20.3635 - dense_35_loss: 1.2877 - dense_36_loss: 1.7764 - dense_37_loss: 2.8596 - dense_38_loss: 3.6225 - dense_39_loss: 4.8442 - dense_40_loss: 5.9731 - dense_35_acc: 0.3972 - dense_36_acc: 0.3223 - dense_37_acc: 0.2257 - dense_38_acc: 0.1597 - dense_39_acc: 0.1405 - dense_40_acc: 0.1284 - val_loss: 20.6638 - val_dense_35_loss: 1.2915 - val_dense_36_loss: 1.7802 - val_dense_37_loss: 2.8768 - val_dense_38_loss: 3.6460 - val_dense_39_loss: 4.8857 - val_dense_40_loss: 6.1835 - val_dense_35_acc: 0.3972 - val_dense_36_acc: 0.3257 - val_dense_37_acc: 0.2262 - val_dense_38_acc: 0.1594 - val_dense_39_acc: 0.1413 - val_dense_40_acc: 0.1255\n",
      "Epoch 3/50\n",
      " - 1251s - loss: 20.3391 - dense_35_loss: 1.2872 - dense_36_loss: 1.7754 - dense_37_loss: 2.8579 - dense_38_loss: 3.6196 - dense_39_loss: 4.8383 - dense_40_loss: 5.9607 - dense_35_acc: 0.3981 - dense_36_acc: 0.3225 - dense_37_acc: 0.2256 - dense_38_acc: 0.1597 - dense_39_acc: 0.1408 - dense_40_acc: 0.1287 - val_loss: 20.6466 - val_dense_35_loss: 1.2910 - val_dense_36_loss: 1.7806 - val_dense_37_loss: 2.8765 - val_dense_38_loss: 3.6455 - val_dense_39_loss: 4.8806 - val_dense_40_loss: 6.1723 - val_dense_35_acc: 0.3974 - val_dense_36_acc: 0.3250 - val_dense_37_acc: 0.2256 - val_dense_38_acc: 0.1588 - val_dense_39_acc: 0.1406 - val_dense_40_acc: 0.1249\n",
      "Epoch 4/50\n",
      " - 1247s - loss: 20.4436 - dense_35_loss: 1.2949 - dense_36_loss: 1.7913 - dense_37_loss: 2.8737 - dense_38_loss: 3.6419 - dense_39_loss: 4.8613 - dense_40_loss: 5.9805 - dense_35_acc: 0.3988 - dense_36_acc: 0.3147 - dense_37_acc: 0.2180 - dense_38_acc: 0.1523 - dense_39_acc: 0.1392 - dense_40_acc: 0.1272 - val_loss: 20.9672 - val_dense_35_loss: 1.3127 - val_dense_36_loss: 1.8262 - val_dense_37_loss: 2.9235 - val_dense_38_loss: 3.7106 - val_dense_39_loss: 4.9523 - val_dense_40_loss: 6.2418 - val_dense_35_acc: 0.3966 - val_dense_36_acc: 0.3033 - val_dense_37_acc: 0.2038 - val_dense_38_acc: 0.1376 - val_dense_39_acc: 0.1363 - val_dense_40_acc: 0.1212\n",
      "Epoch 5/50\n",
      " - 1242s - loss: 20.6613 - dense_35_loss: 1.3094 - dense_36_loss: 1.8220 - dense_37_loss: 2.9049 - dense_38_loss: 3.6864 - dense_39_loss: 4.9098 - dense_40_loss: 6.0289 - dense_35_acc: 0.3993 - dense_36_acc: 0.2999 - dense_37_acc: 0.2030 - dense_38_acc: 0.1375 - dense_39_acc: 0.1362 - dense_40_acc: 0.1246 - val_loss: 20.9552 - val_dense_35_loss: 1.3125 - val_dense_36_loss: 1.8259 - val_dense_37_loss: 2.9230 - val_dense_38_loss: 3.7097 - val_dense_39_loss: 4.9502 - val_dense_40_loss: 6.2339 - val_dense_35_acc: 0.3966 - val_dense_36_acc: 0.3033 - val_dense_37_acc: 0.2038 - val_dense_38_acc: 0.1376 - val_dense_39_acc: 0.1363 - val_dense_40_acc: 0.1212\n",
      "Epoch 6/50\n",
      " - 1245s - loss: 20.6534 - dense_35_loss: 1.3093 - dense_36_loss: 1.8219 - dense_37_loss: 2.9047 - dense_38_loss: 3.6858 - dense_39_loss: 4.9082 - dense_40_loss: 6.0234 - dense_35_acc: 0.3993 - dense_36_acc: 0.2998 - dense_37_acc: 0.2030 - dense_38_acc: 0.1376 - dense_39_acc: 0.1362 - dense_40_acc: 0.1246 - val_loss: 20.9530 - val_dense_35_loss: 1.3125 - val_dense_36_loss: 1.8259 - val_dense_37_loss: 2.9228 - val_dense_38_loss: 3.7095 - val_dense_39_loss: 4.9497 - val_dense_40_loss: 6.2325 - val_dense_35_acc: 0.3966 - val_dense_36_acc: 0.3033 - val_dense_37_acc: 0.2038 - val_dense_38_acc: 0.1376 - val_dense_39_acc: 0.1363 - val_dense_40_acc: 0.1212\n",
      "Epoch 7/50\n",
      " - 1241s - loss: 20.6515 - dense_35_loss: 1.3092 - dense_36_loss: 1.8218 - dense_37_loss: 2.9044 - dense_38_loss: 3.6856 - dense_39_loss: 4.9079 - dense_40_loss: 6.0227 - dense_35_acc: 0.3996 - dense_36_acc: 0.2999 - dense_37_acc: 0.2030 - dense_38_acc: 0.1375 - dense_39_acc: 0.1362 - dense_40_acc: 0.1246 - val_loss: 20.9608 - val_dense_35_loss: 1.3127 - val_dense_36_loss: 1.8260 - val_dense_37_loss: 2.9231 - val_dense_38_loss: 3.7101 - val_dense_39_loss: 4.9510 - val_dense_40_loss: 6.2379 - val_dense_35_acc: 0.3966 - val_dense_36_acc: 0.3033 - val_dense_37_acc: 0.2038 - val_dense_38_acc: 0.1376 - val_dense_39_acc: 0.1363 - val_dense_40_acc: 0.1212\n",
      "Epoch 8/50\n",
      " - 1248s - loss: 20.6440 - dense_35_loss: 1.3092 - dense_36_loss: 1.8219 - dense_37_loss: 2.9044 - dense_38_loss: 3.6854 - dense_39_loss: 4.9067 - dense_40_loss: 6.0163 - dense_35_acc: 0.3993 - dense_36_acc: 0.2999 - dense_37_acc: 0.2030 - dense_38_acc: 0.1375 - dense_39_acc: 0.1362 - dense_40_acc: 0.1246 - val_loss: 20.9667 - val_dense_35_loss: 1.3126 - val_dense_36_loss: 1.8259 - val_dense_37_loss: 2.9228 - val_dense_38_loss: 3.7095 - val_dense_39_loss: 4.9507 - val_dense_40_loss: 6.2454 - val_dense_35_acc: 0.3966 - val_dense_36_acc: 0.3033 - val_dense_37_acc: 0.2038 - val_dense_38_acc: 0.1376 - val_dense_39_acc: 0.1363 - val_dense_40_acc: 0.1212\n"
     ]
    },
    {
     "data": {
      "text/plain": [
       "<keras.callbacks.History at 0x7fa6e6f217f0>"
      ]
     },
     "execution_count": 40,
     "metadata": {
      "tags": []
     },
     "output_type": "execute_result"
    }
   ],
   "source": [
    "batch_size = 250\n",
    "#m.load_weights('./PCR_SILVA_all/W2V/6_Block_ResNet_No_W2V.hdfs')\n",
    "filepath = ''.join('./PCR_SILVA_all/W2V/6_Block_ResNet_No_W2V.hdfs')\n",
    "Checkpoint = ModelCheckpoint(filepath,monitor='val_loss', save_best_only=True,\n",
    "                             save_weights_only=True,period=1)\n",
    "csv_logger = CSVLogger('./PCR_SILVA_all/W2V/2_Block_ResNet_No_W2V.log')\n",
    "EarlyStop = EarlyStopping(monitor='val_loss', min_delta=0, patience=5, verbose=0, mode='auto')\n",
    "\n",
    "m.fit_generator(simulate_multioutput_ngs_generator(train,batch_size=batch_size,len1=25),\n",
    "                epochs=50,shuffle=True,\n",
    "                steps_per_epoch=train.shape[0]//batch_size,\n",
    "                validation_data=simulate_multioutput_ngs_generator\n",
    "                (valid,batch_size=batch_size,len1=25),\n",
    "                validation_steps=valid.shape[0]//batch_size,\n",
    "                verbose=2,callbacks=[Checkpoint,csv_logger,EarlyStop])"
   ]
  },
  {
   "cell_type": "markdown",
   "metadata": {
    "colab_type": "text",
    "id": "OLMwWKus15se"
   },
   "source": [
    "### 6_block_ResNet"
   ]
  },
  {
   "cell_type": "code",
   "execution_count": 0,
   "metadata": {
    "colab": {},
    "colab_type": "code",
    "collapsed": true,
    "id": "owreAnd618oM"
   },
   "outputs": [],
   "source": [
    "#6_Block_ResNet_No_W2V\n",
    "inp = Input(shape=(max_len,),dtype='uint16')\n",
    "main = Embedding(max_features, vector_size, weights=[embedding_matrix],trainable=False)(inp)\n",
    "#main = Embedding(5, 128)(inp)\n",
    "#main = SpatialDropout1D(dr_rate)(main)\n",
    "main = Conv1D(filters=64, kernel_size=3, padding='same')(main)\n",
    "i_l1 = MaxPooling1D(pool_size=2)(main)\n",
    "\n",
    "main = Conv1D(filters=64, kernel_size=3, padding='same')(main)\n",
    "main = BatchNormalization()(main)\n",
    "main = Activation('relu')(main)\n",
    "main = Conv1D(filters=64, kernel_size=3, padding='same')(main)\n",
    "main = concatenate([main, i_l1],axis=1)\n",
    "main = BatchNormalization()(main)\n",
    "main = Activation('relu')(main)\n",
    "main = MaxPooling1D(pool_size=2)(main)\n",
    "\n",
    "for i in range(5):\n",
    "    i_l1 = Conv1D(filters=128, kernel_size=1, padding='same')(main)\n",
    "    main = Conv1D(filters=128, kernel_size=3, padding='same')(main)\n",
    "    main = BatchNormalization()(main)\n",
    "    main = Activation('relu')(main)\n",
    "    main = Conv1D(filters=128, kernel_size=3, padding='same')(main)\n",
    "    main = concatenate([main, i_l1],axis=1)\n",
    "    main = BatchNormalization()(main)\n",
    "    main = Activation('relu')(main)\n",
    "    main = MaxPooling1D(pool_size=2)(main)\n",
    "\n",
    "main = GlobalMaxPool1D()(main)\n",
    "main = Dense(2048, activation='relu')(main)  # Should be 4096\n",
    "main = Dense(1024, activation='relu')(main)  # Should be 2048\n",
    "\n",
    "out1 = Dense(classes_1,activation='softmax')(main)\n",
    "out2 = Dense(classes_2,activation='softmax')(main)\n",
    "out3 = Dense(classes_3,activation='softmax')(main)\n",
    "out4 = Dense(classes_4,activation='softmax')(main)\n",
    "out5 = Dense(classes_5,activation='softmax')(main)\n",
    "out6 = Dense(classes_6,activation='softmax')(main)\n",
    "\n",
    "m = Model(inputs=[inp], outputs=[out1,out2,out3,out4,out5,out6])\n",
    "\n",
    "optimizer = AdamW(lr=0.001, beta_1=0.9, beta_2=0.999, weight_decay=1e-4, epsilon=1e-8, decay=0.)\n",
    "m.compile(loss='sparse_categorical_crossentropy',optimizer=optimizer,metrics=['acc'])"
   ]
  },
  {
   "cell_type": "code",
   "execution_count": 0,
   "metadata": {
    "colab": {
     "base_uri": "https://localhost:8080/",
     "height": 1235
    },
    "colab_type": "code",
    "collapsed": false,
    "id": "Ls7faP2L2EOQ",
    "outputId": "07ddb839-2598-4bc3-a535-d566a5d9b846"
   },
   "outputs": [
    {
     "name": "stdout",
     "output_type": "stream",
     "text": [
      "Epoch 1/50\n",
      " - 1297s - loss: 7.2411 - dense_3_loss: 0.2169 - dense_4_loss: 0.3219 - dense_5_loss: 0.6687 - dense_6_loss: 0.9779 - dense_7_loss: 1.8557 - dense_8_loss: 3.2000 - dense_3_acc: 0.9288 - dense_4_acc: 0.9031 - dense_5_acc: 0.8217 - dense_6_acc: 0.7601 - dense_7_acc: 0.5991 - dense_8_acc: 0.4473 - val_loss: 6.5384 - val_dense_3_loss: 0.1770 - val_dense_4_loss: 0.2784 - val_dense_5_loss: 0.5657 - val_dense_6_loss: 0.8243 - val_dense_7_loss: 1.5830 - val_dense_8_loss: 3.1099 - val_dense_3_acc: 0.9405 - val_dense_4_acc: 0.9134 - val_dense_5_acc: 0.8439 - val_dense_6_acc: 0.7895 - val_dense_7_acc: 0.6400 - val_dense_8_acc: 0.4644\n",
      "Epoch 2/50\n",
      " - 1228s - loss: 5.2040 - dense_3_loss: 0.1464 - dense_4_loss: 0.2192 - dense_5_loss: 0.4500 - dense_6_loss: 0.6509 - dense_7_loss: 1.2855 - dense_8_loss: 2.4520 - dense_3_acc: 0.9472 - dense_4_acc: 0.9296 - dense_5_acc: 0.8743 - dense_6_acc: 0.8328 - dense_7_acc: 0.6996 - dense_8_acc: 0.5225 - val_loss: 5.6615 - val_dense_3_loss: 0.1580 - val_dense_4_loss: 0.2293 - val_dense_5_loss: 0.4715 - val_dense_6_loss: 0.6793 - val_dense_7_loss: 1.3354 - val_dense_8_loss: 2.7880 - val_dense_3_acc: 0.9447 - val_dense_4_acc: 0.9275 - val_dense_5_acc: 0.8686 - val_dense_6_acc: 0.8265 - val_dense_7_acc: 0.6925 - val_dense_8_acc: 0.5020\n",
      "Epoch 3/50\n",
      " - 1225s - loss: 4.7828 - dense_3_loss: 0.1339 - dense_4_loss: 0.2008 - dense_5_loss: 0.4113 - dense_6_loss: 0.5912 - dense_7_loss: 1.1675 - dense_8_loss: 2.2781 - dense_3_acc: 0.9511 - dense_4_acc: 0.9353 - dense_5_acc: 0.8839 - dense_6_acc: 0.8467 - dense_7_acc: 0.7225 - dense_8_acc: 0.5424 - val_loss: 5.1673 - val_dense_3_loss: 0.1409 - val_dense_4_loss: 0.2098 - val_dense_5_loss: 0.4261 - val_dense_6_loss: 0.6075 - val_dense_7_loss: 1.2008 - val_dense_8_loss: 2.5821 - val_dense_3_acc: 0.9485 - val_dense_4_acc: 0.9326 - val_dense_5_acc: 0.8811 - val_dense_6_acc: 0.8448 - val_dense_7_acc: 0.7192 - val_dense_8_acc: 0.5273\n",
      "Epoch 4/50\n",
      " - 1214s - loss: 4.5488 - dense_3_loss: 0.1282 - dense_4_loss: 0.1915 - dense_5_loss: 0.3905 - dense_6_loss: 0.5588 - dense_7_loss: 1.1017 - dense_8_loss: 2.1782 - dense_3_acc: 0.9521 - dense_4_acc: 0.9375 - dense_5_acc: 0.8882 - dense_6_acc: 0.8541 - dense_7_acc: 0.7362 - dense_8_acc: 0.5544 - val_loss: 5.0160 - val_dense_3_loss: 0.1349 - val_dense_4_loss: 0.2039 - val_dense_5_loss: 0.4104 - val_dense_6_loss: 0.5896 - val_dense_7_loss: 1.1596 - val_dense_8_loss: 2.5176 - val_dense_3_acc: 0.9512 - val_dense_4_acc: 0.9350 - val_dense_5_acc: 0.8857 - val_dense_6_acc: 0.8468 - val_dense_7_acc: 0.7275 - val_dense_8_acc: 0.5302\n",
      "Epoch 5/50\n",
      " - 1226s - loss: 4.3886 - dense_3_loss: 0.1232 - dense_4_loss: 0.1844 - dense_5_loss: 0.3760 - dense_6_loss: 0.5351 - dense_7_loss: 1.0570 - dense_8_loss: 2.1129 - dense_3_acc: 0.9539 - dense_4_acc: 0.9396 - dense_5_acc: 0.8920 - dense_6_acc: 0.8595 - dense_7_acc: 0.7448 - dense_8_acc: 0.5628 - val_loss: 4.8501 - val_dense_3_loss: 0.1299 - val_dense_4_loss: 0.1912 - val_dense_5_loss: 0.3960 - val_dense_6_loss: 0.5638 - val_dense_7_loss: 1.1214 - val_dense_8_loss: 2.4478 - val_dense_3_acc: 0.9518 - val_dense_4_acc: 0.9370 - val_dense_5_acc: 0.8874 - val_dense_6_acc: 0.8526 - val_dense_7_acc: 0.7345 - val_dense_8_acc: 0.5403\n",
      "Epoch 6/50\n",
      " - 1224s - loss: 4.2883 - dense_3_loss: 0.1212 - dense_4_loss: 0.1811 - dense_5_loss: 0.3679 - dense_6_loss: 0.5225 - dense_7_loss: 1.0283 - dense_8_loss: 2.0674 - dense_3_acc: 0.9543 - dense_4_acc: 0.9401 - dense_5_acc: 0.8942 - dense_6_acc: 0.8621 - dense_7_acc: 0.7509 - dense_8_acc: 0.5688 - val_loss: 4.6437 - val_dense_3_loss: 0.1226 - val_dense_4_loss: 0.1806 - val_dense_5_loss: 0.3754 - val_dense_6_loss: 0.5310 - val_dense_7_loss: 1.0628 - val_dense_8_loss: 2.3714 - val_dense_3_acc: 0.9551 - val_dense_4_acc: 0.9415 - val_dense_5_acc: 0.8937 - val_dense_6_acc: 0.8625 - val_dense_7_acc: 0.7484 - val_dense_8_acc: 0.5505\n",
      "Epoch 7/50\n",
      " - 1217s - loss: 4.1806 - dense_3_loss: 0.1171 - dense_4_loss: 0.1749 - dense_5_loss: 0.3576 - dense_6_loss: 0.5072 - dense_7_loss: 0.9996 - dense_8_loss: 2.0242 - dense_3_acc: 0.9554 - dense_4_acc: 0.9418 - dense_5_acc: 0.8969 - dense_6_acc: 0.8659 - dense_7_acc: 0.7571 - dense_8_acc: 0.5743 - val_loss: 4.7092 - val_dense_3_loss: 0.1297 - val_dense_4_loss: 0.1903 - val_dense_5_loss: 0.3834 - val_dense_6_loss: 0.5455 - val_dense_7_loss: 1.0730 - val_dense_8_loss: 2.3872 - val_dense_3_acc: 0.9523 - val_dense_4_acc: 0.9387 - val_dense_5_acc: 0.8908 - val_dense_6_acc: 0.8586 - val_dense_7_acc: 0.7480 - val_dense_8_acc: 0.5527\n",
      "Epoch 8/50\n",
      " - 1227s - loss: 4.1140 - dense_3_loss: 0.1160 - dense_4_loss: 0.1743 - dense_5_loss: 0.3523 - dense_6_loss: 0.4981 - dense_7_loss: 0.9795 - dense_8_loss: 1.9939 - dense_3_acc: 0.9560 - dense_4_acc: 0.9424 - dense_5_acc: 0.8985 - dense_6_acc: 0.8687 - dense_7_acc: 0.7617 - dense_8_acc: 0.5790 - val_loss: 4.6021 - val_dense_3_loss: 0.1228 - val_dense_4_loss: 0.1821 - val_dense_5_loss: 0.3746 - val_dense_6_loss: 0.5311 - val_dense_7_loss: 1.0457 - val_dense_8_loss: 2.3456 - val_dense_3_acc: 0.9536 - val_dense_4_acc: 0.9389 - val_dense_5_acc: 0.8932 - val_dense_6_acc: 0.8620 - val_dense_7_acc: 0.7535 - val_dense_8_acc: 0.5560\n",
      "Epoch 9/50\n",
      " - 1224s - loss: 4.0437 - dense_3_loss: 0.1135 - dense_4_loss: 0.1702 - dense_5_loss: 0.3449 - dense_6_loss: 0.4880 - dense_7_loss: 0.9604 - dense_8_loss: 1.9667 - dense_3_acc: 0.9564 - dense_4_acc: 0.9431 - dense_5_acc: 0.9000 - dense_6_acc: 0.8710 - dense_7_acc: 0.7656 - dense_8_acc: 0.5829 - val_loss: 4.5309 - val_dense_3_loss: 0.1234 - val_dense_4_loss: 0.1832 - val_dense_5_loss: 0.3663 - val_dense_6_loss: 0.5216 - val_dense_7_loss: 1.0274 - val_dense_8_loss: 2.3089 - val_dense_3_acc: 0.9546 - val_dense_4_acc: 0.9406 - val_dense_5_acc: 0.8958 - val_dense_6_acc: 0.8636 - val_dense_7_acc: 0.7555 - val_dense_8_acc: 0.5589\n",
      "Epoch 10/50\n",
      " - 1226s - loss: 4.0020 - dense_3_loss: 0.1129 - dense_4_loss: 0.1691 - dense_5_loss: 0.3427 - dense_6_loss: 0.4833 - dense_7_loss: 0.9479 - dense_8_loss: 1.9461 - dense_3_acc: 0.9567 - dense_4_acc: 0.9436 - dense_5_acc: 0.9009 - dense_6_acc: 0.8724 - dense_7_acc: 0.7691 - dense_8_acc: 0.5861 - val_loss: 4.4121 - val_dense_3_loss: 0.1181 - val_dense_4_loss: 0.1757 - val_dense_5_loss: 0.3566 - val_dense_6_loss: 0.5061 - val_dense_7_loss: 0.9960 - val_dense_8_loss: 2.2595 - val_dense_3_acc: 0.9565 - val_dense_4_acc: 0.9428 - val_dense_5_acc: 0.8985 - val_dense_6_acc: 0.8678 - val_dense_7_acc: 0.7643 - val_dense_8_acc: 0.5668\n",
      "Epoch 11/50\n",
      " - 1224s - loss: 3.9553 - dense_3_loss: 0.1110 - dense_4_loss: 0.1668 - dense_5_loss: 0.3377 - dense_6_loss: 0.4765 - dense_7_loss: 0.9359 - dense_8_loss: 1.9274 - dense_3_acc: 0.9574 - dense_4_acc: 0.9443 - dense_5_acc: 0.9021 - dense_6_acc: 0.8737 - dense_7_acc: 0.7711 - dense_8_acc: 0.5886 - val_loss: 4.4104 - val_dense_3_loss: 0.1170 - val_dense_4_loss: 0.1749 - val_dense_5_loss: 0.3583 - val_dense_6_loss: 0.5058 - val_dense_7_loss: 0.9930 - val_dense_8_loss: 2.2615 - val_dense_3_acc: 0.9563 - val_dense_4_acc: 0.9425 - val_dense_5_acc: 0.8983 - val_dense_6_acc: 0.8681 - val_dense_7_acc: 0.7642 - val_dense_8_acc: 0.5674\n",
      "Epoch 12/50\n",
      " - 1225s - loss: 3.9261 - dense_3_loss: 0.1101 - dense_4_loss: 0.1657 - dense_5_loss: 0.3353 - dense_6_loss: 0.4721 - dense_7_loss: 0.9283 - dense_8_loss: 1.9146 - dense_3_acc: 0.9575 - dense_4_acc: 0.9444 - dense_5_acc: 0.9023 - dense_6_acc: 0.8745 - dense_7_acc: 0.7730 - dense_8_acc: 0.5908 - val_loss: 4.3518 - val_dense_3_loss: 0.1169 - val_dense_4_loss: 0.1727 - val_dense_5_loss: 0.3520 - val_dense_6_loss: 0.4981 - val_dense_7_loss: 0.9766 - val_dense_8_loss: 2.2356 - val_dense_3_acc: 0.9554 - val_dense_4_acc: 0.9422 - val_dense_5_acc: 0.9002 - val_dense_6_acc: 0.8712 - val_dense_7_acc: 0.7674 - val_dense_8_acc: 0.5700\n",
      "Epoch 13/50\n",
      " - 1225s - loss: 3.8836 - dense_3_loss: 0.1090 - dense_4_loss: 0.1641 - dense_5_loss: 0.3308 - dense_6_loss: 0.4667 - dense_7_loss: 0.9160 - dense_8_loss: 1.8969 - dense_3_acc: 0.9579 - dense_4_acc: 0.9449 - dense_5_acc: 0.9035 - dense_6_acc: 0.8759 - dense_7_acc: 0.7757 - dense_8_acc: 0.5932 - val_loss: 4.3664 - val_dense_3_loss: 0.1174 - val_dense_4_loss: 0.1733 - val_dense_5_loss: 0.3520 - val_dense_6_loss: 0.4967 - val_dense_7_loss: 0.9831 - val_dense_8_loss: 2.2440 - val_dense_3_acc: 0.9558 - val_dense_4_acc: 0.9423 - val_dense_5_acc: 0.8978 - val_dense_6_acc: 0.8700 - val_dense_7_acc: 0.7656 - val_dense_8_acc: 0.5694\n",
      "Epoch 14/50\n",
      " - 1223s - loss: 3.8551 - dense_3_loss: 0.1076 - dense_4_loss: 0.1619 - dense_5_loss: 0.3284 - dense_6_loss: 0.4629 - dense_7_loss: 0.9086 - dense_8_loss: 1.8857 - dense_3_acc: 0.9580 - dense_4_acc: 0.9452 - dense_5_acc: 0.9039 - dense_6_acc: 0.8766 - dense_7_acc: 0.7766 - dense_8_acc: 0.5941 - val_loss: 4.2931 - val_dense_3_loss: 0.1143 - val_dense_4_loss: 0.1709 - val_dense_5_loss: 0.3471 - val_dense_6_loss: 0.4884 - val_dense_7_loss: 0.9618 - val_dense_8_loss: 2.2106 - val_dense_3_acc: 0.9566 - val_dense_4_acc: 0.9433 - val_dense_5_acc: 0.9006 - val_dense_6_acc: 0.8730 - val_dense_7_acc: 0.7717 - val_dense_8_acc: 0.5740\n",
      "Epoch 15/50\n",
      " - 1225s - loss: 3.8282 - dense_3_loss: 0.1075 - dense_4_loss: 0.1614 - dense_5_loss: 0.3258 - dense_6_loss: 0.4581 - dense_7_loss: 0.9020 - dense_8_loss: 1.8735 - dense_3_acc: 0.9586 - dense_4_acc: 0.9459 - dense_5_acc: 0.9050 - dense_6_acc: 0.8781 - dense_7_acc: 0.7788 - dense_8_acc: 0.5964 - val_loss: 4.2809 - val_dense_3_loss: 0.1143 - val_dense_4_loss: 0.1686 - val_dense_5_loss: 0.3428 - val_dense_6_loss: 0.4862 - val_dense_7_loss: 0.9597 - val_dense_8_loss: 2.2093 - val_dense_3_acc: 0.9572 - val_dense_4_acc: 0.9444 - val_dense_5_acc: 0.9013 - val_dense_6_acc: 0.8722 - val_dense_7_acc: 0.7704 - val_dense_8_acc: 0.5729\n",
      "Epoch 16/50\n",
      " - 1227s - loss: 3.8071 - dense_3_loss: 0.1074 - dense_4_loss: 0.1604 - dense_5_loss: 0.3240 - dense_6_loss: 0.4559 - dense_7_loss: 0.8944 - dense_8_loss: 1.8651 - dense_3_acc: 0.9584 - dense_4_acc: 0.9460 - dense_5_acc: 0.9052 - dense_6_acc: 0.8782 - dense_7_acc: 0.7802 - dense_8_acc: 0.5972 - val_loss: 4.2858 - val_dense_3_loss: 0.1154 - val_dense_4_loss: 0.1712 - val_dense_5_loss: 0.3465 - val_dense_6_loss: 0.4872 - val_dense_7_loss: 0.9619 - val_dense_8_loss: 2.2037 - val_dense_3_acc: 0.9570 - val_dense_4_acc: 0.9439 - val_dense_5_acc: 0.9001 - val_dense_6_acc: 0.8712 - val_dense_7_acc: 0.7698 - val_dense_8_acc: 0.5728\n",
      "Epoch 17/50\n",
      " - 1226s - loss: 3.7958 - dense_3_loss: 0.1062 - dense_4_loss: 0.1605 - dense_5_loss: 0.3236 - dense_6_loss: 0.4538 - dense_7_loss: 0.8933 - dense_8_loss: 1.8585 - dense_3_acc: 0.9588 - dense_4_acc: 0.9459 - dense_5_acc: 0.9059 - dense_6_acc: 0.8793 - dense_7_acc: 0.7806 - dense_8_acc: 0.5983 - val_loss: 4.2473 - val_dense_3_loss: 0.1134 - val_dense_4_loss: 0.1684 - val_dense_5_loss: 0.3429 - val_dense_6_loss: 0.4830 - val_dense_7_loss: 0.9455 - val_dense_8_loss: 2.1943 - val_dense_3_acc: 0.9573 - val_dense_4_acc: 0.9448 - val_dense_5_acc: 0.9013 - val_dense_6_acc: 0.8742 - val_dense_7_acc: 0.7739 - val_dense_8_acc: 0.5782\n",
      "Epoch 18/50\n",
      " - 1224s - loss: 3.7626 - dense_3_loss: 0.1052 - dense_4_loss: 0.1587 - dense_5_loss: 0.3202 - dense_6_loss: 0.4489 - dense_7_loss: 0.8831 - dense_8_loss: 1.8464 - dense_3_acc: 0.9589 - dense_4_acc: 0.9462 - dense_5_acc: 0.9059 - dense_6_acc: 0.8798 - dense_7_acc: 0.7825 - dense_8_acc: 0.6004 - val_loss: 4.2441 - val_dense_3_loss: 0.1135 - val_dense_4_loss: 0.1675 - val_dense_5_loss: 0.3400 - val_dense_6_loss: 0.4834 - val_dense_7_loss: 0.9525 - val_dense_8_loss: 2.1872 - val_dense_3_acc: 0.9571 - val_dense_4_acc: 0.9444 - val_dense_5_acc: 0.9025 - val_dense_6_acc: 0.8731 - val_dense_7_acc: 0.7720 - val_dense_8_acc: 0.5746\n",
      "Epoch 19/50\n",
      " - 1228s - loss: 3.7493 - dense_3_loss: 0.1046 - dense_4_loss: 0.1578 - dense_5_loss: 0.3190 - dense_6_loss: 0.4482 - dense_7_loss: 0.8800 - dense_8_loss: 1.8397 - dense_3_acc: 0.9591 - dense_4_acc: 0.9465 - dense_5_acc: 0.9065 - dense_6_acc: 0.8803 - dense_7_acc: 0.7829 - dense_8_acc: 0.6012 - val_loss: 4.1825 - val_dense_3_loss: 0.1105 - val_dense_4_loss: 0.1633 - val_dense_5_loss: 0.3382 - val_dense_6_loss: 0.4734 - val_dense_7_loss: 0.9323 - val_dense_8_loss: 2.1647 - val_dense_3_acc: 0.9572 - val_dense_4_acc: 0.9450 - val_dense_5_acc: 0.9027 - val_dense_6_acc: 0.8761 - val_dense_7_acc: 0.7771 - val_dense_8_acc: 0.5800\n",
      "Epoch 20/50\n",
      " - 1227s - loss: 3.7380 - dense_3_loss: 0.1051 - dense_4_loss: 0.1580 - dense_5_loss: 0.3179 - dense_6_loss: 0.4460 - dense_7_loss: 0.8761 - dense_8_loss: 1.8349 - dense_3_acc: 0.9591 - dense_4_acc: 0.9467 - dense_5_acc: 0.9068 - dense_6_acc: 0.8806 - dense_7_acc: 0.7840 - dense_8_acc: 0.6016 - val_loss: 4.2100 - val_dense_3_loss: 0.1123 - val_dense_4_loss: 0.1678 - val_dense_5_loss: 0.3415 - val_dense_6_loss: 0.4805 - val_dense_7_loss: 0.9359 - val_dense_8_loss: 2.1720 - val_dense_3_acc: 0.9572 - val_dense_4_acc: 0.9446 - val_dense_5_acc: 0.9018 - val_dense_6_acc: 0.8738 - val_dense_7_acc: 0.7773 - val_dense_8_acc: 0.5798\n",
      "Epoch 21/50\n",
      " - 1226s - loss: 3.7314 - dense_3_loss: 0.1044 - dense_4_loss: 0.1572 - dense_5_loss: 0.3180 - dense_6_loss: 0.4465 - dense_7_loss: 0.8750 - dense_8_loss: 1.8305 - dense_3_acc: 0.9592 - dense_4_acc: 0.9466 - dense_5_acc: 0.9068 - dense_6_acc: 0.8806 - dense_7_acc: 0.7838 - dense_8_acc: 0.6023 - val_loss: 4.1638 - val_dense_3_loss: 0.1111 - val_dense_4_loss: 0.1653 - val_dense_5_loss: 0.3341 - val_dense_6_loss: 0.4683 - val_dense_7_loss: 0.9267 - val_dense_8_loss: 2.1582 - val_dense_3_acc: 0.9580 - val_dense_4_acc: 0.9454 - val_dense_5_acc: 0.9043 - val_dense_6_acc: 0.8788 - val_dense_7_acc: 0.7793 - val_dense_8_acc: 0.5832\n",
      "Epoch 22/50\n",
      " - 1225s - loss: 3.7118 - dense_3_loss: 0.1048 - dense_4_loss: 0.1568 - dense_5_loss: 0.3159 - dense_6_loss: 0.4417 - dense_7_loss: 0.8692 - dense_8_loss: 1.8233 - dense_3_acc: 0.9591 - dense_4_acc: 0.9470 - dense_5_acc: 0.9071 - dense_6_acc: 0.8817 - dense_7_acc: 0.7853 - dense_8_acc: 0.6041 - val_loss: 4.1609 - val_dense_3_loss: 0.1113 - val_dense_4_loss: 0.1651 - val_dense_5_loss: 0.3323 - val_dense_6_loss: 0.4701 - val_dense_7_loss: 0.9249 - val_dense_8_loss: 2.1571 - val_dense_3_acc: 0.9579 - val_dense_4_acc: 0.9452 - val_dense_5_acc: 0.9043 - val_dense_6_acc: 0.8766 - val_dense_7_acc: 0.7789 - val_dense_8_acc: 0.5802\n",
      "Epoch 23/50\n",
      " - 1227s - loss: 3.6992 - dense_3_loss: 0.1037 - dense_4_loss: 0.1565 - dense_5_loss: 0.3147 - dense_6_loss: 0.4405 - dense_7_loss: 0.8655 - dense_8_loss: 1.8183 - dense_3_acc: 0.9593 - dense_4_acc: 0.9471 - dense_5_acc: 0.9076 - dense_6_acc: 0.8824 - dense_7_acc: 0.7864 - dense_8_acc: 0.6047 - val_loss: 4.1394 - val_dense_3_loss: 0.1079 - val_dense_4_loss: 0.1609 - val_dense_5_loss: 0.3311 - val_dense_6_loss: 0.4654 - val_dense_7_loss: 0.9218 - val_dense_8_loss: 2.1523 - val_dense_3_acc: 0.9583 - val_dense_4_acc: 0.9455 - val_dense_5_acc: 0.9048 - val_dense_6_acc: 0.8786 - val_dense_7_acc: 0.7801 - val_dense_8_acc: 0.5811\n",
      "Epoch 24/50\n",
      " - 1225s - loss: 3.6809 - dense_3_loss: 0.1035 - dense_4_loss: 0.1553 - dense_5_loss: 0.3131 - dense_6_loss: 0.4378 - dense_7_loss: 0.8605 - dense_8_loss: 1.8108 - dense_3_acc: 0.9594 - dense_4_acc: 0.9473 - dense_5_acc: 0.9083 - dense_6_acc: 0.8829 - dense_7_acc: 0.7875 - dense_8_acc: 0.6065 - val_loss: 4.1570 - val_dense_3_loss: 0.1110 - val_dense_4_loss: 0.1645 - val_dense_5_loss: 0.3340 - val_dense_6_loss: 0.4694 - val_dense_7_loss: 0.9274 - val_dense_8_loss: 2.1506 - val_dense_3_acc: 0.9574 - val_dense_4_acc: 0.9455 - val_dense_5_acc: 0.9043 - val_dense_6_acc: 0.8770 - val_dense_7_acc: 0.7783 - val_dense_8_acc: 0.5824\n",
      "Epoch 25/50\n",
      " - 1227s - loss: 3.6763 - dense_3_loss: 0.1034 - dense_4_loss: 0.1553 - dense_5_loss: 0.3137 - dense_6_loss: 0.4382 - dense_7_loss: 0.8586 - dense_8_loss: 1.8071 - dense_3_acc: 0.9597 - dense_4_acc: 0.9478 - dense_5_acc: 0.9079 - dense_6_acc: 0.8832 - dense_7_acc: 0.7883 - dense_8_acc: 0.6067 - val_loss: 4.1676 - val_dense_3_loss: 0.1105 - val_dense_4_loss: 0.1634 - val_dense_5_loss: 0.3328 - val_dense_6_loss: 0.4707 - val_dense_7_loss: 0.9304 - val_dense_8_loss: 2.1598 - val_dense_3_acc: 0.9586 - val_dense_4_acc: 0.9463 - val_dense_5_acc: 0.9048 - val_dense_6_acc: 0.8771 - val_dense_7_acc: 0.7777 - val_dense_8_acc: 0.5823\n",
      "Epoch 26/50\n",
      " - 1227s - loss: 3.6683 - dense_3_loss: 0.1031 - dense_4_loss: 0.1550 - dense_5_loss: 0.3125 - dense_6_loss: 0.4372 - dense_7_loss: 0.8573 - dense_8_loss: 1.8032 - dense_3_acc: 0.9594 - dense_4_acc: 0.9472 - dense_5_acc: 0.9080 - dense_6_acc: 0.8828 - dense_7_acc: 0.7882 - dense_8_acc: 0.6076 - val_loss: 4.1258 - val_dense_3_loss: 0.1091 - val_dense_4_loss: 0.1636 - val_dense_5_loss: 0.3317 - val_dense_6_loss: 0.4676 - val_dense_7_loss: 0.9162 - val_dense_8_loss: 2.1375 - val_dense_3_acc: 0.9577 - val_dense_4_acc: 0.9445 - val_dense_5_acc: 0.9039 - val_dense_6_acc: 0.8784 - val_dense_7_acc: 0.7812 - val_dense_8_acc: 0.5847\n",
      "Epoch 27/50\n",
      " - 1228s - loss: 3.6584 - dense_3_loss: 0.1027 - dense_4_loss: 0.1541 - dense_5_loss: 0.3113 - dense_6_loss: 0.4359 - dense_7_loss: 0.8554 - dense_8_loss: 1.7990 - dense_3_acc: 0.9597 - dense_4_acc: 0.9476 - dense_5_acc: 0.9087 - dense_6_acc: 0.8834 - dense_7_acc: 0.7883 - dense_8_acc: 0.6079 - val_loss: 4.1253 - val_dense_3_loss: 0.1085 - val_dense_4_loss: 0.1615 - val_dense_5_loss: 0.3337 - val_dense_6_loss: 0.4676 - val_dense_7_loss: 0.9192 - val_dense_8_loss: 2.1348 - val_dense_3_acc: 0.9591 - val_dense_4_acc: 0.9467 - val_dense_5_acc: 0.9039 - val_dense_6_acc: 0.8771 - val_dense_7_acc: 0.7799 - val_dense_8_acc: 0.5819\n",
      "Epoch 28/50\n",
      " - 1226s - loss: 3.6538 - dense_3_loss: 0.1031 - dense_4_loss: 0.1548 - dense_5_loss: 0.3109 - dense_6_loss: 0.4346 - dense_7_loss: 0.8530 - dense_8_loss: 1.7973 - dense_3_acc: 0.9599 - dense_4_acc: 0.9478 - dense_5_acc: 0.9086 - dense_6_acc: 0.8837 - dense_7_acc: 0.7894 - dense_8_acc: 0.6075 - val_loss: 4.1198 - val_dense_3_loss: 0.1105 - val_dense_4_loss: 0.1637 - val_dense_5_loss: 0.3324 - val_dense_6_loss: 0.4657 - val_dense_7_loss: 0.9155 - val_dense_8_loss: 2.1320 - val_dense_3_acc: 0.9571 - val_dense_4_acc: 0.9456 - val_dense_5_acc: 0.9031 - val_dense_6_acc: 0.8772 - val_dense_7_acc: 0.7810 - val_dense_8_acc: 0.5847\n",
      "Epoch 29/50\n",
      " - 1226s - loss: 3.6402 - dense_3_loss: 0.1024 - dense_4_loss: 0.1532 - dense_5_loss: 0.3092 - dense_6_loss: 0.4333 - dense_7_loss: 0.8500 - dense_8_loss: 1.7921 - dense_3_acc: 0.9598 - dense_4_acc: 0.9477 - dense_5_acc: 0.9089 - dense_6_acc: 0.8837 - dense_7_acc: 0.7902 - dense_8_acc: 0.6089 - val_loss: 4.1285 - val_dense_3_loss: 0.1092 - val_dense_4_loss: 0.1635 - val_dense_5_loss: 0.3316 - val_dense_6_loss: 0.4673 - val_dense_7_loss: 0.9197 - val_dense_8_loss: 2.1373 - val_dense_3_acc: 0.9578 - val_dense_4_acc: 0.9461 - val_dense_5_acc: 0.9043 - val_dense_6_acc: 0.8780 - val_dense_7_acc: 0.7810 - val_dense_8_acc: 0.5849\n",
      "Epoch 30/50\n",
      " - 1225s - loss: 3.6206 - dense_3_loss: 0.1010 - dense_4_loss: 0.1518 - dense_5_loss: 0.3076 - dense_6_loss: 0.4303 - dense_7_loss: 0.8443 - dense_8_loss: 1.7856 - dense_3_acc: 0.9600 - dense_4_acc: 0.9481 - dense_5_acc: 0.9093 - dense_6_acc: 0.8842 - dense_7_acc: 0.7908 - dense_8_acc: 0.6101 - val_loss: 4.1106 - val_dense_3_loss: 0.1088 - val_dense_4_loss: 0.1610 - val_dense_5_loss: 0.3266 - val_dense_6_loss: 0.4609 - val_dense_7_loss: 0.9157 - val_dense_8_loss: 2.1376 - val_dense_3_acc: 0.9586 - val_dense_4_acc: 0.9469 - val_dense_5_acc: 0.9068 - val_dense_6_acc: 0.8793 - val_dense_7_acc: 0.7813 - val_dense_8_acc: 0.5852\n",
      "Epoch 31/50\n",
      " - 1220s - loss: 3.6282 - dense_3_loss: 0.1023 - dense_4_loss: 0.1538 - dense_5_loss: 0.3091 - dense_6_loss: 0.4318 - dense_7_loss: 0.8458 - dense_8_loss: 1.7855 - dense_3_acc: 0.9595 - dense_4_acc: 0.9474 - dense_5_acc: 0.9091 - dense_6_acc: 0.8844 - dense_7_acc: 0.7906 - dense_8_acc: 0.6093 - val_loss: 4.0880 - val_dense_3_loss: 0.1085 - val_dense_4_loss: 0.1611 - val_dense_5_loss: 0.3250 - val_dense_6_loss: 0.4589 - val_dense_7_loss: 0.9084 - val_dense_8_loss: 2.1260 - val_dense_3_acc: 0.9571 - val_dense_4_acc: 0.9449 - val_dense_5_acc: 0.9070 - val_dense_6_acc: 0.8806 - val_dense_7_acc: 0.7848 - val_dense_8_acc: 0.5862\n",
      "Epoch 32/50\n",
      " - 1226s - loss: 3.6110 - dense_3_loss: 0.1013 - dense_4_loss: 0.1524 - dense_5_loss: 0.3066 - dense_6_loss: 0.4285 - dense_7_loss: 0.8421 - dense_8_loss: 1.7800 - dense_3_acc: 0.9598 - dense_4_acc: 0.9480 - dense_5_acc: 0.9099 - dense_6_acc: 0.8851 - dense_7_acc: 0.7915 - dense_8_acc: 0.6104 - val_loss: 4.0703 - val_dense_3_loss: 0.1092 - val_dense_4_loss: 0.1608 - val_dense_5_loss: 0.3272 - val_dense_6_loss: 0.4582 - val_dense_7_loss: 0.9039 - val_dense_8_loss: 2.1109 - val_dense_3_acc: 0.9578 - val_dense_4_acc: 0.9458 - val_dense_5_acc: 0.9051 - val_dense_6_acc: 0.8795 - val_dense_7_acc: 0.7843 - val_dense_8_acc: 0.5888\n",
      "Epoch 33/50\n",
      " - 1227s - loss: 3.6142 - dense_3_loss: 0.1013 - dense_4_loss: 0.1525 - dense_5_loss: 0.3075 - dense_6_loss: 0.4296 - dense_7_loss: 0.8427 - dense_8_loss: 1.7805 - dense_3_acc: 0.9602 - dense_4_acc: 0.9483 - dense_5_acc: 0.9096 - dense_6_acc: 0.8849 - dense_7_acc: 0.7918 - dense_8_acc: 0.6106 - val_loss: 4.0619 - val_dense_3_loss: 0.1081 - val_dense_4_loss: 0.1589 - val_dense_5_loss: 0.3253 - val_dense_6_loss: 0.4563 - val_dense_7_loss: 0.9016 - val_dense_8_loss: 2.1116 - val_dense_3_acc: 0.9592 - val_dense_4_acc: 0.9473 - val_dense_5_acc: 0.9071 - val_dense_6_acc: 0.8815 - val_dense_7_acc: 0.7857 - val_dense_8_acc: 0.5884\n",
      "Epoch 34/50\n",
      " - 1229s - loss: 3.5988 - dense_3_loss: 0.1012 - dense_4_loss: 0.1520 - dense_5_loss: 0.3056 - dense_6_loss: 0.4274 - dense_7_loss: 0.8390 - dense_8_loss: 1.7737 - dense_3_acc: 0.9599 - dense_4_acc: 0.9481 - dense_5_acc: 0.9099 - dense_6_acc: 0.8854 - dense_7_acc: 0.7929 - dense_8_acc: 0.6125 - val_loss: 4.0652 - val_dense_3_loss: 0.1074 - val_dense_4_loss: 0.1605 - val_dense_5_loss: 0.3263 - val_dense_6_loss: 0.4584 - val_dense_7_loss: 0.8993 - val_dense_8_loss: 2.1133 - val_dense_3_acc: 0.9587 - val_dense_4_acc: 0.9461 - val_dense_5_acc: 0.9054 - val_dense_6_acc: 0.8798 - val_dense_7_acc: 0.7844 - val_dense_8_acc: 0.5887\n",
      "Epoch 35/50\n"
     ]
    }
   ],
   "source": [
    "batch_size = 250\n",
    "#m.load_weights('./PCR_SILVA_all/W2V/6_Block_ResNet_No_W2V.hdfs')\n",
    "filepath = ''.join('./PCR_SILVA_all/W2V/6_Block_ResNet.hdfs')\n",
    "Checkpoint = ModelCheckpoint(filepath,monitor='val_loss', save_best_only=True,\n",
    "                             save_weights_only=True,period=1)\n",
    "csv_logger = CSVLogger('./PCR_SILVA_all/W2V/2_Block_ResNet.log')\n",
    "EarlyStop = EarlyStopping(monitor='val_loss', min_delta=0, patience=5, verbose=0, mode='auto')\n",
    "\n",
    "m.fit_generator(simulate_multioutput_ngs_generator(train,batch_size=batch_size,len1=25),\n",
    "                epochs=50,shuffle=True,\n",
    "                steps_per_epoch=train.shape[0]//batch_size,\n",
    "                validation_data=simulate_multioutput_ngs_generator\n",
    "                (valid,batch_size=batch_size,len1=25),\n",
    "                validation_steps=valid.shape[0]//batch_size,\n",
    "                verbose=2,callbacks=[Checkpoint,csv_logger,EarlyStop])"
   ]
  },
  {
   "cell_type": "markdown",
   "metadata": {
    "colab_type": "text",
    "id": "kbdW79VCnRf0"
   },
   "source": [
    "### MLP_W2V"
   ]
  },
  {
   "cell_type": "code",
   "execution_count": 0,
   "metadata": {
    "colab": {},
    "colab_type": "code",
    "collapsed": true,
    "id": "YmDW-zIynUCP"
   },
   "outputs": [],
   "source": [
    "#inp = Input(shape=(max_len,), dtype='uint8')\n",
    "inp = Input(shape=(max_len,),dtype='uint16')\n",
    "main = Embedding(max_features, vector_size, weights=[embedding_matrix],trainable=False)(inp)\n",
    "#main = Embedding(max_features, 128)(inp)\n",
    "main = Dense(512)(main)\n",
    "#main = Dropout(0.25)(main)\n",
    "#main = Dense(128)(main)\n",
    "main = GlobalMaxPool1D()(main)\n",
    "main = Dropout(0.25)(main)\n",
    "main = Dense(512)(main)  # Should be 4096\n",
    "main = Dropout(0.25)(main)\n",
    "#main = Dense(256, activation='relu')(main)  # Should be 2048\n",
    "\n",
    "out1 = Dense(classes_1,activation='softmax')(main)\n",
    "out2 = Dense(classes_2,activation='softmax')(main)\n",
    "out3 = Dense(classes_3,activation='softmax')(main)\n",
    "out4 = Dense(classes_4,activation='softmax')(main)\n",
    "out5 = Dense(classes_5,activation='softmax')(main)\n",
    "out6 = Dense(classes_6,activation='softmax')(main)\n",
    "\n",
    "m = Model(inputs=[inp], outputs=[out1,out2,out3,out4,out5,out6])\n",
    "\n",
    "optimizer = AdamW(lr=0.001, beta_1=0.9, beta_2=0.999, weight_decay=1e-4, epsilon=1e-8, decay=0.)\n",
    "m.compile(loss='sparse_categorical_crossentropy',optimizer=optimizer,metrics=['acc'])"
   ]
  },
  {
   "cell_type": "code",
   "execution_count": 0,
   "metadata": {
    "colab": {
     "base_uri": "https://localhost:8080/",
     "height": 1365
    },
    "colab_type": "code",
    "collapsed": false,
    "id": "2j2Zasm2n5Ci",
    "outputId": "29529914-1687-412b-98bd-3813044f7605"
   },
   "outputs": [
    {
     "name": "stdout",
     "output_type": "stream",
     "text": [
      "Epoch 1/100\n",
      " - 312s - loss: 2.7518 - dense_19_loss: 0.0525 - dense_20_loss: 0.0752 - dense_21_loss: 0.1650 - dense_22_loss: 0.2412 - dense_23_loss: 0.5764 - dense_24_loss: 1.6416 - dense_19_acc: 0.9862 - dense_20_acc: 0.9798 - dense_21_acc: 0.9560 - dense_22_acc: 0.9400 - dense_23_acc: 0.8551 - dense_24_acc: 0.6506 - val_loss: 2.7946 - val_dense_19_loss: 0.0425 - val_dense_20_loss: 0.0614 - val_dense_21_loss: 0.1449 - val_dense_22_loss: 0.2148 - val_dense_23_loss: 0.5380 - val_dense_24_loss: 1.7931 - val_dense_19_acc: 0.9894 - val_dense_20_acc: 0.9842 - val_dense_21_acc: 0.9621 - val_dense_22_acc: 0.9477 - val_dense_23_acc: 0.8675 - val_dense_24_acc: 0.6457\n",
      "Epoch 2/100\n",
      " - 239s - loss: 2.6591 - dense_19_loss: 0.0502 - dense_20_loss: 0.0735 - dense_21_loss: 0.1635 - dense_22_loss: 0.2371 - dense_23_loss: 0.5646 - dense_24_loss: 1.5701 - dense_19_acc: 0.9867 - dense_20_acc: 0.9803 - dense_21_acc: 0.9563 - dense_22_acc: 0.9405 - dense_23_acc: 0.8564 - dense_24_acc: 0.6530 - val_loss: 2.7427 - val_dense_19_loss: 0.0432 - val_dense_20_loss: 0.0615 - val_dense_21_loss: 0.1455 - val_dense_22_loss: 0.2161 - val_dense_23_loss: 0.5365 - val_dense_24_loss: 1.7399 - val_dense_19_acc: 0.9894 - val_dense_20_acc: 0.9842 - val_dense_21_acc: 0.9620 - val_dense_22_acc: 0.9463 - val_dense_23_acc: 0.8655 - val_dense_24_acc: 0.6484\n",
      "Epoch 3/100\n",
      " - 236s - loss: 2.6228 - dense_19_loss: 0.0497 - dense_20_loss: 0.0726 - dense_21_loss: 0.1613 - dense_22_loss: 0.2345 - dense_23_loss: 0.5592 - dense_24_loss: 1.5455 - dense_19_acc: 0.9868 - dense_20_acc: 0.9805 - dense_21_acc: 0.9568 - dense_22_acc: 0.9416 - dense_23_acc: 0.8575 - dense_24_acc: 0.6549 - val_loss: 2.7272 - val_dense_19_loss: 0.0433 - val_dense_20_loss: 0.0628 - val_dense_21_loss: 0.1485 - val_dense_22_loss: 0.2169 - val_dense_23_loss: 0.5331 - val_dense_24_loss: 1.7226 - val_dense_19_acc: 0.9889 - val_dense_20_acc: 0.9839 - val_dense_21_acc: 0.9617 - val_dense_22_acc: 0.9466 - val_dense_23_acc: 0.8672 - val_dense_24_acc: 0.6486\n",
      "Epoch 4/100\n",
      " - 235s - loss: 2.6014 - dense_19_loss: 0.0501 - dense_20_loss: 0.0724 - dense_21_loss: 0.1611 - dense_22_loss: 0.2340 - dense_23_loss: 0.5546 - dense_24_loss: 1.5292 - dense_19_acc: 0.9866 - dense_20_acc: 0.9804 - dense_21_acc: 0.9568 - dense_22_acc: 0.9414 - dense_23_acc: 0.8587 - dense_24_acc: 0.6555 - val_loss: 2.7047 - val_dense_19_loss: 0.0422 - val_dense_20_loss: 0.0624 - val_dense_21_loss: 0.1463 - val_dense_22_loss: 0.2156 - val_dense_23_loss: 0.5282 - val_dense_24_loss: 1.7099 - val_dense_19_acc: 0.9897 - val_dense_20_acc: 0.9840 - val_dense_21_acc: 0.9615 - val_dense_22_acc: 0.9466 - val_dense_23_acc: 0.8680 - val_dense_24_acc: 0.6470\n",
      "Epoch 5/100\n",
      " - 236s - loss: 2.5902 - dense_19_loss: 0.0495 - dense_20_loss: 0.0721 - dense_21_loss: 0.1612 - dense_22_loss: 0.2343 - dense_23_loss: 0.5541 - dense_24_loss: 1.5190 - dense_19_acc: 0.9867 - dense_20_acc: 0.9806 - dense_21_acc: 0.9569 - dense_22_acc: 0.9412 - dense_23_acc: 0.8589 - dense_24_acc: 0.6567 - val_loss: 2.6817 - val_dense_19_loss: 0.0404 - val_dense_20_loss: 0.0617 - val_dense_21_loss: 0.1444 - val_dense_22_loss: 0.2126 - val_dense_23_loss: 0.5265 - val_dense_24_loss: 1.6962 - val_dense_19_acc: 0.9902 - val_dense_20_acc: 0.9845 - val_dense_21_acc: 0.9622 - val_dense_22_acc: 0.9476 - val_dense_23_acc: 0.8680 - val_dense_24_acc: 0.6500\n",
      "Epoch 6/100\n",
      " - 239s - loss: 2.5716 - dense_19_loss: 0.0489 - dense_20_loss: 0.0709 - dense_21_loss: 0.1591 - dense_22_loss: 0.2326 - dense_23_loss: 0.5505 - dense_24_loss: 1.5096 - dense_19_acc: 0.9870 - dense_20_acc: 0.9808 - dense_21_acc: 0.9574 - dense_22_acc: 0.9416 - dense_23_acc: 0.8593 - dense_24_acc: 0.6582 - val_loss: 2.6636 - val_dense_19_loss: 0.0423 - val_dense_20_loss: 0.0617 - val_dense_21_loss: 0.1428 - val_dense_22_loss: 0.2091 - val_dense_23_loss: 0.5249 - val_dense_24_loss: 1.6827 - val_dense_19_acc: 0.9896 - val_dense_20_acc: 0.9843 - val_dense_21_acc: 0.9626 - val_dense_22_acc: 0.9483 - val_dense_23_acc: 0.8671 - val_dense_24_acc: 0.6507\n",
      "Epoch 7/100\n",
      " - 238s - loss: 2.5611 - dense_19_loss: 0.0485 - dense_20_loss: 0.0714 - dense_21_loss: 0.1589 - dense_22_loss: 0.2313 - dense_23_loss: 0.5484 - dense_24_loss: 1.5026 - dense_19_acc: 0.9870 - dense_20_acc: 0.9806 - dense_21_acc: 0.9574 - dense_22_acc: 0.9419 - dense_23_acc: 0.8596 - dense_24_acc: 0.6593 - val_loss: 2.6603 - val_dense_19_loss: 0.0403 - val_dense_20_loss: 0.0616 - val_dense_21_loss: 0.1443 - val_dense_22_loss: 0.2132 - val_dense_23_loss: 0.5221 - val_dense_24_loss: 1.6789 - val_dense_19_acc: 0.9901 - val_dense_20_acc: 0.9842 - val_dense_21_acc: 0.9624 - val_dense_22_acc: 0.9482 - val_dense_23_acc: 0.8691 - val_dense_24_acc: 0.6518\n",
      "Epoch 8/100\n",
      " - 236s - loss: 2.5379 - dense_19_loss: 0.0466 - dense_20_loss: 0.0696 - dense_21_loss: 0.1567 - dense_22_loss: 0.2280 - dense_23_loss: 0.5435 - dense_24_loss: 1.4935 - dense_19_acc: 0.9875 - dense_20_acc: 0.9812 - dense_21_acc: 0.9578 - dense_22_acc: 0.9427 - dense_23_acc: 0.8609 - dense_24_acc: 0.6596 - val_loss: 2.6629 - val_dense_19_loss: 0.0409 - val_dense_20_loss: 0.0609 - val_dense_21_loss: 0.1439 - val_dense_22_loss: 0.2137 - val_dense_23_loss: 0.5261 - val_dense_24_loss: 1.6774 - val_dense_19_acc: 0.9897 - val_dense_20_acc: 0.9841 - val_dense_21_acc: 0.9629 - val_dense_22_acc: 0.9480 - val_dense_23_acc: 0.8683 - val_dense_24_acc: 0.6530\n",
      "Epoch 9/100\n",
      " - 238s - loss: 2.5390 - dense_19_loss: 0.0476 - dense_20_loss: 0.0700 - dense_21_loss: 0.1564 - dense_22_loss: 0.2280 - dense_23_loss: 0.5444 - dense_24_loss: 1.4926 - dense_19_acc: 0.9873 - dense_20_acc: 0.9811 - dense_21_acc: 0.9580 - dense_22_acc: 0.9426 - dense_23_acc: 0.8607 - dense_24_acc: 0.6599 - val_loss: 2.6474 - val_dense_19_loss: 0.0408 - val_dense_20_loss: 0.0622 - val_dense_21_loss: 0.1438 - val_dense_22_loss: 0.2131 - val_dense_23_loss: 0.5178 - val_dense_24_loss: 1.6698 - val_dense_19_acc: 0.9890 - val_dense_20_acc: 0.9832 - val_dense_21_acc: 0.9624 - val_dense_22_acc: 0.9473 - val_dense_23_acc: 0.8688 - val_dense_24_acc: 0.6526\n",
      "Epoch 10/100\n",
      " - 237s - loss: 2.5277 - dense_19_loss: 0.0467 - dense_20_loss: 0.0697 - dense_21_loss: 0.1563 - dense_22_loss: 0.2285 - dense_23_loss: 0.5416 - dense_24_loss: 1.4848 - dense_19_acc: 0.9875 - dense_20_acc: 0.9812 - dense_21_acc: 0.9579 - dense_22_acc: 0.9426 - dense_23_acc: 0.8610 - dense_24_acc: 0.6598 - val_loss: 2.6297 - val_dense_19_loss: 0.0404 - val_dense_20_loss: 0.0621 - val_dense_21_loss: 0.1411 - val_dense_22_loss: 0.2092 - val_dense_23_loss: 0.5150 - val_dense_24_loss: 1.6617 - val_dense_19_acc: 0.9897 - val_dense_20_acc: 0.9839 - val_dense_21_acc: 0.9632 - val_dense_22_acc: 0.9484 - val_dense_23_acc: 0.8704 - val_dense_24_acc: 0.6546\n",
      "Epoch 11/100\n",
      " - 237s - loss: 2.5306 - dense_19_loss: 0.0474 - dense_20_loss: 0.0698 - dense_21_loss: 0.1572 - dense_22_loss: 0.2290 - dense_23_loss: 0.5427 - dense_24_loss: 1.4844 - dense_19_acc: 0.9874 - dense_20_acc: 0.9813 - dense_21_acc: 0.9579 - dense_22_acc: 0.9426 - dense_23_acc: 0.8605 - dense_24_acc: 0.6604 - val_loss: 2.6206 - val_dense_19_loss: 0.0392 - val_dense_20_loss: 0.0579 - val_dense_21_loss: 0.1413 - val_dense_22_loss: 0.2084 - val_dense_23_loss: 0.5139 - val_dense_24_loss: 1.6598 - val_dense_19_acc: 0.9904 - val_dense_20_acc: 0.9851 - val_dense_21_acc: 0.9634 - val_dense_22_acc: 0.9490 - val_dense_23_acc: 0.8702 - val_dense_24_acc: 0.6554\n",
      "Epoch 12/100\n",
      " - 238s - loss: 2.5179 - dense_19_loss: 0.0472 - dense_20_loss: 0.0694 - dense_21_loss: 0.1564 - dense_22_loss: 0.2274 - dense_23_loss: 0.5391 - dense_24_loss: 1.4784 - dense_19_acc: 0.9875 - dense_20_acc: 0.9812 - dense_21_acc: 0.9579 - dense_22_acc: 0.9430 - dense_23_acc: 0.8614 - dense_24_acc: 0.6616 - val_loss: 2.6405 - val_dense_19_loss: 0.0407 - val_dense_20_loss: 0.0601 - val_dense_21_loss: 0.1447 - val_dense_22_loss: 0.2120 - val_dense_23_loss: 0.5216 - val_dense_24_loss: 1.6614 - val_dense_19_acc: 0.9898 - val_dense_20_acc: 0.9842 - val_dense_21_acc: 0.9620 - val_dense_22_acc: 0.9482 - val_dense_23_acc: 0.8685 - val_dense_24_acc: 0.6546\n",
      "Epoch 13/100\n",
      " - 235s - loss: 2.5169 - dense_19_loss: 0.0470 - dense_20_loss: 0.0693 - dense_21_loss: 0.1562 - dense_22_loss: 0.2284 - dense_23_loss: 0.5392 - dense_24_loss: 1.4768 - dense_19_acc: 0.9875 - dense_20_acc: 0.9813 - dense_21_acc: 0.9580 - dense_22_acc: 0.9426 - dense_23_acc: 0.8612 - dense_24_acc: 0.6613 - val_loss: 2.6394 - val_dense_19_loss: 0.0399 - val_dense_20_loss: 0.0587 - val_dense_21_loss: 0.1424 - val_dense_22_loss: 0.2148 - val_dense_23_loss: 0.5208 - val_dense_24_loss: 1.6627 - val_dense_19_acc: 0.9899 - val_dense_20_acc: 0.9848 - val_dense_21_acc: 0.9632 - val_dense_22_acc: 0.9468 - val_dense_23_acc: 0.8684 - val_dense_24_acc: 0.6535\n",
      "Epoch 14/100\n",
      " - 236s - loss: 2.4989 - dense_19_loss: 0.0469 - dense_20_loss: 0.0685 - dense_21_loss: 0.1537 - dense_22_loss: 0.2245 - dense_23_loss: 0.5347 - dense_24_loss: 1.4706 - dense_19_acc: 0.9875 - dense_20_acc: 0.9816 - dense_21_acc: 0.9585 - dense_22_acc: 0.9432 - dense_23_acc: 0.8618 - dense_24_acc: 0.6616 - val_loss: 2.6276 - val_dense_19_loss: 0.0407 - val_dense_20_loss: 0.0601 - val_dense_21_loss: 0.1417 - val_dense_22_loss: 0.2115 - val_dense_23_loss: 0.5126 - val_dense_24_loss: 1.6609 - val_dense_19_acc: 0.9900 - val_dense_20_acc: 0.9847 - val_dense_21_acc: 0.9632 - val_dense_22_acc: 0.9492 - val_dense_23_acc: 0.8713 - val_dense_24_acc: 0.6563\n",
      "Epoch 15/100\n",
      " - 237s - loss: 2.5035 - dense_19_loss: 0.0467 - dense_20_loss: 0.0689 - dense_21_loss: 0.1551 - dense_22_loss: 0.2261 - dense_23_loss: 0.5361 - dense_24_loss: 1.4707 - dense_19_acc: 0.9875 - dense_20_acc: 0.9816 - dense_21_acc: 0.9583 - dense_22_acc: 0.9429 - dense_23_acc: 0.8618 - dense_24_acc: 0.6622 - val_loss: 2.6374 - val_dense_19_loss: 0.0403 - val_dense_20_loss: 0.0615 - val_dense_21_loss: 0.1436 - val_dense_22_loss: 0.2132 - val_dense_23_loss: 0.5171 - val_dense_24_loss: 1.6616 - val_dense_19_acc: 0.9900 - val_dense_20_acc: 0.9838 - val_dense_21_acc: 0.9627 - val_dense_22_acc: 0.9479 - val_dense_23_acc: 0.8703 - val_dense_24_acc: 0.6551\n",
      "Epoch 16/100\n",
      " - 236s - loss: 2.5053 - dense_19_loss: 0.0470 - dense_20_loss: 0.0697 - dense_21_loss: 0.1556 - dense_22_loss: 0.2263 - dense_23_loss: 0.5370 - dense_24_loss: 1.4697 - dense_19_acc: 0.9876 - dense_20_acc: 0.9813 - dense_21_acc: 0.9582 - dense_22_acc: 0.9430 - dense_23_acc: 0.8617 - dense_24_acc: 0.6620 - val_loss: 2.6161 - val_dense_19_loss: 0.0398 - val_dense_20_loss: 0.0593 - val_dense_21_loss: 0.1404 - val_dense_22_loss: 0.2081 - val_dense_23_loss: 0.5152 - val_dense_24_loss: 1.6533 - val_dense_19_acc: 0.9906 - val_dense_20_acc: 0.9849 - val_dense_21_acc: 0.9622 - val_dense_22_acc: 0.9488 - val_dense_23_acc: 0.8714 - val_dense_24_acc: 0.6568\n",
      "Epoch 17/100\n",
      " - 234s - loss: 2.4897 - dense_19_loss: 0.0469 - dense_20_loss: 0.0680 - dense_21_loss: 0.1534 - dense_22_loss: 0.2250 - dense_23_loss: 0.5328 - dense_24_loss: 1.4636 - dense_19_acc: 0.9876 - dense_20_acc: 0.9818 - dense_21_acc: 0.9587 - dense_22_acc: 0.9433 - dense_23_acc: 0.8629 - dense_24_acc: 0.6633 - val_loss: 2.6098 - val_dense_19_loss: 0.0396 - val_dense_20_loss: 0.0593 - val_dense_21_loss: 0.1401 - val_dense_22_loss: 0.2091 - val_dense_23_loss: 0.5134 - val_dense_24_loss: 1.6483 - val_dense_19_acc: 0.9902 - val_dense_20_acc: 0.9851 - val_dense_21_acc: 0.9634 - val_dense_22_acc: 0.9483 - val_dense_23_acc: 0.8713 - val_dense_24_acc: 0.6548\n",
      "Epoch 18/100\n",
      " - 236s - loss: 2.4940 - dense_19_loss: 0.0468 - dense_20_loss: 0.0688 - dense_21_loss: 0.1546 - dense_22_loss: 0.2252 - dense_23_loss: 0.5348 - dense_24_loss: 1.4639 - dense_19_acc: 0.9874 - dense_20_acc: 0.9815 - dense_21_acc: 0.9585 - dense_22_acc: 0.9432 - dense_23_acc: 0.8623 - dense_24_acc: 0.6621 - val_loss: 2.6109 - val_dense_19_loss: 0.0393 - val_dense_20_loss: 0.0580 - val_dense_21_loss: 0.1405 - val_dense_22_loss: 0.2093 - val_dense_23_loss: 0.5138 - val_dense_24_loss: 1.6500 - val_dense_19_acc: 0.9899 - val_dense_20_acc: 0.9847 - val_dense_21_acc: 0.9635 - val_dense_22_acc: 0.9486 - val_dense_23_acc: 0.8707 - val_dense_24_acc: 0.6575\n",
      "Epoch 19/100\n",
      " - 234s - loss: 2.4873 - dense_19_loss: 0.0459 - dense_20_loss: 0.0678 - dense_21_loss: 0.1540 - dense_22_loss: 0.2253 - dense_23_loss: 0.5333 - dense_24_loss: 1.4610 - dense_19_acc: 0.9878 - dense_20_acc: 0.9815 - dense_21_acc: 0.9584 - dense_22_acc: 0.9433 - dense_23_acc: 0.8626 - dense_24_acc: 0.6634 - val_loss: 2.6073 - val_dense_19_loss: 0.0412 - val_dense_20_loss: 0.0596 - val_dense_21_loss: 0.1399 - val_dense_22_loss: 0.2071 - val_dense_23_loss: 0.5110 - val_dense_24_loss: 1.6486 - val_dense_19_acc: 0.9900 - val_dense_20_acc: 0.9855 - val_dense_21_acc: 0.9649 - val_dense_22_acc: 0.9491 - val_dense_23_acc: 0.8707 - val_dense_24_acc: 0.6549\n",
      "Epoch 20/100\n",
      " - 238s - loss: 2.4832 - dense_19_loss: 0.0461 - dense_20_loss: 0.0683 - dense_21_loss: 0.1537 - dense_22_loss: 0.2244 - dense_23_loss: 0.5326 - dense_24_loss: 1.4581 - dense_19_acc: 0.9876 - dense_20_acc: 0.9816 - dense_21_acc: 0.9588 - dense_22_acc: 0.9434 - dense_23_acc: 0.8623 - dense_24_acc: 0.6637 - val_loss: 2.6159 - val_dense_19_loss: 0.0412 - val_dense_20_loss: 0.0618 - val_dense_21_loss: 0.1436 - val_dense_22_loss: 0.2118 - val_dense_23_loss: 0.5139 - val_dense_24_loss: 1.6436 - val_dense_19_acc: 0.9898 - val_dense_20_acc: 0.9837 - val_dense_21_acc: 0.9620 - val_dense_22_acc: 0.9487 - val_dense_23_acc: 0.8714 - val_dense_24_acc: 0.6539\n",
      "Epoch 21/100\n",
      " - 235s - loss: 2.4848 - dense_19_loss: 0.0465 - dense_20_loss: 0.0691 - dense_21_loss: 0.1544 - dense_22_loss: 0.2247 - dense_23_loss: 0.5326 - dense_24_loss: 1.4574 - dense_19_acc: 0.9876 - dense_20_acc: 0.9814 - dense_21_acc: 0.9582 - dense_22_acc: 0.9434 - dense_23_acc: 0.8623 - dense_24_acc: 0.6631 - val_loss: 2.5960 - val_dense_19_loss: 0.0397 - val_dense_20_loss: 0.0577 - val_dense_21_loss: 0.1379 - val_dense_22_loss: 0.2080 - val_dense_23_loss: 0.5106 - val_dense_24_loss: 1.6422 - val_dense_19_acc: 0.9904 - val_dense_20_acc: 0.9849 - val_dense_21_acc: 0.9641 - val_dense_22_acc: 0.9491 - val_dense_23_acc: 0.8698 - val_dense_24_acc: 0.6570\n",
      "Epoch 22/100\n",
      " - 234s - loss: 2.4847 - dense_19_loss: 0.0458 - dense_20_loss: 0.0683 - dense_21_loss: 0.1541 - dense_22_loss: 0.2245 - dense_23_loss: 0.5339 - dense_24_loss: 1.4581 - dense_19_acc: 0.9877 - dense_20_acc: 0.9813 - dense_21_acc: 0.9584 - dense_22_acc: 0.9435 - dense_23_acc: 0.8627 - dense_24_acc: 0.6631 - val_loss: 2.6142 - val_dense_19_loss: 0.0413 - val_dense_20_loss: 0.0597 - val_dense_21_loss: 0.1438 - val_dense_22_loss: 0.2110 - val_dense_23_loss: 0.5136 - val_dense_24_loss: 1.6448 - val_dense_19_acc: 0.9900 - val_dense_20_acc: 0.9848 - val_dense_21_acc: 0.9632 - val_dense_22_acc: 0.9478 - val_dense_23_acc: 0.8704 - val_dense_24_acc: 0.6567\n",
      "Epoch 23/100\n",
      " - 235s - loss: 2.4855 - dense_19_loss: 0.0466 - dense_20_loss: 0.0691 - dense_21_loss: 0.1549 - dense_22_loss: 0.2251 - dense_23_loss: 0.5331 - dense_24_loss: 1.4567 - dense_19_acc: 0.9876 - dense_20_acc: 0.9814 - dense_21_acc: 0.9583 - dense_22_acc: 0.9430 - dense_23_acc: 0.8625 - dense_24_acc: 0.6634 - val_loss: 2.5905 - val_dense_19_loss: 0.0393 - val_dense_20_loss: 0.0584 - val_dense_21_loss: 0.1392 - val_dense_22_loss: 0.2065 - val_dense_23_loss: 0.5084 - val_dense_24_loss: 1.6386 - val_dense_19_acc: 0.9902 - val_dense_20_acc: 0.9846 - val_dense_21_acc: 0.9633 - val_dense_22_acc: 0.9499 - val_dense_23_acc: 0.8730 - val_dense_24_acc: 0.6574\n",
      "Epoch 24/100\n",
      " - 236s - loss: 2.4765 - dense_19_loss: 0.0465 - dense_20_loss: 0.0683 - dense_21_loss: 0.1538 - dense_22_loss: 0.2246 - dense_23_loss: 0.5305 - dense_24_loss: 1.4529 - dense_19_acc: 0.9877 - dense_20_acc: 0.9815 - dense_21_acc: 0.9586 - dense_22_acc: 0.9435 - dense_23_acc: 0.8628 - dense_24_acc: 0.6641 - val_loss: 2.5977 - val_dense_19_loss: 0.0395 - val_dense_20_loss: 0.0595 - val_dense_21_loss: 0.1402 - val_dense_22_loss: 0.2079 - val_dense_23_loss: 0.5102 - val_dense_24_loss: 1.6405 - val_dense_19_acc: 0.9902 - val_dense_20_acc: 0.9849 - val_dense_21_acc: 0.9628 - val_dense_22_acc: 0.9485 - val_dense_23_acc: 0.8702 - val_dense_24_acc: 0.6575\n",
      "Epoch 25/100\n",
      " - 235s - loss: 2.4688 - dense_19_loss: 0.0460 - dense_20_loss: 0.0685 - dense_21_loss: 0.1533 - dense_22_loss: 0.2228 - dense_23_loss: 0.5294 - dense_24_loss: 1.4487 - dense_19_acc: 0.9878 - dense_20_acc: 0.9816 - dense_21_acc: 0.9589 - dense_22_acc: 0.9441 - dense_23_acc: 0.8636 - dense_24_acc: 0.6647 - val_loss: 2.6035 - val_dense_19_loss: 0.0388 - val_dense_20_loss: 0.0580 - val_dense_21_loss: 0.1402 - val_dense_22_loss: 0.2096 - val_dense_23_loss: 0.5100 - val_dense_24_loss: 1.6470 - val_dense_19_acc: 0.9901 - val_dense_20_acc: 0.9851 - val_dense_21_acc: 0.9632 - val_dense_22_acc: 0.9485 - val_dense_23_acc: 0.8715 - val_dense_24_acc: 0.6574\n",
      "Epoch 26/100\n",
      " - 237s - loss: 2.4764 - dense_19_loss: 0.0459 - dense_20_loss: 0.0682 - dense_21_loss: 0.1538 - dense_22_loss: 0.2250 - dense_23_loss: 0.5320 - dense_24_loss: 1.4517 - dense_19_acc: 0.9877 - dense_20_acc: 0.9818 - dense_21_acc: 0.9587 - dense_22_acc: 0.9433 - dense_23_acc: 0.8626 - dense_24_acc: 0.6640 - val_loss: 2.5890 - val_dense_19_loss: 0.0391 - val_dense_20_loss: 0.0576 - val_dense_21_loss: 0.1386 - val_dense_22_loss: 0.2061 - val_dense_23_loss: 0.5084 - val_dense_24_loss: 1.6391 - val_dense_19_acc: 0.9901 - val_dense_20_acc: 0.9852 - val_dense_21_acc: 0.9633 - val_dense_22_acc: 0.9494 - val_dense_23_acc: 0.8724 - val_dense_24_acc: 0.6567\n",
      "Epoch 27/100\n",
      " - 234s - loss: 2.4647 - dense_19_loss: 0.0463 - dense_20_loss: 0.0674 - dense_21_loss: 0.1522 - dense_22_loss: 0.2220 - dense_23_loss: 0.5285 - dense_24_loss: 1.4485 - dense_19_acc: 0.9877 - dense_20_acc: 0.9817 - dense_21_acc: 0.9589 - dense_22_acc: 0.9439 - dense_23_acc: 0.8633 - dense_24_acc: 0.6647 - val_loss: 2.5820 - val_dense_19_loss: 0.0395 - val_dense_20_loss: 0.0592 - val_dense_21_loss: 0.1376 - val_dense_22_loss: 0.2062 - val_dense_23_loss: 0.5067 - val_dense_24_loss: 1.6328 - val_dense_19_acc: 0.9906 - val_dense_20_acc: 0.9849 - val_dense_21_acc: 0.9644 - val_dense_22_acc: 0.9490 - val_dense_23_acc: 0.8728 - val_dense_24_acc: 0.6590\n",
      "Epoch 28/100\n",
      " - 235s - loss: 2.4644 - dense_19_loss: 0.0463 - dense_20_loss: 0.0685 - dense_21_loss: 0.1530 - dense_22_loss: 0.2222 - dense_23_loss: 0.5278 - dense_24_loss: 1.4466 - dense_19_acc: 0.9876 - dense_20_acc: 0.9816 - dense_21_acc: 0.9587 - dense_22_acc: 0.9442 - dense_23_acc: 0.8640 - dense_24_acc: 0.6647 - val_loss: 2.5808 - val_dense_19_loss: 0.0392 - val_dense_20_loss: 0.0584 - val_dense_21_loss: 0.1402 - val_dense_22_loss: 0.2067 - val_dense_23_loss: 0.5049 - val_dense_24_loss: 1.6313 - val_dense_19_acc: 0.9896 - val_dense_20_acc: 0.9847 - val_dense_21_acc: 0.9632 - val_dense_22_acc: 0.9487 - val_dense_23_acc: 0.8719 - val_dense_24_acc: 0.6566\n",
      "Epoch 29/100\n",
      " - 237s - loss: 2.4598 - dense_19_loss: 0.0456 - dense_20_loss: 0.0672 - dense_21_loss: 0.1519 - dense_22_loss: 0.2218 - dense_23_loss: 0.5275 - dense_24_loss: 1.4457 - dense_19_acc: 0.9877 - dense_20_acc: 0.9817 - dense_21_acc: 0.9592 - dense_22_acc: 0.9440 - dense_23_acc: 0.8639 - dense_24_acc: 0.6646 - val_loss: 2.6076 - val_dense_19_loss: 0.0399 - val_dense_20_loss: 0.0601 - val_dense_21_loss: 0.1424 - val_dense_22_loss: 0.2092 - val_dense_23_loss: 0.5130 - val_dense_24_loss: 1.6431 - val_dense_19_acc: 0.9901 - val_dense_20_acc: 0.9846 - val_dense_21_acc: 0.9631 - val_dense_22_acc: 0.9488 - val_dense_23_acc: 0.8711 - val_dense_24_acc: 0.6574\n",
      "Epoch 30/100\n",
      " - 234s - loss: 2.4600 - dense_19_loss: 0.0457 - dense_20_loss: 0.0674 - dense_21_loss: 0.1526 - dense_22_loss: 0.2225 - dense_23_loss: 0.5275 - dense_24_loss: 1.4444 - dense_19_acc: 0.9879 - dense_20_acc: 0.9819 - dense_21_acc: 0.9586 - dense_22_acc: 0.9437 - dense_23_acc: 0.8632 - dense_24_acc: 0.6647 - val_loss: 2.6034 - val_dense_19_loss: 0.0404 - val_dense_20_loss: 0.0600 - val_dense_21_loss: 0.1423 - val_dense_22_loss: 0.2122 - val_dense_23_loss: 0.5115 - val_dense_24_loss: 1.6370 - val_dense_19_acc: 0.9900 - val_dense_20_acc: 0.9842 - val_dense_21_acc: 0.9630 - val_dense_22_acc: 0.9479 - val_dense_23_acc: 0.8718 - val_dense_24_acc: 0.6583\n",
      "Epoch 31/100\n",
      " - 235s - loss: 2.4558 - dense_19_loss: 0.0453 - dense_20_loss: 0.0669 - dense_21_loss: 0.1516 - dense_22_loss: 0.2221 - dense_23_loss: 0.5268 - dense_24_loss: 1.4431 - dense_19_acc: 0.9880 - dense_20_acc: 0.9819 - dense_21_acc: 0.9593 - dense_22_acc: 0.9443 - dense_23_acc: 0.8636 - dense_24_acc: 0.6657 - val_loss: 2.5758 - val_dense_19_loss: 0.0387 - val_dense_20_loss: 0.0581 - val_dense_21_loss: 0.1392 - val_dense_22_loss: 0.2055 - val_dense_23_loss: 0.5060 - val_dense_24_loss: 1.6284 - val_dense_19_acc: 0.9900 - val_dense_20_acc: 0.9847 - val_dense_21_acc: 0.9631 - val_dense_22_acc: 0.9483 - val_dense_23_acc: 0.8724 - val_dense_24_acc: 0.6598\n",
      "Epoch 32/100\n",
      " - 235s - loss: 2.4625 - dense_19_loss: 0.0462 - dense_20_loss: 0.0683 - dense_21_loss: 0.1535 - dense_22_loss: 0.2232 - dense_23_loss: 0.5281 - dense_24_loss: 1.4432 - dense_19_acc: 0.9878 - dense_20_acc: 0.9817 - dense_21_acc: 0.9586 - dense_22_acc: 0.9438 - dense_23_acc: 0.8640 - dense_24_acc: 0.6656 - val_loss: 2.6014 - val_dense_19_loss: 0.0404 - val_dense_20_loss: 0.0598 - val_dense_21_loss: 0.1409 - val_dense_22_loss: 0.2078 - val_dense_23_loss: 0.5113 - val_dense_24_loss: 1.6412 - val_dense_19_acc: 0.9902 - val_dense_20_acc: 0.9847 - val_dense_21_acc: 0.9635 - val_dense_22_acc: 0.9489 - val_dense_23_acc: 0.8715 - val_dense_24_acc: 0.6570\n",
      "Epoch 33/100\n",
      " - 235s - loss: 2.4569 - dense_19_loss: 0.0465 - dense_20_loss: 0.0684 - dense_21_loss: 0.1529 - dense_22_loss: 0.2227 - dense_23_loss: 0.5259 - dense_24_loss: 1.4407 - dense_19_acc: 0.9876 - dense_20_acc: 0.9816 - dense_21_acc: 0.9589 - dense_22_acc: 0.9441 - dense_23_acc: 0.8645 - dense_24_acc: 0.6660 - val_loss: 2.5859 - val_dense_19_loss: 0.0385 - val_dense_20_loss: 0.0578 - val_dense_21_loss: 0.1397 - val_dense_22_loss: 0.2056 - val_dense_23_loss: 0.5072 - val_dense_24_loss: 1.6371 - val_dense_19_acc: 0.9910 - val_dense_20_acc: 0.9858 - val_dense_21_acc: 0.9641 - val_dense_22_acc: 0.9497 - val_dense_23_acc: 0.8718 - val_dense_24_acc: 0.6572\n",
      "Epoch 34/100\n",
      " - 237s - loss: 2.4485 - dense_19_loss: 0.0462 - dense_20_loss: 0.0679 - dense_21_loss: 0.1519 - dense_22_loss: 0.2211 - dense_23_loss: 0.5238 - dense_24_loss: 1.4375 - dense_19_acc: 0.9875 - dense_20_acc: 0.9818 - dense_21_acc: 0.9590 - dense_22_acc: 0.9444 - dense_23_acc: 0.8644 - dense_24_acc: 0.6663 - val_loss: 2.5883 - val_dense_19_loss: 0.0404 - val_dense_20_loss: 0.0595 - val_dense_21_loss: 0.1380 - val_dense_22_loss: 0.2057 - val_dense_23_loss: 0.5078 - val_dense_24_loss: 1.6368 - val_dense_19_acc: 0.9897 - val_dense_20_acc: 0.9845 - val_dense_21_acc: 0.9640 - val_dense_22_acc: 0.9492 - val_dense_23_acc: 0.8726 - val_dense_24_acc: 0.6585\n",
      "Epoch 35/100\n",
      " - 235s - loss: 2.4479 - dense_19_loss: 0.0457 - dense_20_loss: 0.0671 - dense_21_loss: 0.1517 - dense_22_loss: 0.2205 - dense_23_loss: 0.5252 - dense_24_loss: 1.4376 - dense_19_acc: 0.9879 - dense_20_acc: 0.9819 - dense_21_acc: 0.9590 - dense_22_acc: 0.9445 - dense_23_acc: 0.8639 - dense_24_acc: 0.6653 - val_loss: 2.5817 - val_dense_19_loss: 0.0384 - val_dense_20_loss: 0.0564 - val_dense_21_loss: 0.1382 - val_dense_22_loss: 0.2065 - val_dense_23_loss: 0.5096 - val_dense_24_loss: 1.6325 - val_dense_19_acc: 0.9907 - val_dense_20_acc: 0.9856 - val_dense_21_acc: 0.9633 - val_dense_22_acc: 0.9489 - val_dense_23_acc: 0.8708 - val_dense_24_acc: 0.6580\n",
      "Epoch 36/100\n",
      " - 235s - loss: 2.4604 - dense_19_loss: 0.0457 - dense_20_loss: 0.0680 - dense_21_loss: 0.1535 - dense_22_loss: 0.2241 - dense_23_loss: 0.5286 - dense_24_loss: 1.4405 - dense_19_acc: 0.9878 - dense_20_acc: 0.9817 - dense_21_acc: 0.9586 - dense_22_acc: 0.9436 - dense_23_acc: 0.8635 - dense_24_acc: 0.6659 - val_loss: 2.5933 - val_dense_19_loss: 0.0401 - val_dense_20_loss: 0.0583 - val_dense_21_loss: 0.1392 - val_dense_22_loss: 0.2064 - val_dense_23_loss: 0.5080 - val_dense_24_loss: 1.6412 - val_dense_19_acc: 0.9897 - val_dense_20_acc: 0.9845 - val_dense_21_acc: 0.9630 - val_dense_22_acc: 0.9493 - val_dense_23_acc: 0.8729 - val_dense_24_acc: 0.6568\n"
     ]
    },
    {
     "data": {
      "text/plain": [
       "<keras.callbacks.History at 0x7f2d138eecc0>"
      ]
     },
     "execution_count": 33,
     "metadata": {
      "tags": []
     },
     "output_type": "execute_result"
    }
   ],
   "source": [
    "batch_size = 250\n",
    "m.load_weights('./PCR_SILVA_all/W2V/MLP_W2V_len50.hdfs')\n",
    "filepath = ''.join('./PCR_SILVA_all/W2V/MLP_W2V_len50.hdfs')\n",
    "Checkpoint = ModelCheckpoint(filepath,monitor='val_loss', save_best_only=True,\n",
    "                             save_weights_only=True,period=1)\n",
    "csv_logger = CSVLogger('./PCR_SILVA_all/W2V/MLP_W2V.log')\n",
    "EarlyStop = EarlyStopping(monitor='val_loss', min_delta=0, patience=5, verbose=0, mode='auto')\n",
    "\n",
    "m.fit_generator(simulate_multioutput_ngs_generator(train,batch_size=batch_size,len1=50),\n",
    "                epochs=100,shuffle=True,\n",
    "                steps_per_epoch=train.shape[0]//batch_size,\n",
    "                validation_data=simulate_multioutput_ngs_generator\n",
    "                (valid,batch_size=batch_size,len1=50),\n",
    "                validation_steps=valid.shape[0]//batch_size,\n",
    "                verbose=2,callbacks=[Checkpoint,csv_logger,EarlyStop ])\n",
    "# +8"
   ]
  },
  {
   "cell_type": "markdown",
   "metadata": {
    "colab_type": "text",
    "id": "a1hB16EO1RXO"
   },
   "source": [
    "### MLP_no_W2V"
   ]
  },
  {
   "cell_type": "code",
   "execution_count": 0,
   "metadata": {
    "colab": {},
    "colab_type": "code",
    "collapsed": true,
    "id": "cWuMrKvQ1VJm"
   },
   "outputs": [],
   "source": [
    "inp = Input(shape=(max_len,),dtype='uint16')\n",
    "#main = Embedding(max_features, vector_size, weights=[embedding_matrix],trainable=False)(inp)\n",
    "main = Embedding(max_features, 128)(inp)\n",
    "#main = Embedding(max_features, 128)(inp)\n",
    "main = Dense(512)(main)\n",
    "#main = Dropout(0.25)(main)\n",
    "#main = Dense(128)(main)\n",
    "main = GlobalMaxPool1D()(main)\n",
    "main = Dropout(0.25)(main)\n",
    "main = Dense(512)(main)  # Should be 4096\n",
    "main = Dropout(0.25)(main)\n",
    "\n",
    "out1 = Dense(classes_1,activation='softmax')(main)\n",
    "out2 = Dense(classes_2,activation='softmax')(main)\n",
    "out3 = Dense(classes_3,activation='softmax')(main)\n",
    "out4 = Dense(classes_4,activation='softmax')(main)\n",
    "out5 = Dense(classes_5,activation='softmax')(main)\n",
    "out6 = Dense(classes_6,activation='softmax')(main)\n",
    "\n",
    "m = Model(inputs=[inp], outputs=[out1,out2,out3,out4,out5,out6])\n",
    "\n",
    "optimizer = AdamW(lr=0.001, beta_1=0.9, beta_2=0.999, weight_decay=1e-4, epsilon=1e-8, decay=0.)\n",
    "m.compile(loss='sparse_categorical_crossentropy',optimizer=optimizer,metrics=['acc'])"
   ]
  },
  {
   "cell_type": "code",
   "execution_count": 0,
   "metadata": {
    "colab": {
     "base_uri": "https://localhost:8080/",
     "height": 819
    },
    "colab_type": "code",
    "collapsed": false,
    "id": "o9jnYnsv1bYb",
    "outputId": "cecee5a7-2890-4042-900f-22d59edd698a"
   },
   "outputs": [
    {
     "name": "stdout",
     "output_type": "stream",
     "text": [
      "Epoch 1/100\n",
      " - 344s - loss: 4.8768 - dense_19_loss: 0.1127 - dense_20_loss: 0.1626 - dense_21_loss: 0.3604 - dense_22_loss: 0.5396 - dense_23_loss: 1.1729 - dense_24_loss: 2.5286 - dense_19_acc: 0.9711 - dense_20_acc: 0.9584 - dense_21_acc: 0.9110 - dense_22_acc: 0.8756 - dense_23_acc: 0.7486 - dense_24_acc: 0.5546 - val_loss: 3.2914 - val_dense_19_loss: 0.0484 - val_dense_20_loss: 0.0693 - val_dense_21_loss: 0.1728 - val_dense_22_loss: 0.2678 - val_dense_23_loss: 0.6754 - val_dense_24_loss: 2.0577 - val_dense_19_acc: 0.9883 - val_dense_20_acc: 0.9825 - val_dense_21_acc: 0.9561 - val_dense_22_acc: 0.9349 - val_dense_23_acc: 0.8381 - val_dense_24_acc: 0.6154\n",
      "Epoch 2/100\n",
      " - 262s - loss: 3.0024 - dense_19_loss: 0.0545 - dense_20_loss: 0.0778 - dense_21_loss: 0.1808 - dense_22_loss: 0.2695 - dense_23_loss: 0.6572 - dense_24_loss: 1.7625 - dense_19_acc: 0.9862 - dense_20_acc: 0.9798 - dense_21_acc: 0.9531 - dense_22_acc: 0.9343 - dense_23_acc: 0.8386 - dense_24_acc: 0.6307 - val_loss: 2.9766 - val_dense_19_loss: 0.0439 - val_dense_20_loss: 0.0638 - val_dense_21_loss: 0.1558 - val_dense_22_loss: 0.2399 - val_dense_23_loss: 0.6022 - val_dense_24_loss: 1.8710 - val_dense_19_acc: 0.9894 - val_dense_20_acc: 0.9841 - val_dense_21_acc: 0.9604 - val_dense_22_acc: 0.9412 - val_dense_23_acc: 0.8513 - val_dense_24_acc: 0.6288\n",
      "Epoch 3/100\n",
      " - 268s - loss: 2.7994 - dense_19_loss: 0.0497 - dense_20_loss: 0.0726 - dense_21_loss: 0.1671 - dense_22_loss: 0.2490 - dense_23_loss: 0.6092 - dense_24_loss: 1.6518 - dense_19_acc: 0.9872 - dense_20_acc: 0.9811 - dense_21_acc: 0.9562 - dense_22_acc: 0.9388 - dense_23_acc: 0.8481 - dense_24_acc: 0.6412 - val_loss: 2.8354 - val_dense_19_loss: 0.0404 - val_dense_20_loss: 0.0619 - val_dense_21_loss: 0.1497 - val_dense_22_loss: 0.2255 - val_dense_23_loss: 0.5689 - val_dense_24_loss: 1.7891 - val_dense_19_acc: 0.9899 - val_dense_20_acc: 0.9843 - val_dense_21_acc: 0.9617 - val_dense_22_acc: 0.9451 - val_dense_23_acc: 0.8598 - val_dense_24_acc: 0.6381\n",
      "Epoch 4/100\n",
      " - 261s - loss: 2.7096 - dense_19_loss: 0.0470 - dense_20_loss: 0.0692 - dense_21_loss: 0.1605 - dense_22_loss: 0.2409 - dense_23_loss: 0.5889 - dense_24_loss: 1.6030 - dense_19_acc: 0.9879 - dense_20_acc: 0.9817 - dense_21_acc: 0.9580 - dense_22_acc: 0.9406 - dense_23_acc: 0.8520 - dense_24_acc: 0.6463 - val_loss: 2.7813 - val_dense_19_loss: 0.0380 - val_dense_20_loss: 0.0584 - val_dense_21_loss: 0.1467 - val_dense_22_loss: 0.2273 - val_dense_23_loss: 0.5585 - val_dense_24_loss: 1.7524 - val_dense_19_acc: 0.9906 - val_dense_20_acc: 0.9849 - val_dense_21_acc: 0.9611 - val_dense_22_acc: 0.9449 - val_dense_23_acc: 0.8611 - val_dense_24_acc: 0.6416\n",
      "Epoch 5/100\n",
      " - 262s - loss: 2.6500 - dense_19_loss: 0.0452 - dense_20_loss: 0.0677 - dense_21_loss: 0.1566 - dense_22_loss: 0.2332 - dense_23_loss: 0.5744 - dense_24_loss: 1.5729 - dense_19_acc: 0.9882 - dense_20_acc: 0.9822 - dense_21_acc: 0.9589 - dense_22_acc: 0.9422 - dense_23_acc: 0.8551 - dense_24_acc: 0.6492 - val_loss: 2.7264 - val_dense_19_loss: 0.0383 - val_dense_20_loss: 0.0607 - val_dense_21_loss: 0.1432 - val_dense_22_loss: 0.2195 - val_dense_23_loss: 0.5440 - val_dense_24_loss: 1.7206 - val_dense_19_acc: 0.9908 - val_dense_20_acc: 0.9842 - val_dense_21_acc: 0.9626 - val_dense_22_acc: 0.9467 - val_dense_23_acc: 0.8650 - val_dense_24_acc: 0.6464\n",
      "Epoch 6/100\n",
      " - 264s - loss: 2.6117 - dense_19_loss: 0.0436 - dense_20_loss: 0.0658 - dense_21_loss: 0.1535 - dense_22_loss: 0.2304 - dense_23_loss: 0.5657 - dense_24_loss: 1.5528 - dense_19_acc: 0.9888 - dense_20_acc: 0.9826 - dense_21_acc: 0.9597 - dense_22_acc: 0.9430 - dense_23_acc: 0.8567 - dense_24_acc: 0.6521 - val_loss: 2.7010 - val_dense_19_loss: 0.0387 - val_dense_20_loss: 0.0573 - val_dense_21_loss: 0.1411 - val_dense_22_loss: 0.2169 - val_dense_23_loss: 0.5411 - val_dense_24_loss: 1.7060 - val_dense_19_acc: 0.9903 - val_dense_20_acc: 0.9850 - val_dense_21_acc: 0.9634 - val_dense_22_acc: 0.9461 - val_dense_23_acc: 0.8633 - val_dense_24_acc: 0.6450\n",
      "Epoch 7/100\n",
      " - 260s - loss: 2.5861 - dense_19_loss: 0.0438 - dense_20_loss: 0.0656 - dense_21_loss: 0.1526 - dense_22_loss: 0.2282 - dense_23_loss: 0.5591 - dense_24_loss: 1.5369 - dense_19_acc: 0.9886 - dense_20_acc: 0.9826 - dense_21_acc: 0.9598 - dense_22_acc: 0.9433 - dense_23_acc: 0.8580 - dense_24_acc: 0.6531 - val_loss: 2.6824 - val_dense_19_loss: 0.0377 - val_dense_20_loss: 0.0569 - val_dense_21_loss: 0.1399 - val_dense_22_loss: 0.2157 - val_dense_23_loss: 0.5368 - val_dense_24_loss: 1.6954 - val_dense_19_acc: 0.9900 - val_dense_20_acc: 0.9850 - val_dense_21_acc: 0.9631 - val_dense_22_acc: 0.9469 - val_dense_23_acc: 0.8650 - val_dense_24_acc: 0.6482\n",
      "Epoch 8/100\n",
      " - 264s - loss: 2.5702 - dense_19_loss: 0.0431 - dense_20_loss: 0.0651 - dense_21_loss: 0.1516 - dense_22_loss: 0.2264 - dense_23_loss: 0.5557 - dense_24_loss: 1.5282 - dense_19_acc: 0.9888 - dense_20_acc: 0.9827 - dense_21_acc: 0.9599 - dense_22_acc: 0.9436 - dense_23_acc: 0.8588 - dense_24_acc: 0.6551 - val_loss: 2.6427 - val_dense_19_loss: 0.0379 - val_dense_20_loss: 0.0565 - val_dense_21_loss: 0.1382 - val_dense_22_loss: 0.2104 - val_dense_23_loss: 0.5258 - val_dense_24_loss: 1.6738 - val_dense_19_acc: 0.9908 - val_dense_20_acc: 0.9853 - val_dense_21_acc: 0.9641 - val_dense_22_acc: 0.9480 - val_dense_23_acc: 0.8686 - val_dense_24_acc: 0.6516\n",
      "Epoch 9/100\n",
      " - 264s - loss: 2.5400 - dense_19_loss: 0.0422 - dense_20_loss: 0.0641 - dense_21_loss: 0.1489 - dense_22_loss: 0.2228 - dense_23_loss: 0.5485 - dense_24_loss: 1.5134 - dense_19_acc: 0.9890 - dense_20_acc: 0.9830 - dense_21_acc: 0.9605 - dense_22_acc: 0.9443 - dense_23_acc: 0.8601 - dense_24_acc: 0.6568 - val_loss: 2.6502 - val_dense_19_loss: 0.0372 - val_dense_20_loss: 0.0557 - val_dense_21_loss: 0.1402 - val_dense_22_loss: 0.2134 - val_dense_23_loss: 0.5289 - val_dense_24_loss: 1.6748 - val_dense_19_acc: 0.9910 - val_dense_20_acc: 0.9863 - val_dense_21_acc: 0.9635 - val_dense_22_acc: 0.9471 - val_dense_23_acc: 0.8645 - val_dense_24_acc: 0.6485\n",
      "Epoch 10/100\n",
      " - 265s - loss: 2.5281 - dense_19_loss: 0.0423 - dense_20_loss: 0.0636 - dense_21_loss: 0.1485 - dense_22_loss: 0.2220 - dense_23_loss: 0.5450 - dense_24_loss: 1.5066 - dense_19_acc: 0.9890 - dense_20_acc: 0.9831 - dense_21_acc: 0.9606 - dense_22_acc: 0.9444 - dense_23_acc: 0.8606 - dense_24_acc: 0.6574 - val_loss: 2.6472 - val_dense_19_loss: 0.0381 - val_dense_20_loss: 0.0576 - val_dense_21_loss: 0.1404 - val_dense_22_loss: 0.2123 - val_dense_23_loss: 0.5271 - val_dense_24_loss: 1.6715 - val_dense_19_acc: 0.9902 - val_dense_20_acc: 0.9852 - val_dense_21_acc: 0.9634 - val_dense_22_acc: 0.9478 - val_dense_23_acc: 0.8680 - val_dense_24_acc: 0.6518\n",
      "Epoch 11/100\n",
      " - 262s - loss: 2.5216 - dense_19_loss: 0.0424 - dense_20_loss: 0.0634 - dense_21_loss: 0.1483 - dense_22_loss: 0.2217 - dense_23_loss: 0.5429 - dense_24_loss: 1.5029 - dense_19_acc: 0.9889 - dense_20_acc: 0.9833 - dense_21_acc: 0.9607 - dense_22_acc: 0.9447 - dense_23_acc: 0.8610 - dense_24_acc: 0.6582 - val_loss: 2.6227 - val_dense_19_loss: 0.0362 - val_dense_20_loss: 0.0557 - val_dense_21_loss: 0.1371 - val_dense_22_loss: 0.2093 - val_dense_23_loss: 0.5208 - val_dense_24_loss: 1.6637 - val_dense_19_acc: 0.9911 - val_dense_20_acc: 0.9863 - val_dense_21_acc: 0.9641 - val_dense_22_acc: 0.9480 - val_dense_23_acc: 0.8694 - val_dense_24_acc: 0.6523\n",
      "Epoch 12/100\n",
      " - 261s - loss: 2.5092 - dense_19_loss: 0.0417 - dense_20_loss: 0.0626 - dense_21_loss: 0.1474 - dense_22_loss: 0.2205 - dense_23_loss: 0.5410 - dense_24_loss: 1.4959 - dense_19_acc: 0.9892 - dense_20_acc: 0.9837 - dense_21_acc: 0.9609 - dense_22_acc: 0.9450 - dense_23_acc: 0.8616 - dense_24_acc: 0.6587 - val_loss: 2.6367 - val_dense_19_loss: 0.0378 - val_dense_20_loss: 0.0560 - val_dense_21_loss: 0.1406 - val_dense_22_loss: 0.2144 - val_dense_23_loss: 0.5262 - val_dense_24_loss: 1.6619 - val_dense_19_acc: 0.9909 - val_dense_20_acc: 0.9860 - val_dense_21_acc: 0.9644 - val_dense_22_acc: 0.9482 - val_dense_23_acc: 0.8681 - val_dense_24_acc: 0.6531\n",
      "Epoch 13/100\n",
      " - 260s - loss: 2.4970 - dense_19_loss: 0.0415 - dense_20_loss: 0.0628 - dense_21_loss: 0.1466 - dense_22_loss: 0.2184 - dense_23_loss: 0.5368 - dense_24_loss: 1.4909 - dense_19_acc: 0.9892 - dense_20_acc: 0.9833 - dense_21_acc: 0.9608 - dense_22_acc: 0.9452 - dense_23_acc: 0.8622 - dense_24_acc: 0.6599 - val_loss: 2.6142 - val_dense_19_loss: 0.0382 - val_dense_20_loss: 0.0567 - val_dense_21_loss: 0.1383 - val_dense_22_loss: 0.2082 - val_dense_23_loss: 0.5181 - val_dense_24_loss: 1.6547 - val_dense_19_acc: 0.9910 - val_dense_20_acc: 0.9857 - val_dense_21_acc: 0.9636 - val_dense_22_acc: 0.9489 - val_dense_23_acc: 0.8709 - val_dense_24_acc: 0.6530\n",
      "Epoch 14/100\n",
      " - 263s - loss: 2.4851 - dense_19_loss: 0.0413 - dense_20_loss: 0.0625 - dense_21_loss: 0.1448 - dense_22_loss: 0.2164 - dense_23_loss: 0.5354 - dense_24_loss: 1.4847 - dense_19_acc: 0.9893 - dense_20_acc: 0.9835 - dense_21_acc: 0.9615 - dense_22_acc: 0.9459 - dense_23_acc: 0.8627 - dense_24_acc: 0.6601 - val_loss: 2.5804 - val_dense_19_loss: 0.0350 - val_dense_20_loss: 0.0529 - val_dense_21_loss: 0.1320 - val_dense_22_loss: 0.2038 - val_dense_23_loss: 0.5135 - val_dense_24_loss: 1.6432 - val_dense_19_acc: 0.9912 - val_dense_20_acc: 0.9867 - val_dense_21_acc: 0.9646 - val_dense_22_acc: 0.9481 - val_dense_23_acc: 0.8694 - val_dense_24_acc: 0.6548\n",
      "Epoch 15/100\n",
      " - 262s - loss: 2.4896 - dense_19_loss: 0.0414 - dense_20_loss: 0.0625 - dense_21_loss: 0.1462 - dense_22_loss: 0.2189 - dense_23_loss: 0.5364 - dense_24_loss: 1.4842 - dense_19_acc: 0.9891 - dense_20_acc: 0.9834 - dense_21_acc: 0.9609 - dense_22_acc: 0.9453 - dense_23_acc: 0.8618 - dense_24_acc: 0.6598 - val_loss: 2.5716 - val_dense_19_loss: 0.0349 - val_dense_20_loss: 0.0539 - val_dense_21_loss: 0.1312 - val_dense_22_loss: 0.2006 - val_dense_23_loss: 0.5114 - val_dense_24_loss: 1.6396 - val_dense_19_acc: 0.9915 - val_dense_20_acc: 0.9863 - val_dense_21_acc: 0.9654 - val_dense_22_acc: 0.9507 - val_dense_23_acc: 0.8708 - val_dense_24_acc: 0.6571\n",
      "Epoch 16/100\n",
      " - 262s - loss: 2.4755 - dense_19_loss: 0.0414 - dense_20_loss: 0.0617 - dense_21_loss: 0.1450 - dense_22_loss: 0.2161 - dense_23_loss: 0.5340 - dense_24_loss: 1.4774 - dense_19_acc: 0.9891 - dense_20_acc: 0.9836 - dense_21_acc: 0.9615 - dense_22_acc: 0.9459 - dense_23_acc: 0.8633 - dense_24_acc: 0.6611 - val_loss: 2.5702 - val_dense_19_loss: 0.0378 - val_dense_20_loss: 0.0545 - val_dense_21_loss: 0.1336 - val_dense_22_loss: 0.2050 - val_dense_23_loss: 0.5071 - val_dense_24_loss: 1.6322 - val_dense_19_acc: 0.9912 - val_dense_20_acc: 0.9867 - val_dense_21_acc: 0.9647 - val_dense_22_acc: 0.9495 - val_dense_23_acc: 0.8728 - val_dense_24_acc: 0.6557\n",
      "Epoch 17/100\n",
      " - 265s - loss: 2.4653 - dense_19_loss: 0.0412 - dense_20_loss: 0.0622 - dense_21_loss: 0.1441 - dense_22_loss: 0.2147 - dense_23_loss: 0.5305 - dense_24_loss: 1.4726 - dense_19_acc: 0.9892 - dense_20_acc: 0.9834 - dense_21_acc: 0.9613 - dense_22_acc: 0.9461 - dense_23_acc: 0.8633 - dense_24_acc: 0.6621 - val_loss: 2.6060 - val_dense_19_loss: 0.0365 - val_dense_20_loss: 0.0546 - val_dense_21_loss: 0.1356 - val_dense_22_loss: 0.2061 - val_dense_23_loss: 0.5188 - val_dense_24_loss: 1.6544 - val_dense_19_acc: 0.9911 - val_dense_20_acc: 0.9863 - val_dense_21_acc: 0.9642 - val_dense_22_acc: 0.9490 - val_dense_23_acc: 0.8690 - val_dense_24_acc: 0.6532\n",
      "Epoch 18/100\n",
      " - 264s - loss: 2.4710 - dense_19_loss: 0.0410 - dense_20_loss: 0.0617 - dense_21_loss: 0.1451 - dense_22_loss: 0.2162 - dense_23_loss: 0.5333 - dense_24_loss: 1.4737 - dense_19_acc: 0.9893 - dense_20_acc: 0.9836 - dense_21_acc: 0.9613 - dense_22_acc: 0.9458 - dense_23_acc: 0.8630 - dense_24_acc: 0.6617 - val_loss: 2.5974 - val_dense_19_loss: 0.0361 - val_dense_20_loss: 0.0562 - val_dense_21_loss: 0.1357 - val_dense_22_loss: 0.2056 - val_dense_23_loss: 0.5165 - val_dense_24_loss: 1.6472 - val_dense_19_acc: 0.9915 - val_dense_20_acc: 0.9857 - val_dense_21_acc: 0.9641 - val_dense_22_acc: 0.9499 - val_dense_23_acc: 0.8709 - val_dense_24_acc: 0.6540\n",
      "Epoch 19/100\n",
      " - 263s - loss: 2.4691 - dense_19_loss: 0.0416 - dense_20_loss: 0.0624 - dense_21_loss: 0.1454 - dense_22_loss: 0.2166 - dense_23_loss: 0.5313 - dense_24_loss: 1.4717 - dense_19_acc: 0.9893 - dense_20_acc: 0.9837 - dense_21_acc: 0.9616 - dense_22_acc: 0.9462 - dense_23_acc: 0.8636 - dense_24_acc: 0.6614 - val_loss: 2.5946 - val_dense_19_loss: 0.0381 - val_dense_20_loss: 0.0564 - val_dense_21_loss: 0.1369 - val_dense_22_loss: 0.2066 - val_dense_23_loss: 0.5141 - val_dense_24_loss: 1.6426 - val_dense_19_acc: 0.9908 - val_dense_20_acc: 0.9860 - val_dense_21_acc: 0.9634 - val_dense_22_acc: 0.9487 - val_dense_23_acc: 0.8699 - val_dense_24_acc: 0.6550\n",
      "Epoch 20/100\n",
      " - 262s - loss: 2.4554 - dense_19_loss: 0.0412 - dense_20_loss: 0.0622 - dense_21_loss: 0.1435 - dense_22_loss: 0.2143 - dense_23_loss: 0.5280 - dense_24_loss: 1.4662 - dense_19_acc: 0.9894 - dense_20_acc: 0.9835 - dense_21_acc: 0.9616 - dense_22_acc: 0.9463 - dense_23_acc: 0.8646 - dense_24_acc: 0.6629 - val_loss: 2.5774 - val_dense_19_loss: 0.0372 - val_dense_20_loss: 0.0557 - val_dense_21_loss: 0.1350 - val_dense_22_loss: 0.2053 - val_dense_23_loss: 0.5126 - val_dense_24_loss: 1.6317 - val_dense_19_acc: 0.9907 - val_dense_20_acc: 0.9860 - val_dense_21_acc: 0.9646 - val_dense_22_acc: 0.9488 - val_dense_23_acc: 0.8709 - val_dense_24_acc: 0.6573\n",
      "Epoch 21/100\n",
      " - 263s - loss: 2.4485 - dense_19_loss: 0.0404 - dense_20_loss: 0.0612 - dense_21_loss: 0.1443 - dense_22_loss: 0.2145 - dense_23_loss: 0.5258 - dense_24_loss: 1.4623 - dense_19_acc: 0.9893 - dense_20_acc: 0.9837 - dense_21_acc: 0.9615 - dense_22_acc: 0.9463 - dense_23_acc: 0.8647 - dense_24_acc: 0.6636 - val_loss: 2.5758 - val_dense_19_loss: 0.0360 - val_dense_20_loss: 0.0552 - val_dense_21_loss: 0.1330 - val_dense_22_loss: 0.2028 - val_dense_23_loss: 0.5107 - val_dense_24_loss: 1.6381 - val_dense_19_acc: 0.9911 - val_dense_20_acc: 0.9861 - val_dense_21_acc: 0.9651 - val_dense_22_acc: 0.9497 - val_dense_23_acc: 0.8721 - val_dense_24_acc: 0.6565\n"
     ]
    },
    {
     "data": {
      "text/plain": [
       "<keras.callbacks.History at 0x7f7a49fbf4e0>"
      ]
     },
     "execution_count": 33,
     "metadata": {
      "tags": []
     },
     "output_type": "execute_result"
    }
   ],
   "source": [
    "batch_size = 250\n",
    "#m.load_weights('./PCR_SILVA_all/W2V/MLP_no_W2V_len50.hdfs')\n",
    "filepath = ''.join('./PCR_SILVA_all/W2V/MLP_no_W2V_len50_fresh.hdfs')\n",
    "Checkpoint = ModelCheckpoint(filepath,monitor='val_loss', save_best_only=True,\n",
    "                             save_weights_only=True,period=1)\n",
    "csv_logger = CSVLogger('./PCR_SILVA_all/W2V/MLP_no_W2V_len50_fresh.log')\n",
    "EarlyStop = EarlyStopping(monitor='val_loss', min_delta=0, patience=5, verbose=0, mode='auto')\n",
    "\n",
    "m.fit_generator(simulate_multioutput_ngs_generator(train,batch_size=batch_size,len1=50),\n",
    "                epochs=100,shuffle=True,\n",
    "                steps_per_epoch=train.shape[0]//batch_size,\n",
    "                validation_data=simulate_multioutput_ngs_generator\n",
    "                (valid,batch_size=batch_size,len1=50),\n",
    "                validation_steps=valid.shape[0]//batch_size,\n",
    "                verbose=2,callbacks=[Checkpoint,csv_logger,EarlyStop])"
   ]
  },
  {
   "cell_type": "markdown",
   "metadata": {
    "colab_type": "text",
    "id": "Hv7lcdoVos3e"
   },
   "source": [
    "### MLP_ No_Kmer"
   ]
  },
  {
   "cell_type": "code",
   "execution_count": 0,
   "metadata": {
    "colab": {},
    "colab_type": "code",
    "collapsed": true,
    "id": "C-0_Px8GoyQX"
   },
   "outputs": [],
   "source": [
    "inp = Input(shape=(max_len,),dtype='uint8')\n",
    "#main = Embedding(max_features, vector_size, weights=[embedding_matrix],trainable=False)(inp)\n",
    "main = Embedding(5, 128)(inp)\n",
    "#main = Embedding(max_features, 128)(inp)\n",
    "main = Dense(512)(main)\n",
    "#main = Dropout(0.25)(main)\n",
    "#main = Dense(128)(main)\n",
    "main = GlobalMaxPool1D()(main)\n",
    "main = Dropout(0.25)(main)\n",
    "main = Dense(512)(main)  # Should be 4096\n",
    "main = Dropout(0.25)(main)\n",
    "\n",
    "out1 = Dense(classes_1,activation='softmax')(main)\n",
    "out2 = Dense(classes_2,activation='softmax')(main)\n",
    "out3 = Dense(classes_3,activation='softmax')(main)\n",
    "out4 = Dense(classes_4,activation='softmax')(main)\n",
    "out5 = Dense(classes_5,activation='softmax')(main)\n",
    "out6 = Dense(classes_6,activation='softmax')(main)\n",
    "\n",
    "m = Model(inputs=[inp], outputs=[out1,out2,out3,out4,out5,out6])\n",
    "\n",
    "optimizer = AdamW(lr=0.001, beta_1=0.9, beta_2=0.999, weight_decay=1e-4, epsilon=1e-8, decay=0.)\n",
    "m.compile(loss='sparse_categorical_crossentropy',optimizer=optimizer,metrics=['acc'])"
   ]
  },
  {
   "cell_type": "code",
   "execution_count": 0,
   "metadata": {
    "colab": {
     "base_uri": "https://localhost:8080/",
     "height": 310
    },
    "colab_type": "code",
    "collapsed": false,
    "id": "F0n1t-8Mo2Nn",
    "outputId": "7dd9762b-3c9d-41c8-9902-0149706e9bc8"
   },
   "outputs": [
    {
     "name": "stdout",
     "output_type": "stream",
     "text": [
      "Epoch 1/100\n",
      " - 294s - loss: 20.8199 - dense_27_loss: 1.3207 - dense_28_loss: 1.8366 - dense_29_loss: 2.9243 - dense_30_loss: 3.7074 - dense_31_loss: 4.9392 - dense_32_loss: 6.0916 - dense_27_acc: 0.3928 - dense_28_acc: 0.2948 - dense_29_acc: 0.2014 - dense_30_acc: 0.1366 - dense_31_acc: 0.1360 - dense_32_acc: 0.1241 - val_loss: 20.9718 - val_dense_27_loss: 1.3127 - val_dense_28_loss: 1.8260 - val_dense_29_loss: 2.9240 - val_dense_30_loss: 3.7116 - val_dense_31_loss: 4.9529 - val_dense_32_loss: 6.2445 - val_dense_27_acc: 0.3966 - val_dense_28_acc: 0.3033 - val_dense_29_acc: 0.2037 - val_dense_30_acc: 0.1376 - val_dense_31_acc: 0.1363 - val_dense_32_acc: 0.1211\n",
      "Epoch 2/100\n",
      " - 239s - loss: 20.6903 - dense_27_loss: 1.3104 - dense_28_loss: 1.8239 - dense_29_loss: 2.9081 - dense_30_loss: 3.6902 - dense_31_loss: 4.9159 - dense_32_loss: 6.0417 - dense_27_acc: 0.3985 - dense_28_acc: 0.2995 - dense_29_acc: 0.2030 - dense_30_acc: 0.1375 - dense_31_acc: 0.1362 - dense_32_acc: 0.1246 - val_loss: 20.9625 - val_dense_27_loss: 1.3130 - val_dense_28_loss: 1.8261 - val_dense_29_loss: 2.9235 - val_dense_30_loss: 3.7111 - val_dense_31_loss: 4.9516 - val_dense_32_loss: 6.2372 - val_dense_27_acc: 0.3966 - val_dense_28_acc: 0.3033 - val_dense_29_acc: 0.2037 - val_dense_30_acc: 0.1376 - val_dense_31_acc: 0.1363 - val_dense_32_acc: 0.1211\n",
      "Epoch 3/100\n",
      " - 237s - loss: 20.6777 - dense_27_loss: 1.3103 - dense_28_loss: 1.8236 - dense_29_loss: 2.9077 - dense_30_loss: 3.6897 - dense_31_loss: 4.9136 - dense_32_loss: 6.0327 - dense_27_acc: 0.3990 - dense_28_acc: 0.2997 - dense_29_acc: 0.2030 - dense_30_acc: 0.1375 - dense_31_acc: 0.1362 - dense_32_acc: 0.1246 - val_loss: 20.9641 - val_dense_27_loss: 1.3127 - val_dense_28_loss: 1.8262 - val_dense_29_loss: 2.9239 - val_dense_30_loss: 3.7113 - val_dense_31_loss: 4.9519 - val_dense_32_loss: 6.2382 - val_dense_27_acc: 0.3966 - val_dense_28_acc: 0.3033 - val_dense_29_acc: 0.2037 - val_dense_30_acc: 0.1376 - val_dense_31_acc: 0.1363 - val_dense_32_acc: 0.1211\n",
      "Epoch 4/100\n",
      " - 238s - loss: 20.6596 - dense_27_loss: 1.3105 - dense_28_loss: 1.8239 - dense_29_loss: 2.9079 - dense_30_loss: 3.6896 - dense_31_loss: 4.9106 - dense_32_loss: 6.0171 - dense_27_acc: 0.3988 - dense_28_acc: 0.2998 - dense_29_acc: 0.2030 - dense_30_acc: 0.1375 - dense_31_acc: 0.1362 - dense_32_acc: 0.1246 - val_loss: 20.9779 - val_dense_27_loss: 1.3125 - val_dense_28_loss: 1.8261 - val_dense_29_loss: 2.9247 - val_dense_30_loss: 3.7121 - val_dense_31_loss: 4.9549 - val_dense_32_loss: 6.2476 - val_dense_27_acc: 0.3966 - val_dense_28_acc: 0.3033 - val_dense_29_acc: 0.2037 - val_dense_30_acc: 0.1376 - val_dense_31_acc: 0.1363 - val_dense_32_acc: 0.1211\n",
      "Epoch 5/100\n",
      " - 239s - loss: 20.6385 - dense_27_loss: 1.3107 - dense_28_loss: 1.8239 - dense_29_loss: 2.9081 - dense_30_loss: 3.6895 - dense_31_loss: 4.9076 - dense_32_loss: 5.9987 - dense_27_acc: 0.3987 - dense_28_acc: 0.2997 - dense_29_acc: 0.2030 - dense_30_acc: 0.1375 - dense_31_acc: 0.1362 - dense_32_acc: 0.1246 - val_loss: 20.9978 - val_dense_27_loss: 1.3125 - val_dense_28_loss: 1.8261 - val_dense_29_loss: 2.9255 - val_dense_30_loss: 3.7142 - val_dense_31_loss: 4.9591 - val_dense_32_loss: 6.2605 - val_dense_27_acc: 0.3966 - val_dense_28_acc: 0.3033 - val_dense_29_acc: 0.2037 - val_dense_30_acc: 0.1376 - val_dense_31_acc: 0.1363 - val_dense_32_acc: 0.1211\n",
      "Epoch 6/100\n",
      " - 238s - loss: 20.6174 - dense_27_loss: 1.3108 - dense_28_loss: 1.8242 - dense_29_loss: 2.9082 - dense_30_loss: 3.6894 - dense_31_loss: 4.9045 - dense_32_loss: 5.9803 - dense_27_acc: 0.3984 - dense_28_acc: 0.2997 - dense_29_acc: 0.2030 - dense_30_acc: 0.1375 - dense_31_acc: 0.1362 - dense_32_acc: 0.1246 - val_loss: 21.0177 - val_dense_27_loss: 1.3126 - val_dense_28_loss: 1.8262 - val_dense_29_loss: 2.9255 - val_dense_30_loss: 3.7148 - val_dense_31_loss: 4.9629 - val_dense_32_loss: 6.2757 - val_dense_27_acc: 0.3966 - val_dense_28_acc: 0.3033 - val_dense_29_acc: 0.2037 - val_dense_30_acc: 0.1376 - val_dense_31_acc: 0.1363 - val_dense_32_acc: 0.1211\n",
      "Epoch 7/100\n",
      " - 240s - loss: 20.5992 - dense_27_loss: 1.3109 - dense_28_loss: 1.8242 - dense_29_loss: 2.9084 - dense_30_loss: 3.6890 - dense_31_loss: 4.9022 - dense_32_loss: 5.9645 - dense_27_acc: 0.3984 - dense_28_acc: 0.2996 - dense_29_acc: 0.2030 - dense_30_acc: 0.1375 - dense_31_acc: 0.1362 - dense_32_acc: 0.1246 - val_loss: 21.0277 - val_dense_27_loss: 1.3126 - val_dense_28_loss: 1.8263 - val_dense_29_loss: 2.9257 - val_dense_30_loss: 3.7150 - val_dense_31_loss: 4.9637 - val_dense_32_loss: 6.2843 - val_dense_27_acc: 0.3966 - val_dense_28_acc: 0.3033 - val_dense_29_acc: 0.2037 - val_dense_30_acc: 0.1376 - val_dense_31_acc: 0.1363 - val_dense_32_acc: 0.1211\n"
     ]
    },
    {
     "data": {
      "text/plain": [
       "<keras.callbacks.History at 0x7f7a49fbf668>"
      ]
     },
     "execution_count": 44,
     "metadata": {
      "tags": []
     },
     "output_type": "execute_result"
    }
   ],
   "source": [
    "batch_size = 250\n",
    "#m.load_weights('./PCR_SILVA_all/W2V/ResNet_like_N.hdfs')\n",
    "filepath = ''.join('./PCR_SILVA_all/W2V/MLP_no_W2V_no_kmer_len50.hdfs')\n",
    "Checkpoint = ModelCheckpoint(filepath,monitor='val_loss', save_best_only=True,\n",
    "                             save_weights_only=True,period=1)\n",
    "csv_logger = CSVLogger('./PCR_SILVA_all/W2V/MLP_no_W2V_no_kmer_len50.log')\n",
    "EarlyStop = EarlyStopping(monitor='val_loss', min_delta=0, patience=5, verbose=0, mode='auto')\n",
    "\n",
    "m.fit_generator(simulate_multioutput_ngs_generator(train,batch_size=batch_size,len1=50),\n",
    "                epochs=100,shuffle=True,\n",
    "                steps_per_epoch=train.shape[0]//batch_size,\n",
    "                validation_data=simulate_multioutput_ngs_generator\n",
    "                (valid,batch_size=batch_size,len1=50),\n",
    "                validation_steps=valid.shape[0]//batch_size,\n",
    "                verbose=2,callbacks=[Checkpoint,csv_logger,EarlyStop])"
   ]
  },
  {
   "cell_type": "markdown",
   "metadata": {
    "colab_type": "text",
    "id": "6Es43BpDjoTt"
   },
   "source": [
    "### Fixed_len MLP"
   ]
  },
  {
   "cell_type": "code",
   "execution_count": 0,
   "metadata": {
    "colab": {},
    "colab_type": "code",
    "collapsed": true,
    "id": "ehxlzVp1jrcf"
   },
   "outputs": [],
   "source": [
    "inp = Input(shape=(max_len,),dtype='uint16')\n",
    "#main = Embedding(max_features, vector_size, weights=[embedding_matrix],trainable=False)(inp)\n",
    "main = Embedding(5, 128)(inp)\n",
    "#main = Embedding(max_features, 128)(inp)\n",
    "main = Dense(512)(main)\n",
    "#main = Dropout(0.25)(main)\n",
    "#main = Dense(128)(main)\n",
    "main = GlobalMaxPool1D()(main)\n",
    "main = Dropout(0.25)(main)\n",
    "main = Dense(512)(main)  # Should be 4096\n",
    "main = Dropout(0.25)(main)\n",
    "\n",
    "out1 = Dense(classes_1,activation='softmax')(main)\n",
    "out2 = Dense(classes_2,activation='softmax')(main)\n",
    "out3 = Dense(classes_3,activation='softmax')(main)\n",
    "out4 = Dense(classes_4,activation='softmax')(main)\n",
    "out5 = Dense(classes_5,activation='softmax')(main)\n",
    "out6 = Dense(classes_6,activation='softmax')(main)\n",
    "\n",
    "m = Model(inputs=[inp], outputs=[out1,out2,out3,out4,out5,out6])\n",
    "\n",
    "optimizer = AdamW(lr=0.001, beta_1=0.9, beta_2=0.999, weight_decay=1e-4, epsilon=1e-8, decay=0.)\n",
    "m.compile(loss='sparse_categorical_crossentropy',optimizer=optimizer,metrics=['acc'])"
   ]
  },
  {
   "cell_type": "code",
   "execution_count": 0,
   "metadata": {
    "colab": {},
    "colab_type": "code",
    "collapsed": true,
    "id": "1yYjH_U_j98m"
   },
   "outputs": [],
   "source": [
    "def simulate_multiooutput_ngs_generator_fixed_len(df,len1 = 100,batch_size=250):\n",
    "    y_sim_1,y_sim_2,y_sim_3,y_sim_4,y_sim_5,y_sim_6 = df['phylum-'].values,df['class_-'].values,df['order-'].values,df['family-'].values,df['genus-'].values,df['species-'].values\n",
    "    x_sim = df['encoded'].apply(lambda x : simulate_reads_range(x,min_len=len1))\n",
    "    x_sim = pad_sequences(x_sim.values,maxlen=max_len)\n",
    "    x_sim = array(np.concatenate(x_sim).reshape(x_sim.shape[0],max_len).tolist()).astype('uint16')\n",
    "    samples_per_epoch = df.shape[0]\n",
    "    number_of_batches = samples_per_epoch//batch_size\n",
    "    counter=0\n",
    "\n",
    "    while counter <=number_of_batches :\n",
    "        X_batch = np.array(x_sim[batch_size*counter:batch_size*(counter+1)]).astype('uint16')\n",
    "        y_1 = y_sim_1[batch_size*counter:batch_size*(counter+1)].astype('uint8')\n",
    "        y_2 = y_sim_2[batch_size*counter:batch_size*(counter+1)].astype('uint8')\n",
    "        y_3 = y_sim_3[batch_size*counter:batch_size*(counter+1)].astype('uint8')\n",
    "        y_4 = y_sim_4[batch_size*counter:batch_size*(counter+1)].astype('uint16')\n",
    "        y_5 = y_sim_5[batch_size*counter:batch_size*(counter+1)].astype('uint16')\n",
    "        y_6 = y_sim_6[batch_size*counter:batch_size*(counter+1)].astype('uint16')\n",
    "        counter += 1\n",
    "        if counter ==number_of_batches:\n",
    "            counter = 0\n",
    "            del x_sim\n",
    "            y_sim_1,y_sim_2,y_sim_3,y_sim_4,y_sim_5,y_sim_6 = df['phylum-'].values,df['class_-'].values,df['order-'].values,df['family-'].values,df['genus-'].values,df['species-'].values\n",
    "            x_sim = df['encoded'].apply(lambda x : simulate_reads_range(x,min_len=len1))\n",
    "            x_sim = pad_sequences(x_sim.values,maxlen=max_len)\n",
    "            x_sim = array(np.concatenate(x_sim).reshape(x_sim.shape[0],max_len).tolist()).astype('uint16')\n",
    "        yield X_batch,[y_1,y_2,y_3,y_4,y_5,y_6]"
   ]
  },
  {
   "cell_type": "code",
   "execution_count": 0,
   "metadata": {
    "colab": {
     "base_uri": "https://localhost:8080/",
     "height": 274
    },
    "colab_type": "code",
    "collapsed": false,
    "id": "PRvH2JKajwKx",
    "outputId": "c2d1267e-ea4d-4dbf-db53-f6b7bdaab125"
   },
   "outputs": [
    {
     "name": "stdout",
     "output_type": "stream",
     "text": [
      "Epoch 1/100\n",
      " - 331s - loss: 80.8092 - dense_27_loss: 10.6429 - dense_28_loss: 11.2965 - dense_29_loss: 14.8716 - dense_30_loss: 15.0022 - dense_31_loss: 13.9717 - dense_32_loss: 15.0243 - dense_27_acc: 0.3384 - dense_28_acc: 0.2978 - dense_29_acc: 0.0758 - dense_30_acc: 0.0678 - dense_31_acc: 0.1318 - dense_32_acc: 0.0668 - val_loss: 80.7294 - val_dense_27_loss: 10.5845 - val_dense_28_loss: 11.2283 - val_dense_29_loss: 14.8600 - val_dense_30_loss: 15.0790 - val_dense_31_loss: 13.9220 - val_dense_32_loss: 15.0556 - val_dense_27_acc: 0.3433 - val_dense_28_acc: 0.3034 - val_dense_29_acc: 0.0781 - val_dense_30_acc: 0.0645 - val_dense_31_acc: 0.1363 - val_dense_32_acc: 0.0660\n",
      "Epoch 2/100\n",
      " - 253s - loss: 81.2970 - dense_27_loss: 10.6651 - dense_28_loss: 11.2850 - dense_29_loss: 14.8910 - dense_30_loss: 15.0239 - dense_31_loss: 13.9224 - dense_32_loss: 15.5096 - dense_27_acc: 0.3383 - dense_28_acc: 0.2999 - dense_29_acc: 0.0761 - dense_30_acc: 0.0679 - dense_31_acc: 0.1362 - dense_32_acc: 0.0378 - val_loss: 81.7516 - val_dense_27_loss: 10.5845 - val_dense_28_loss: 11.2283 - val_dense_29_loss: 14.8600 - val_dense_30_loss: 15.0790 - val_dense_31_loss: 13.9220 - val_dense_32_loss: 16.0778 - val_dense_27_acc: 0.3433 - val_dense_28_acc: 0.3034 - val_dense_29_acc: 0.0781 - val_dense_30_acc: 0.0645 - val_dense_31_acc: 0.1363 - val_dense_32_acc: 0.0026\n",
      "Epoch 3/100\n",
      " - 257s - loss: 81.8644 - dense_27_loss: 10.6651 - dense_28_loss: 11.2850 - dense_29_loss: 14.8910 - dense_30_loss: 15.0239 - dense_31_loss: 13.9224 - dense_32_loss: 16.0770 - dense_27_acc: 0.3383 - dense_28_acc: 0.2999 - dense_29_acc: 0.0761 - dense_30_acc: 0.0679 - dense_31_acc: 0.1362 - dense_32_acc: 0.0026 - val_loss: 81.7516 - val_dense_27_loss: 10.5845 - val_dense_28_loss: 11.2283 - val_dense_29_loss: 14.8600 - val_dense_30_loss: 15.0790 - val_dense_31_loss: 13.9220 - val_dense_32_loss: 16.0778 - val_dense_27_acc: 0.3433 - val_dense_28_acc: 0.3034 - val_dense_29_acc: 0.0781 - val_dense_30_acc: 0.0645 - val_dense_31_acc: 0.1363 - val_dense_32_acc: 0.0026\n",
      "Epoch 4/100\n",
      " - 253s - loss: 81.8644 - dense_27_loss: 10.6651 - dense_28_loss: 11.2850 - dense_29_loss: 14.8910 - dense_30_loss: 15.0239 - dense_31_loss: 13.9224 - dense_32_loss: 16.0770 - dense_27_acc: 0.3383 - dense_28_acc: 0.2999 - dense_29_acc: 0.0761 - dense_30_acc: 0.0679 - dense_31_acc: 0.1362 - dense_32_acc: 0.0026 - val_loss: 81.7516 - val_dense_27_loss: 10.5845 - val_dense_28_loss: 11.2283 - val_dense_29_loss: 14.8600 - val_dense_30_loss: 15.0790 - val_dense_31_loss: 13.9220 - val_dense_32_loss: 16.0778 - val_dense_27_acc: 0.3433 - val_dense_28_acc: 0.3034 - val_dense_29_acc: 0.0781 - val_dense_30_acc: 0.0645 - val_dense_31_acc: 0.1363 - val_dense_32_acc: 0.0026\n",
      "Epoch 5/100\n",
      " - 254s - loss: 81.8644 - dense_27_loss: 10.6651 - dense_28_loss: 11.2850 - dense_29_loss: 14.8910 - dense_30_loss: 15.0239 - dense_31_loss: 13.9224 - dense_32_loss: 16.0770 - dense_27_acc: 0.3383 - dense_28_acc: 0.2999 - dense_29_acc: 0.0761 - dense_30_acc: 0.0679 - dense_31_acc: 0.1362 - dense_32_acc: 0.0026 - val_loss: 81.7516 - val_dense_27_loss: 10.5845 - val_dense_28_loss: 11.2283 - val_dense_29_loss: 14.8600 - val_dense_30_loss: 15.0790 - val_dense_31_loss: 13.9220 - val_dense_32_loss: 16.0778 - val_dense_27_acc: 0.3433 - val_dense_28_acc: 0.3034 - val_dense_29_acc: 0.0781 - val_dense_30_acc: 0.0645 - val_dense_31_acc: 0.1363 - val_dense_32_acc: 0.0026\n",
      "Epoch 6/100\n",
      " - 255s - loss: 81.8644 - dense_27_loss: 10.6651 - dense_28_loss: 11.2850 - dense_29_loss: 14.8910 - dense_30_loss: 15.0239 - dense_31_loss: 13.9224 - dense_32_loss: 16.0770 - dense_27_acc: 0.3383 - dense_28_acc: 0.2999 - dense_29_acc: 0.0761 - dense_30_acc: 0.0679 - dense_31_acc: 0.1362 - dense_32_acc: 0.0026 - val_loss: 81.7516 - val_dense_27_loss: 10.5845 - val_dense_28_loss: 11.2283 - val_dense_29_loss: 14.8600 - val_dense_30_loss: 15.0790 - val_dense_31_loss: 13.9220 - val_dense_32_loss: 16.0778 - val_dense_27_acc: 0.3433 - val_dense_28_acc: 0.3034 - val_dense_29_acc: 0.0781 - val_dense_30_acc: 0.0645 - val_dense_31_acc: 0.1363 - val_dense_32_acc: 0.0026\n"
     ]
    },
    {
     "data": {
      "text/plain": [
       "<keras.callbacks.History at 0x7f2d16c8d278>"
      ]
     },
     "execution_count": 56,
     "metadata": {
      "tags": []
     },
     "output_type": "execute_result"
    }
   ],
   "source": [
    "batch_size = 250\n",
    "#m.load_weights('./PCR_SILVA_all/W2V/ResNet_like_N.hdfs')\n",
    "filepath = ''.join('./PCR_SILVA_all/W2V/Fixed_len_MLP_No_W2V.hdfs')\n",
    "Checkpoint = ModelCheckpoint(filepath,monitor='val_loss', save_best_only=True,\n",
    "                             save_weights_only=True,period=1)\n",
    "csv_logger = CSVLogger('./PCR_SILVA_all/W2V/Fixed_len_MLP_No_W2V.log')\n",
    "EarlyStop = EarlyStopping(monitor='val_loss', min_delta=0, patience=5, verbose=0, mode='auto')\n",
    "\n",
    "train_gen = simulate_multiooutput_ngs_generator_fixed_len(train,batch_size=batch_size,len1=100)\n",
    "valid_gen = simulate_multiooutput_ngs_generator_fixed_len(valid,batch_size=batch_size,len1=100)\n",
    "\n",
    "m.fit_generator(train_gen,\n",
    "                epochs=100,shuffle=True,\n",
    "                steps_per_epoch=train.shape[0]//batch_size,\n",
    "                validation_data=valid_gen,\n",
    "                validation_steps=valid.shape[0]//batch_size,\n",
    "                verbose=2,callbacks=[Checkpoint,csv_logger,EarlyStop])"
   ]
  },
  {
   "cell_type": "markdown",
   "metadata": {
    "colab_type": "text",
    "id": "pt8q8UkpFjLO"
   },
   "source": [
    "### Multioutput Evaluation"
   ]
  },
  {
   "cell_type": "code",
   "execution_count": 0,
   "metadata": {
    "colab": {},
    "colab_type": "code",
    "collapsed": true,
    "id": "wWPoRQP9nPlS"
   },
   "outputs": [],
   "source": [
    "def simulate_multiooutput_ngs_generator_fixed_len(df,len1 = 100,batch_size=250):\n",
    "    y_sim_1,y_sim_2,y_sim_3,y_sim_4,y_sim_5,y_sim_6 = df['phylum-'].values,df['class_-'].values,df['order-'].values,df['family-'].values,df['genus-'].values,df['species-'].values\n",
    "    x_sim = df['encoded'].apply(lambda x : simulate_reads(x,len1=len1))\n",
    "    x_sim = pad_sequences(x_sim.values,maxlen=max_len)\n",
    "    x_sim = array(np.concatenate(x_sim).reshape(x_sim.shape[0],max_len).tolist()).astype('uint16')\n",
    "    samples_per_epoch = df.shape[0]\n",
    "    number_of_batches = samples_per_epoch//batch_size\n",
    "    counter=0\n",
    "\n",
    "    while counter <=number_of_batches :\n",
    "        X_batch = np.array(x_sim[batch_size*counter:batch_size*(counter+1)]).astype('uint16')\n",
    "        y_1 = y_sim_1[batch_size*counter:batch_size*(counter+1)].astype('uint8')\n",
    "        y_2 = y_sim_2[batch_size*counter:batch_size*(counter+1)].astype('uint8')\n",
    "        y_3 = y_sim_3[batch_size*counter:batch_size*(counter+1)].astype('uint8')\n",
    "        y_4 = y_sim_4[batch_size*counter:batch_size*(counter+1)].astype('uint16')\n",
    "        y_5 = y_sim_5[batch_size*counter:batch_size*(counter+1)].astype('uint16')\n",
    "        y_6 = y_sim_6[batch_size*counter:batch_size*(counter+1)].astype('uint16')\n",
    "        counter += 1\n",
    "        if counter ==number_of_batches:\n",
    "            counter = 0\n",
    "            del x_sim\n",
    "            y_sim_1,y_sim_2,y_sim_3,y_sim_4,y_sim_5,y_sim_6 = df['phylum-'].values,df['class_-'].values,df['order-'].values,df['family-'].values,df['genus-'].values,df['species-'].values\n",
    "            x_sim = df['encoded'].apply(lambda x : simulate_reads(x,len1=len1))\n",
    "            x_sim = pad_sequences(x_sim.values,maxlen=max_len)\n",
    "            x_sim = array(np.concatenate(x_sim).reshape(x_sim.shape[0],max_len).tolist()).astype('uint8')\n",
    "        yield X_batch,[y_1,y_2,y_3,y_4,y_5,y_6]"
   ]
  },
  {
   "cell_type": "code",
   "execution_count": 0,
   "metadata": {
    "colab": {},
    "colab_type": "code",
    "collapsed": true,
    "id": "SzMjGbqPmi2i"
   },
   "outputs": [],
   "source": [
    "def evaluate_multioutput_on_different_length(model, lengths,data,batch_size,save_path):\n",
    "    eval_df =  pd.DataFrame(np.zeros((6,len(lengths))),columns=lengths,index=['Phylum','Order','Class','Family','Genus','Species'])\n",
    "    for len_ in range(len(lengths[:-1])):\n",
    "        eval_df.iloc[:,len_] = model.evaluate_generator(simulate_multiooutput_ngs_generator_fixed_len(data,len1=lengths[len_],batch_size=batch_size),\n",
    "                                                                                                verbose=2,steps=data.shape[0]//batch_size)[-6:]\n",
    "        eval_df.to_csv(save_path)  \n",
    "    data['simulated'] = pad_sequences(data['encoded'].values,maxlen=max_len).tolist()\n",
    "    y_sim_1,y_sim_2,y_sim_3,y_sim_4,y_sim_5,y_sim_6 = data['phylum-'].values,data['class_-'].values,data['order-'].values,data['family-'].values,data['genus-'].values,data['species-'].values\n",
    "    x_sim = data['simulated']\n",
    "    x_sim = array(np.concatenate(x_sim.values).reshape(x_sim.shape[0],max_len).tolist()).astype('uint16')\n",
    "    eval_df.iloc[:,-1]= m.evaluate(x_sim,[y_sim_1,y_sim_2,y_sim_3,y_sim_4,y_sim_5,y_sim_6 ],batch_size=250)[-6:]\n",
    "    eval_df.to_csv(save_path)\n",
    "    return eval_df"
   ]
  },
  {
   "cell_type": "markdown",
   "metadata": {
    "colab_type": "text",
    "id": "9IAygbAUvJ2M"
   },
   "source": [
    "### ResNet Like network evaluation"
   ]
  },
  {
   "cell_type": "code",
   "execution_count": 0,
   "metadata": {
    "colab": {
     "base_uri": "https://localhost:8080/",
     "height": 255
    },
    "colab_type": "code",
    "collapsed": false,
    "id": "gePjqmPu5xYr",
    "outputId": "421caa0e-404e-4cf4-8f4f-6cffec241337"
   },
   "outputs": [
    {
     "name": "stdout",
     "output_type": "stream",
     "text": [
      "174500/174500 [==============================] - 181s 1ms/step\n"
     ]
    },
    {
     "data": {
      "text/html": [
       "<div>\n",
       "<style scoped>\n",
       "    .dataframe tbody tr th:only-of-type {\n",
       "        vertical-align: middle;\n",
       "    }\n",
       "\n",
       "    .dataframe tbody tr th {\n",
       "        vertical-align: top;\n",
       "    }\n",
       "\n",
       "    .dataframe thead th {\n",
       "        text-align: right;\n",
       "    }\n",
       "</style>\n",
       "<table border=\"1\" class=\"dataframe\">\n",
       "  <thead>\n",
       "    <tr style=\"text-align: right;\">\n",
       "      <th></th>\n",
       "      <th>25</th>\n",
       "      <th>50</th>\n",
       "      <th>75</th>\n",
       "      <th>100</th>\n",
       "      <th>125</th>\n",
       "      <th>full_HVR</th>\n",
       "    </tr>\n",
       "  </thead>\n",
       "  <tbody>\n",
       "    <tr>\n",
       "      <th>Phylum</th>\n",
       "      <td>0.958934</td>\n",
       "      <td>0.992115</td>\n",
       "      <td>0.996762</td>\n",
       "      <td>0.997628</td>\n",
       "      <td>0.998046</td>\n",
       "      <td>0.998430</td>\n",
       "    </tr>\n",
       "    <tr>\n",
       "      <th>Order</th>\n",
       "      <td>0.946693</td>\n",
       "      <td>0.987152</td>\n",
       "      <td>0.994894</td>\n",
       "      <td>0.996372</td>\n",
       "      <td>0.997192</td>\n",
       "      <td>0.997713</td>\n",
       "    </tr>\n",
       "    <tr>\n",
       "      <th>Class</th>\n",
       "      <td>0.907725</td>\n",
       "      <td>0.965656</td>\n",
       "      <td>0.983616</td>\n",
       "      <td>0.988699</td>\n",
       "      <td>0.992361</td>\n",
       "      <td>0.994017</td>\n",
       "    </tr>\n",
       "    <tr>\n",
       "      <th>Family</th>\n",
       "      <td>0.883198</td>\n",
       "      <td>0.951066</td>\n",
       "      <td>0.974682</td>\n",
       "      <td>0.981593</td>\n",
       "      <td>0.987278</td>\n",
       "      <td>0.989662</td>\n",
       "    </tr>\n",
       "    <tr>\n",
       "      <th>Genus</th>\n",
       "      <td>0.789077</td>\n",
       "      <td>0.867169</td>\n",
       "      <td>0.910052</td>\n",
       "      <td>0.930562</td>\n",
       "      <td>0.946057</td>\n",
       "      <td>0.954338</td>\n",
       "    </tr>\n",
       "    <tr>\n",
       "      <th>Species</th>\n",
       "      <td>0.599146</td>\n",
       "      <td>0.656842</td>\n",
       "      <td>0.692080</td>\n",
       "      <td>0.709731</td>\n",
       "      <td>0.722986</td>\n",
       "      <td>0.732246</td>\n",
       "    </tr>\n",
       "  </tbody>\n",
       "</table>\n",
       "</div>"
      ],
      "text/plain": [
       "               25        50        75       100       125  full_HVR\n",
       "Phylum   0.958934  0.992115  0.996762  0.997628  0.998046  0.998430\n",
       "Order    0.946693  0.987152  0.994894  0.996372  0.997192  0.997713\n",
       "Class    0.907725  0.965656  0.983616  0.988699  0.992361  0.994017\n",
       "Family   0.883198  0.951066  0.974682  0.981593  0.987278  0.989662\n",
       "Genus    0.789077  0.867169  0.910052  0.930562  0.946057  0.954338\n",
       "Species  0.599146  0.656842  0.692080  0.709731  0.722986  0.732246"
      ]
     },
     "execution_count": 25,
     "metadata": {
      "tags": []
     },
     "output_type": "execute_result"
    }
   ],
   "source": [
    "m.load_weights('./PCR_SILVA_all/W2V/ResNet_like_N__.hdfs')\n",
    "evaluate_multioutput_on_different_length(model=m, lengths=[25,50,75,100,125,'full_HVR'],data=test,\n",
    "                                         batch_size=250,save_path='./PCR_SILVA_all/ResNet_like_N__.csv')"
   ]
  },
  {
   "cell_type": "code",
   "execution_count": 0,
   "metadata": {
    "colab": {
     "base_uri": "https://localhost:8080/",
     "height": 255
    },
    "colab_type": "code",
    "collapsed": false,
    "id": "RBGko12kkv4X",
    "outputId": "a316dfbd-87b4-4e5b-baff-b32f03f6ed31"
   },
   "outputs": [
    {
     "name": "stdout",
     "output_type": "stream",
     "text": [
      "174500/174500 [==============================] - 54s 309us/step\n"
     ]
    },
    {
     "data": {
      "text/html": [
       "<div>\n",
       "<style scoped>\n",
       "    .dataframe tbody tr th:only-of-type {\n",
       "        vertical-align: middle;\n",
       "    }\n",
       "\n",
       "    .dataframe tbody tr th {\n",
       "        vertical-align: top;\n",
       "    }\n",
       "\n",
       "    .dataframe thead th {\n",
       "        text-align: right;\n",
       "    }\n",
       "</style>\n",
       "<table border=\"1\" class=\"dataframe\">\n",
       "  <thead>\n",
       "    <tr style=\"text-align: right;\">\n",
       "      <th></th>\n",
       "      <th>25</th>\n",
       "      <th>50</th>\n",
       "      <th>75</th>\n",
       "      <th>100</th>\n",
       "      <th>125</th>\n",
       "      <th>full_HVR</th>\n",
       "    </tr>\n",
       "  </thead>\n",
       "  <tbody>\n",
       "    <tr>\n",
       "      <th>Phylum</th>\n",
       "      <td>0.505415</td>\n",
       "      <td>0.511381</td>\n",
       "      <td>0.513656</td>\n",
       "      <td>0.512327</td>\n",
       "      <td>0.515209</td>\n",
       "      <td>0.998052</td>\n",
       "    </tr>\n",
       "    <tr>\n",
       "      <th>Order</th>\n",
       "      <td>0.313352</td>\n",
       "      <td>0.309009</td>\n",
       "      <td>0.308178</td>\n",
       "      <td>0.310556</td>\n",
       "      <td>0.319077</td>\n",
       "      <td>0.997186</td>\n",
       "    </tr>\n",
       "    <tr>\n",
       "      <th>Class</th>\n",
       "      <td>0.196292</td>\n",
       "      <td>0.196298</td>\n",
       "      <td>0.195307</td>\n",
       "      <td>0.191043</td>\n",
       "      <td>0.189542</td>\n",
       "      <td>0.992871</td>\n",
       "    </tr>\n",
       "    <tr>\n",
       "      <th>Family</th>\n",
       "      <td>0.137771</td>\n",
       "      <td>0.139135</td>\n",
       "      <td>0.137060</td>\n",
       "      <td>0.133484</td>\n",
       "      <td>0.130745</td>\n",
       "      <td>0.988212</td>\n",
       "    </tr>\n",
       "    <tr>\n",
       "      <th>Genus</th>\n",
       "      <td>0.061547</td>\n",
       "      <td>0.056378</td>\n",
       "      <td>0.050630</td>\n",
       "      <td>0.046103</td>\n",
       "      <td>0.042092</td>\n",
       "      <td>0.951805</td>\n",
       "    </tr>\n",
       "    <tr>\n",
       "      <th>Species</th>\n",
       "      <td>0.050688</td>\n",
       "      <td>0.045026</td>\n",
       "      <td>0.040143</td>\n",
       "      <td>0.035748</td>\n",
       "      <td>0.032241</td>\n",
       "      <td>0.732797</td>\n",
       "    </tr>\n",
       "  </tbody>\n",
       "</table>\n",
       "</div>"
      ],
      "text/plain": [
       "               25        50        75       100       125  full_HVR\n",
       "Phylum   0.505415  0.511381  0.513656  0.512327  0.515209  0.998052\n",
       "Order    0.313352  0.309009  0.308178  0.310556  0.319077  0.997186\n",
       "Class    0.196292  0.196298  0.195307  0.191043  0.189542  0.992871\n",
       "Family   0.137771  0.139135  0.137060  0.133484  0.130745  0.988212\n",
       "Genus    0.061547  0.056378  0.050630  0.046103  0.042092  0.951805\n",
       "Species  0.050688  0.045026  0.040143  0.035748  0.032241  0.732797"
      ]
     },
     "execution_count": 34,
     "metadata": {
      "tags": []
     },
     "output_type": "execute_result"
    }
   ],
   "source": [
    "m.load_weights('./PCR_SILVA_all/W2V/ResNet_like_N_2.hdfs')\n",
    "evaluate_multioutput_on_different_length(model=m, lengths=[25,50,75,100,125,'full_HVR'],data=test,\n",
    "                                         batch_size=250,save_path='./PCR_SILVA_all/ResNet_like_N_2.csv')"
   ]
  },
  {
   "cell_type": "code",
   "execution_count": 0,
   "metadata": {
    "colab": {
     "base_uri": "https://localhost:8080/",
     "height": 246
    },
    "colab_type": "code",
    "collapsed": false,
    "id": "QmcMciqhu8jM",
    "outputId": "d30931ad-ba46-4d51-f442-052f2850446b"
   },
   "outputs": [
    {
     "name": "stdout",
     "output_type": "stream",
     "text": [
      "174500/174500 [==============================] - 54s 310us/step\n"
     ]
    },
    {
     "data": {
      "text/html": [
       "<div>\n",
       "<style scoped>\n",
       "    .dataframe tbody tr th:only-of-type {\n",
       "        vertical-align: middle;\n",
       "    }\n",
       "\n",
       "    .dataframe tbody tr th {\n",
       "        vertical-align: top;\n",
       "    }\n",
       "\n",
       "    .dataframe thead th {\n",
       "        text-align: right;\n",
       "    }\n",
       "</style>\n",
       "<table border=\"1\" class=\"dataframe\">\n",
       "  <thead>\n",
       "    <tr style=\"text-align: right;\">\n",
       "      <th></th>\n",
       "      <th>25</th>\n",
       "      <th>50</th>\n",
       "      <th>75</th>\n",
       "      <th>100</th>\n",
       "      <th>125</th>\n",
       "      <th>full_HVR</th>\n",
       "    </tr>\n",
       "  </thead>\n",
       "  <tbody>\n",
       "    <tr>\n",
       "      <th>Phylum</th>\n",
       "      <td>0.403077</td>\n",
       "      <td>0.402802</td>\n",
       "      <td>0.404648</td>\n",
       "      <td>0.402579</td>\n",
       "      <td>0.403840</td>\n",
       "      <td>0.418539</td>\n",
       "    </tr>\n",
       "    <tr>\n",
       "      <th>Order</th>\n",
       "      <td>0.314046</td>\n",
       "      <td>0.336968</td>\n",
       "      <td>0.364418</td>\n",
       "      <td>0.382011</td>\n",
       "      <td>0.402991</td>\n",
       "      <td>0.439897</td>\n",
       "    </tr>\n",
       "    <tr>\n",
       "      <th>Class</th>\n",
       "      <td>0.173163</td>\n",
       "      <td>0.181610</td>\n",
       "      <td>0.189221</td>\n",
       "      <td>0.200321</td>\n",
       "      <td>0.212355</td>\n",
       "      <td>0.216441</td>\n",
       "    </tr>\n",
       "    <tr>\n",
       "      <th>Family</th>\n",
       "      <td>0.118235</td>\n",
       "      <td>0.126968</td>\n",
       "      <td>0.135358</td>\n",
       "      <td>0.144223</td>\n",
       "      <td>0.155983</td>\n",
       "      <td>0.156481</td>\n",
       "    </tr>\n",
       "    <tr>\n",
       "      <th>Genus</th>\n",
       "      <td>0.096332</td>\n",
       "      <td>0.103203</td>\n",
       "      <td>0.112258</td>\n",
       "      <td>0.117645</td>\n",
       "      <td>0.127490</td>\n",
       "      <td>0.175020</td>\n",
       "    </tr>\n",
       "    <tr>\n",
       "      <th>Species</th>\n",
       "      <td>0.088573</td>\n",
       "      <td>0.094791</td>\n",
       "      <td>0.101513</td>\n",
       "      <td>0.107341</td>\n",
       "      <td>0.114751</td>\n",
       "      <td>0.142785</td>\n",
       "    </tr>\n",
       "  </tbody>\n",
       "</table>\n",
       "</div>"
      ],
      "text/plain": [
       "               25        50        75       100       125  full_HVR\n",
       "Phylum   0.403077  0.402802  0.404648  0.402579  0.403840  0.418539\n",
       "Order    0.314046  0.336968  0.364418  0.382011  0.402991  0.439897\n",
       "Class    0.173163  0.181610  0.189221  0.200321  0.212355  0.216441\n",
       "Family   0.118235  0.126968  0.135358  0.144223  0.155983  0.156481\n",
       "Genus    0.096332  0.103203  0.112258  0.117645  0.127490  0.175020\n",
       "Species  0.088573  0.094791  0.101513  0.107341  0.114751  0.142785"
      ]
     },
     "execution_count": 47,
     "metadata": {
      "tags": []
     },
     "output_type": "execute_result"
    }
   ],
   "source": [
    "m.load_weights('./PCR_SILVA_all/W2V/ResNet_like_N_2_no_W2V.hdfs')\n",
    "evaluate_multioutput_on_different_length(model=m, lengths=[25,50,75,100,125,'full_HVR'],data=test,\n",
    "                                         batch_size=250,save_path='./PCR_SILVA_all/ResNet_like_N_2_no_W2V.csv')"
   ]
  },
  {
   "cell_type": "code",
   "execution_count": 0,
   "metadata": {
    "colab": {
     "base_uri": "https://localhost:8080/",
     "height": 255
    },
    "colab_type": "code",
    "collapsed": false,
    "id": "beCnXGO7efB5",
    "outputId": "a75d3457-e26e-45f0-b62e-051c60f46d2a"
   },
   "outputs": [
    {
     "name": "stdout",
     "output_type": "stream",
     "text": [
      "174500/174500 [==============================] - 179s 1ms/step\n"
     ]
    },
    {
     "data": {
      "text/html": [
       "<div>\n",
       "<style scoped>\n",
       "    .dataframe tbody tr th:only-of-type {\n",
       "        vertical-align: middle;\n",
       "    }\n",
       "\n",
       "    .dataframe tbody tr th {\n",
       "        vertical-align: top;\n",
       "    }\n",
       "\n",
       "    .dataframe thead th {\n",
       "        text-align: right;\n",
       "    }\n",
       "</style>\n",
       "<table border=\"1\" class=\"dataframe\">\n",
       "  <thead>\n",
       "    <tr style=\"text-align: right;\">\n",
       "      <th></th>\n",
       "      <th>25</th>\n",
       "      <th>50</th>\n",
       "      <th>75</th>\n",
       "      <th>100</th>\n",
       "      <th>125</th>\n",
       "      <th>full_HVR</th>\n",
       "    </tr>\n",
       "  </thead>\n",
       "  <tbody>\n",
       "    <tr>\n",
       "      <th>Phylum</th>\n",
       "      <td>0.932785</td>\n",
       "      <td>0.988361</td>\n",
       "      <td>0.995788</td>\n",
       "      <td>0.997215</td>\n",
       "      <td>0.997897</td>\n",
       "      <td>0.998573</td>\n",
       "    </tr>\n",
       "    <tr>\n",
       "      <th>Order</th>\n",
       "      <td>0.908894</td>\n",
       "      <td>0.980877</td>\n",
       "      <td>0.993135</td>\n",
       "      <td>0.995983</td>\n",
       "      <td>0.997135</td>\n",
       "      <td>0.997971</td>\n",
       "    </tr>\n",
       "    <tr>\n",
       "      <th>Class</th>\n",
       "      <td>0.837788</td>\n",
       "      <td>0.952762</td>\n",
       "      <td>0.980315</td>\n",
       "      <td>0.988275</td>\n",
       "      <td>0.992338</td>\n",
       "      <td>0.994751</td>\n",
       "    </tr>\n",
       "    <tr>\n",
       "      <th>Family</th>\n",
       "      <td>0.783599</td>\n",
       "      <td>0.928103</td>\n",
       "      <td>0.968189</td>\n",
       "      <td>0.980774</td>\n",
       "      <td>0.987129</td>\n",
       "      <td>0.990951</td>\n",
       "    </tr>\n",
       "    <tr>\n",
       "      <th>Genus</th>\n",
       "      <td>0.639570</td>\n",
       "      <td>0.818957</td>\n",
       "      <td>0.892218</td>\n",
       "      <td>0.925696</td>\n",
       "      <td>0.946195</td>\n",
       "      <td>0.960630</td>\n",
       "    </tr>\n",
       "    <tr>\n",
       "      <th>Species</th>\n",
       "      <td>0.482029</td>\n",
       "      <td>0.615461</td>\n",
       "      <td>0.674751</td>\n",
       "      <td>0.706178</td>\n",
       "      <td>0.725656</td>\n",
       "      <td>0.743542</td>\n",
       "    </tr>\n",
       "  </tbody>\n",
       "</table>\n",
       "</div>"
      ],
      "text/plain": [
       "               25        50        75       100       125  full_HVR\n",
       "Phylum   0.932785  0.988361  0.995788  0.997215  0.997897  0.998573\n",
       "Order    0.908894  0.980877  0.993135  0.995983  0.997135  0.997971\n",
       "Class    0.837788  0.952762  0.980315  0.988275  0.992338  0.994751\n",
       "Family   0.783599  0.928103  0.968189  0.980774  0.987129  0.990951\n",
       "Genus    0.639570  0.818957  0.892218  0.925696  0.946195  0.960630\n",
       "Species  0.482029  0.615461  0.674751  0.706178  0.725656  0.743542"
      ]
     },
     "execution_count": 38,
     "metadata": {
      "tags": []
     },
     "output_type": "execute_result"
    }
   ],
   "source": [
    "m.load_weights('./PCR_SILVA_all/W2V/ResNet_like_N_big.hdfs')\n",
    "evaluate_multioutput_on_different_length(model=m, lengths=[25,50,75,100,125,'full_HVR'],data=test,\n",
    "                                         batch_size=250,save_path='./PCR_SILVA_all/ResNet_like_N_big.csv')"
   ]
  },
  {
   "cell_type": "code",
   "execution_count": 0,
   "metadata": {
    "colab": {
     "base_uri": "https://localhost:8080/",
     "height": 246
    },
    "colab_type": "code",
    "collapsed": false,
    "id": "WfrRMKY2bX7q",
    "outputId": "99b09f0f-e7e5-4e86-d1ec-b6133bd959d1"
   },
   "outputs": [
    {
     "name": "stdout",
     "output_type": "stream",
     "text": [
      "174500/174500 [==============================] - 177s 1ms/step\n"
     ]
    },
    {
     "data": {
      "text/html": [
       "<div>\n",
       "<style scoped>\n",
       "    .dataframe tbody tr th:only-of-type {\n",
       "        vertical-align: middle;\n",
       "    }\n",
       "\n",
       "    .dataframe tbody tr th {\n",
       "        vertical-align: top;\n",
       "    }\n",
       "\n",
       "    .dataframe thead th {\n",
       "        text-align: right;\n",
       "    }\n",
       "</style>\n",
       "<table border=\"1\" class=\"dataframe\">\n",
       "  <thead>\n",
       "    <tr style=\"text-align: right;\">\n",
       "      <th></th>\n",
       "      <th>25</th>\n",
       "      <th>50</th>\n",
       "      <th>75</th>\n",
       "      <th>100</th>\n",
       "      <th>125</th>\n",
       "      <th>full_HVR</th>\n",
       "    </tr>\n",
       "  </thead>\n",
       "  <tbody>\n",
       "    <tr>\n",
       "      <th>Phylum</th>\n",
       "      <td>0.924046</td>\n",
       "      <td>0.988034</td>\n",
       "      <td>0.995880</td>\n",
       "      <td>0.997335</td>\n",
       "      <td>0.998074</td>\n",
       "      <td>0.998728</td>\n",
       "    </tr>\n",
       "    <tr>\n",
       "      <th>Order</th>\n",
       "      <td>0.895072</td>\n",
       "      <td>0.980315</td>\n",
       "      <td>0.993450</td>\n",
       "      <td>0.996309</td>\n",
       "      <td>0.997473</td>\n",
       "      <td>0.998212</td>\n",
       "    </tr>\n",
       "    <tr>\n",
       "      <th>Class</th>\n",
       "      <td>0.820407</td>\n",
       "      <td>0.952138</td>\n",
       "      <td>0.981261</td>\n",
       "      <td>0.989181</td>\n",
       "      <td>0.993341</td>\n",
       "      <td>0.995307</td>\n",
       "    </tr>\n",
       "    <tr>\n",
       "      <th>Family</th>\n",
       "      <td>0.758321</td>\n",
       "      <td>0.928069</td>\n",
       "      <td>0.970453</td>\n",
       "      <td>0.982676</td>\n",
       "      <td>0.988774</td>\n",
       "      <td>0.992052</td>\n",
       "    </tr>\n",
       "    <tr>\n",
       "      <th>Genus</th>\n",
       "      <td>0.608722</td>\n",
       "      <td>0.819691</td>\n",
       "      <td>0.898785</td>\n",
       "      <td>0.931375</td>\n",
       "      <td>0.951135</td>\n",
       "      <td>0.964069</td>\n",
       "    </tr>\n",
       "    <tr>\n",
       "      <th>Species</th>\n",
       "      <td>0.462802</td>\n",
       "      <td>0.617289</td>\n",
       "      <td>0.683599</td>\n",
       "      <td>0.715089</td>\n",
       "      <td>0.734223</td>\n",
       "      <td>0.752642</td>\n",
       "    </tr>\n",
       "  </tbody>\n",
       "</table>\n",
       "</div>"
      ],
      "text/plain": [
       "               25        50        75       100       125  full_HVR\n",
       "Phylum   0.924046  0.988034  0.995880  0.997335  0.998074  0.998728\n",
       "Order    0.895072  0.980315  0.993450  0.996309  0.997473  0.998212\n",
       "Class    0.820407  0.952138  0.981261  0.989181  0.993341  0.995307\n",
       "Family   0.758321  0.928069  0.970453  0.982676  0.988774  0.992052\n",
       "Genus    0.608722  0.819691  0.898785  0.931375  0.951135  0.964069\n",
       "Species  0.462802  0.617289  0.683599  0.715089  0.734223  0.752642"
      ]
     },
     "execution_count": 30,
     "metadata": {
      "tags": []
     },
     "output_type": "execute_result"
    }
   ],
   "source": [
    "m.load_weights('./PCR_SILVA_all/W2V/ResNet_like_N_big_len50.hdfs')\n",
    "evaluate_multioutput_on_different_length(model=m, lengths=[25,50,75,100,125,'full_HVR'],data=test,\n",
    "                                         batch_size=250,save_path='./PCR_SILVA_all/ResNet_like_N_big_len50.csv')"
   ]
  },
  {
   "cell_type": "code",
   "execution_count": 0,
   "metadata": {
    "colab": {
     "base_uri": "https://localhost:8080/",
     "height": 246
    },
    "colab_type": "code",
    "collapsed": false,
    "id": "H85OJdwaup0g",
    "outputId": "43ab552f-b395-4610-cc73-703bf2f095ea"
   },
   "outputs": [
    {
     "name": "stdout",
     "output_type": "stream",
     "text": [
      "174500/174500 [==============================] - 182s 1ms/step\n"
     ]
    },
    {
     "data": {
      "text/html": [
       "<div>\n",
       "<style scoped>\n",
       "    .dataframe tbody tr th:only-of-type {\n",
       "        vertical-align: middle;\n",
       "    }\n",
       "\n",
       "    .dataframe tbody tr th {\n",
       "        vertical-align: top;\n",
       "    }\n",
       "\n",
       "    .dataframe thead th {\n",
       "        text-align: right;\n",
       "    }\n",
       "</style>\n",
       "<table border=\"1\" class=\"dataframe\">\n",
       "  <thead>\n",
       "    <tr style=\"text-align: right;\">\n",
       "      <th></th>\n",
       "      <th>25</th>\n",
       "      <th>50</th>\n",
       "      <th>75</th>\n",
       "      <th>100</th>\n",
       "      <th>125</th>\n",
       "      <th>full_HVR</th>\n",
       "    </tr>\n",
       "  </thead>\n",
       "  <tbody>\n",
       "    <tr>\n",
       "      <th>Phylum</th>\n",
       "      <td>0.818332</td>\n",
       "      <td>0.963444</td>\n",
       "      <td>0.993685</td>\n",
       "      <td>0.997599</td>\n",
       "      <td>0.998195</td>\n",
       "      <td>0.998648</td>\n",
       "    </tr>\n",
       "    <tr>\n",
       "      <th>Order</th>\n",
       "      <td>0.752659</td>\n",
       "      <td>0.943438</td>\n",
       "      <td>0.990063</td>\n",
       "      <td>0.996367</td>\n",
       "      <td>0.997370</td>\n",
       "      <td>0.998000</td>\n",
       "    </tr>\n",
       "    <tr>\n",
       "      <th>Class</th>\n",
       "      <td>0.639914</td>\n",
       "      <td>0.890361</td>\n",
       "      <td>0.973536</td>\n",
       "      <td>0.990350</td>\n",
       "      <td>0.993920</td>\n",
       "      <td>0.995289</td>\n",
       "    </tr>\n",
       "    <tr>\n",
       "      <th>Family</th>\n",
       "      <td>0.546023</td>\n",
       "      <td>0.844063</td>\n",
       "      <td>0.957175</td>\n",
       "      <td>0.984332</td>\n",
       "      <td>0.989662</td>\n",
       "      <td>0.992034</td>\n",
       "    </tr>\n",
       "    <tr>\n",
       "      <th>Genus</th>\n",
       "      <td>0.365140</td>\n",
       "      <td>0.699032</td>\n",
       "      <td>0.872774</td>\n",
       "      <td>0.935834</td>\n",
       "      <td>0.952716</td>\n",
       "      <td>0.960464</td>\n",
       "    </tr>\n",
       "    <tr>\n",
       "      <th>Species</th>\n",
       "      <td>0.269479</td>\n",
       "      <td>0.520006</td>\n",
       "      <td>0.660269</td>\n",
       "      <td>0.718779</td>\n",
       "      <td>0.735628</td>\n",
       "      <td>0.742556</td>\n",
       "    </tr>\n",
       "  </tbody>\n",
       "</table>\n",
       "</div>"
      ],
      "text/plain": [
       "               25        50        75       100       125  full_HVR\n",
       "Phylum   0.818332  0.963444  0.993685  0.997599  0.998195  0.998648\n",
       "Order    0.752659  0.943438  0.990063  0.996367  0.997370  0.998000\n",
       "Class    0.639914  0.890361  0.973536  0.990350  0.993920  0.995289\n",
       "Family   0.546023  0.844063  0.957175  0.984332  0.989662  0.992034\n",
       "Genus    0.365140  0.699032  0.872774  0.935834  0.952716  0.960464\n",
       "Species  0.269479  0.520006  0.660269  0.718779  0.735628  0.742556"
      ]
     },
     "execution_count": 52,
     "metadata": {
      "tags": []
     },
     "output_type": "execute_result"
    }
   ],
   "source": [
    "m.load_weights('./PCR_SILVA_all/W2V/Fixed_len_ResNet_like_N.hdfs')\n",
    "evaluate_multioutput_on_different_length(model=m, lengths=[25,50,75,100,125,'full_HVR'],data=test,\n",
    "                                         batch_size=250,save_path='./PCR_SILVA_all/Fixed_len_ResNet_like_N.csv')"
   ]
  },
  {
   "cell_type": "code",
   "execution_count": 0,
   "metadata": {
    "colab": {
     "base_uri": "https://localhost:8080/",
     "height": 255
    },
    "colab_type": "code",
    "collapsed": false,
    "id": "GI8K2rbrenNc",
    "outputId": "634f2e51-ac12-413c-acd9-e60ca9e2b563"
   },
   "outputs": [
    {
     "name": "stdout",
     "output_type": "stream",
     "text": [
      "174500/174500 [==============================] - 174s 999us/step\n"
     ]
    },
    {
     "data": {
      "text/html": [
       "<div>\n",
       "<style scoped>\n",
       "    .dataframe tbody tr th:only-of-type {\n",
       "        vertical-align: middle;\n",
       "    }\n",
       "\n",
       "    .dataframe tbody tr th {\n",
       "        vertical-align: top;\n",
       "    }\n",
       "\n",
       "    .dataframe thead th {\n",
       "        text-align: right;\n",
       "    }\n",
       "</style>\n",
       "<table border=\"1\" class=\"dataframe\">\n",
       "  <thead>\n",
       "    <tr style=\"text-align: right;\">\n",
       "      <th></th>\n",
       "      <th>25</th>\n",
       "      <th>50</th>\n",
       "      <th>75</th>\n",
       "      <th>100</th>\n",
       "      <th>125</th>\n",
       "      <th>full_HVR</th>\n",
       "    </tr>\n",
       "  </thead>\n",
       "  <tbody>\n",
       "    <tr>\n",
       "      <th>Phylum</th>\n",
       "      <td>0.210309</td>\n",
       "      <td>0.210309</td>\n",
       "      <td>0.210309</td>\n",
       "      <td>0.210309</td>\n",
       "      <td>0.210309</td>\n",
       "      <td>0.210309</td>\n",
       "    </tr>\n",
       "    <tr>\n",
       "      <th>Order</th>\n",
       "      <td>0.206648</td>\n",
       "      <td>0.206648</td>\n",
       "      <td>0.206648</td>\n",
       "      <td>0.206648</td>\n",
       "      <td>0.206648</td>\n",
       "      <td>0.206648</td>\n",
       "    </tr>\n",
       "    <tr>\n",
       "      <th>Class</th>\n",
       "      <td>0.068636</td>\n",
       "      <td>0.068636</td>\n",
       "      <td>0.068636</td>\n",
       "      <td>0.068636</td>\n",
       "      <td>0.068636</td>\n",
       "      <td>0.068636</td>\n",
       "    </tr>\n",
       "    <tr>\n",
       "      <th>Family</th>\n",
       "      <td>0.066607</td>\n",
       "      <td>0.066607</td>\n",
       "      <td>0.066607</td>\n",
       "      <td>0.066607</td>\n",
       "      <td>0.066607</td>\n",
       "      <td>0.066607</td>\n",
       "    </tr>\n",
       "    <tr>\n",
       "      <th>Genus</th>\n",
       "      <td>0.064905</td>\n",
       "      <td>0.064905</td>\n",
       "      <td>0.064905</td>\n",
       "      <td>0.064905</td>\n",
       "      <td>0.064905</td>\n",
       "      <td>0.064905</td>\n",
       "    </tr>\n",
       "    <tr>\n",
       "      <th>Species</th>\n",
       "      <td>0.062287</td>\n",
       "      <td>0.062287</td>\n",
       "      <td>0.062287</td>\n",
       "      <td>0.062287</td>\n",
       "      <td>0.062287</td>\n",
       "      <td>0.062287</td>\n",
       "    </tr>\n",
       "  </tbody>\n",
       "</table>\n",
       "</div>"
      ],
      "text/plain": [
       "               25        50        75       100       125  full_HVR\n",
       "Phylum   0.210309  0.210309  0.210309  0.210309  0.210309  0.210309\n",
       "Order    0.206648  0.206648  0.206648  0.206648  0.206648  0.206648\n",
       "Class    0.068636  0.068636  0.068636  0.068636  0.068636  0.068636\n",
       "Family   0.066607  0.066607  0.066607  0.066607  0.066607  0.066607\n",
       "Genus    0.064905  0.064905  0.064905  0.064905  0.064905  0.064905\n",
       "Species  0.062287  0.062287  0.062287  0.062287  0.062287  0.062287"
      ]
     },
     "execution_count": 40,
     "metadata": {
      "tags": []
     },
     "output_type": "execute_result"
    }
   ],
   "source": [
    "m.load_weights('./PCR_SILVA_all/W2V/ResNet_like_N_No_W2V.hdfs')\n",
    "evaluate_multioutput_on_different_length(model=m, lengths=[25,50,75,100,125,'full_HVR'],data=test,\n",
    "                                         batch_size=250,save_path='./PCR_SILVA_all/ResNet_like_N_No_W2V.csv')"
   ]
  },
  {
   "cell_type": "markdown",
   "metadata": {
    "colab_type": "text",
    "id": "khoveJrEkwMD"
   },
   "source": [
    "### MLP models evaluation"
   ]
  },
  {
   "cell_type": "code",
   "execution_count": 0,
   "metadata": {
    "colab": {
     "base_uri": "https://localhost:8080/",
     "height": 246
    },
    "colab_type": "code",
    "collapsed": false,
    "id": "94sknBAUPZHp",
    "outputId": "ee109729-66b6-4c68-81e5-c7be809009d5"
   },
   "outputs": [
    {
     "name": "stdout",
     "output_type": "stream",
     "text": [
      "174500/174500 [==============================] - 18s 102us/step\n"
     ]
    },
    {
     "data": {
      "text/html": [
       "<div>\n",
       "<style scoped>\n",
       "    .dataframe tbody tr th:only-of-type {\n",
       "        vertical-align: middle;\n",
       "    }\n",
       "\n",
       "    .dataframe tbody tr th {\n",
       "        vertical-align: top;\n",
       "    }\n",
       "\n",
       "    .dataframe thead th {\n",
       "        text-align: right;\n",
       "    }\n",
       "</style>\n",
       "<table border=\"1\" class=\"dataframe\">\n",
       "  <thead>\n",
       "    <tr style=\"text-align: right;\">\n",
       "      <th></th>\n",
       "      <th>25</th>\n",
       "      <th>50</th>\n",
       "      <th>75</th>\n",
       "      <th>100</th>\n",
       "      <th>125</th>\n",
       "      <th>full_HVR</th>\n",
       "    </tr>\n",
       "  </thead>\n",
       "  <tbody>\n",
       "    <tr>\n",
       "      <th>Phylum</th>\n",
       "      <td>0.400178</td>\n",
       "      <td>0.400178</td>\n",
       "      <td>0.400178</td>\n",
       "      <td>0.400178</td>\n",
       "      <td>0.400178</td>\n",
       "      <td>0.400178</td>\n",
       "    </tr>\n",
       "    <tr>\n",
       "      <th>Order</th>\n",
       "      <td>0.302023</td>\n",
       "      <td>0.302023</td>\n",
       "      <td>0.302023</td>\n",
       "      <td>0.302023</td>\n",
       "      <td>0.302023</td>\n",
       "      <td>0.302023</td>\n",
       "    </tr>\n",
       "    <tr>\n",
       "      <th>Class</th>\n",
       "      <td>0.203181</td>\n",
       "      <td>0.203181</td>\n",
       "      <td>0.203181</td>\n",
       "      <td>0.203181</td>\n",
       "      <td>0.203181</td>\n",
       "      <td>0.203181</td>\n",
       "    </tr>\n",
       "    <tr>\n",
       "      <th>Family</th>\n",
       "      <td>0.136946</td>\n",
       "      <td>0.136946</td>\n",
       "      <td>0.136946</td>\n",
       "      <td>0.136946</td>\n",
       "      <td>0.136946</td>\n",
       "      <td>0.136946</td>\n",
       "    </tr>\n",
       "    <tr>\n",
       "      <th>Genus</th>\n",
       "      <td>0.135622</td>\n",
       "      <td>0.135622</td>\n",
       "      <td>0.135622</td>\n",
       "      <td>0.135622</td>\n",
       "      <td>0.135622</td>\n",
       "      <td>0.135622</td>\n",
       "    </tr>\n",
       "    <tr>\n",
       "      <th>Species</th>\n",
       "      <td>0.122034</td>\n",
       "      <td>0.122034</td>\n",
       "      <td>0.122034</td>\n",
       "      <td>0.122034</td>\n",
       "      <td>0.122034</td>\n",
       "      <td>0.122034</td>\n",
       "    </tr>\n",
       "  </tbody>\n",
       "</table>\n",
       "</div>"
      ],
      "text/plain": [
       "               25        50        75       100       125  full_HVR\n",
       "Phylum   0.400178  0.400178  0.400178  0.400178  0.400178  0.400178\n",
       "Order    0.302023  0.302023  0.302023  0.302023  0.302023  0.302023\n",
       "Class    0.203181  0.203181  0.203181  0.203181  0.203181  0.203181\n",
       "Family   0.136946  0.136946  0.136946  0.136946  0.136946  0.136946\n",
       "Genus    0.135622  0.135622  0.135622  0.135622  0.135622  0.135622\n",
       "Species  0.122034  0.122034  0.122034  0.122034  0.122034  0.122034"
      ]
     },
     "execution_count": 47,
     "metadata": {
      "tags": []
     },
     "output_type": "execute_result"
    }
   ],
   "source": [
    "#MLP_no_W2V_no_kmer_len50\n",
    "test  = pd.read_pickle('PCR_SILVA_all/data/V2_test.pkl')\n",
    "test  = test.sample(frac=1).reset_index(drop=True)\n",
    "test  = test.drop(columns=['Complete_species','ambiguity_count'])\n",
    "\n",
    "m.load_weights('./PCR_SILVA_all/W2V/MLP_no_W2V_no_kmer_len50.hdfs')\n",
    "evaluate_multioutput_on_different_length(model=m, lengths=[25,50,75,100,125,'full_HVR'],data=test,\n",
    "                                         batch_size=250,save_path='./PCR_SILVA_all/MLP/MLP_no_W2V_no_kmer_len50.csv')"
   ]
  },
  {
   "cell_type": "code",
   "execution_count": 0,
   "metadata": {
    "colab": {
     "base_uri": "https://localhost:8080/",
     "height": 246
    },
    "colab_type": "code",
    "collapsed": false,
    "id": "l3P2jKMUqY-N",
    "outputId": "5678dc63-cdc8-48e0-c4e1-1637dd8540de"
   },
   "outputs": [
    {
     "name": "stdout",
     "output_type": "stream",
     "text": [
      "174500/174500 [==============================] - 18s 102us/step\n"
     ]
    },
    {
     "data": {
      "text/html": [
       "<div>\n",
       "<style scoped>\n",
       "    .dataframe tbody tr th:only-of-type {\n",
       "        vertical-align: middle;\n",
       "    }\n",
       "\n",
       "    .dataframe tbody tr th {\n",
       "        vertical-align: top;\n",
       "    }\n",
       "\n",
       "    .dataframe thead th {\n",
       "        text-align: right;\n",
       "    }\n",
       "</style>\n",
       "<table border=\"1\" class=\"dataframe\">\n",
       "  <thead>\n",
       "    <tr style=\"text-align: right;\">\n",
       "      <th></th>\n",
       "      <th>25</th>\n",
       "      <th>50</th>\n",
       "      <th>75</th>\n",
       "      <th>100</th>\n",
       "      <th>125</th>\n",
       "      <th>full_HVR</th>\n",
       "    </tr>\n",
       "  </thead>\n",
       "  <tbody>\n",
       "    <tr>\n",
       "      <th>Phylum</th>\n",
       "      <td>0.896963</td>\n",
       "      <td>0.984149</td>\n",
       "      <td>0.994521</td>\n",
       "      <td>0.996705</td>\n",
       "      <td>0.997691</td>\n",
       "      <td>0.998269</td>\n",
       "    </tr>\n",
       "    <tr>\n",
       "      <th>Order</th>\n",
       "      <td>0.876080</td>\n",
       "      <td>0.977593</td>\n",
       "      <td>0.992378</td>\n",
       "      <td>0.995748</td>\n",
       "      <td>0.997072</td>\n",
       "      <td>0.997725</td>\n",
       "    </tr>\n",
       "    <tr>\n",
       "      <th>Class</th>\n",
       "      <td>0.787954</td>\n",
       "      <td>0.951364</td>\n",
       "      <td>0.980327</td>\n",
       "      <td>0.988544</td>\n",
       "      <td>0.993037</td>\n",
       "      <td>0.994831</td>\n",
       "    </tr>\n",
       "    <tr>\n",
       "      <th>Family</th>\n",
       "      <td>0.747484</td>\n",
       "      <td>0.928487</td>\n",
       "      <td>0.969989</td>\n",
       "      <td>0.982499</td>\n",
       "      <td>0.989066</td>\n",
       "      <td>0.991897</td>\n",
       "    </tr>\n",
       "    <tr>\n",
       "      <th>Genus</th>\n",
       "      <td>0.606195</td>\n",
       "      <td>0.825330</td>\n",
       "      <td>0.899817</td>\n",
       "      <td>0.931364</td>\n",
       "      <td>0.951794</td>\n",
       "      <td>0.962315</td>\n",
       "    </tr>\n",
       "    <tr>\n",
       "      <th>Species</th>\n",
       "      <td>0.464779</td>\n",
       "      <td>0.622900</td>\n",
       "      <td>0.683696</td>\n",
       "      <td>0.715043</td>\n",
       "      <td>0.736206</td>\n",
       "      <td>0.749238</td>\n",
       "    </tr>\n",
       "  </tbody>\n",
       "</table>\n",
       "</div>"
      ],
      "text/plain": [
       "               25        50        75       100       125  full_HVR\n",
       "Phylum   0.896963  0.984149  0.994521  0.996705  0.997691  0.998269\n",
       "Order    0.876080  0.977593  0.992378  0.995748  0.997072  0.997725\n",
       "Class    0.787954  0.951364  0.980327  0.988544  0.993037  0.994831\n",
       "Family   0.747484  0.928487  0.969989  0.982499  0.989066  0.991897\n",
       "Genus    0.606195  0.825330  0.899817  0.931364  0.951794  0.962315\n",
       "Species  0.464779  0.622900  0.683696  0.715043  0.736206  0.749238"
      ]
     },
     "execution_count": 29,
     "metadata": {
      "tags": []
     },
     "output_type": "execute_result"
    }
   ],
   "source": [
    "#MLP_no_W2V_len50\n",
    "m.load_weights('./PCR_SILVA_all/W2V/MLP_no_W2V_len50.hdfs')\n",
    "evaluate_multioutput_on_different_length(model=m, lengths=[25,50,75,100,125,'full_HVR'],data=test,\n",
    "                                         batch_size=250,save_path='./PCR_SILVA_all/MLP/MLP_no_W2V_len50.csv')"
   ]
  },
  {
   "cell_type": "code",
   "execution_count": 0,
   "metadata": {
    "colab": {
     "base_uri": "https://localhost:8080/",
     "height": 246
    },
    "colab_type": "code",
    "collapsed": false,
    "id": "KRUjlQegGDIj",
    "outputId": "caec6545-52ef-46ae-a605-716987a98e00"
   },
   "outputs": [
    {
     "name": "stdout",
     "output_type": "stream",
     "text": [
      "174500/174500 [==============================] - 18s 103us/step\n"
     ]
    },
    {
     "data": {
      "text/html": [
       "<div>\n",
       "<style scoped>\n",
       "    .dataframe tbody tr th:only-of-type {\n",
       "        vertical-align: middle;\n",
       "    }\n",
       "\n",
       "    .dataframe tbody tr th {\n",
       "        vertical-align: top;\n",
       "    }\n",
       "\n",
       "    .dataframe thead th {\n",
       "        text-align: right;\n",
       "    }\n",
       "</style>\n",
       "<table border=\"1\" class=\"dataframe\">\n",
       "  <thead>\n",
       "    <tr style=\"text-align: right;\">\n",
       "      <th></th>\n",
       "      <th>25</th>\n",
       "      <th>50</th>\n",
       "      <th>75</th>\n",
       "      <th>100</th>\n",
       "      <th>125</th>\n",
       "      <th>full_HVR</th>\n",
       "    </tr>\n",
       "  </thead>\n",
       "  <tbody>\n",
       "    <tr>\n",
       "      <th>Phylum</th>\n",
       "      <td>0.896888</td>\n",
       "      <td>0.983496</td>\n",
       "      <td>0.993845</td>\n",
       "      <td>0.996321</td>\n",
       "      <td>0.997324</td>\n",
       "      <td>0.997776</td>\n",
       "    </tr>\n",
       "    <tr>\n",
       "      <th>Order</th>\n",
       "      <td>0.861782</td>\n",
       "      <td>0.975742</td>\n",
       "      <td>0.991358</td>\n",
       "      <td>0.995266</td>\n",
       "      <td>0.996762</td>\n",
       "      <td>0.997610</td>\n",
       "    </tr>\n",
       "    <tr>\n",
       "      <th>Class</th>\n",
       "      <td>0.774223</td>\n",
       "      <td>0.946716</td>\n",
       "      <td>0.978688</td>\n",
       "      <td>0.987284</td>\n",
       "      <td>0.992676</td>\n",
       "      <td>0.994424</td>\n",
       "    </tr>\n",
       "    <tr>\n",
       "      <th>Family</th>\n",
       "      <td>0.726321</td>\n",
       "      <td>0.922229</td>\n",
       "      <td>0.966252</td>\n",
       "      <td>0.980688</td>\n",
       "      <td>0.988011</td>\n",
       "      <td>0.991123</td>\n",
       "    </tr>\n",
       "    <tr>\n",
       "      <th>Genus</th>\n",
       "      <td>0.587977</td>\n",
       "      <td>0.818126</td>\n",
       "      <td>0.894327</td>\n",
       "      <td>0.929616</td>\n",
       "      <td>0.949925</td>\n",
       "      <td>0.961811</td>\n",
       "    </tr>\n",
       "    <tr>\n",
       "      <th>Species</th>\n",
       "      <td>0.452923</td>\n",
       "      <td>0.617014</td>\n",
       "      <td>0.677914</td>\n",
       "      <td>0.709633</td>\n",
       "      <td>0.728138</td>\n",
       "      <td>0.741203</td>\n",
       "    </tr>\n",
       "  </tbody>\n",
       "</table>\n",
       "</div>"
      ],
      "text/plain": [
       "               25        50        75       100       125  full_HVR\n",
       "Phylum   0.896888  0.983496  0.993845  0.996321  0.997324  0.997776\n",
       "Order    0.861782  0.975742  0.991358  0.995266  0.996762  0.997610\n",
       "Class    0.774223  0.946716  0.978688  0.987284  0.992676  0.994424\n",
       "Family   0.726321  0.922229  0.966252  0.980688  0.988011  0.991123\n",
       "Genus    0.587977  0.818126  0.894327  0.929616  0.949925  0.961811\n",
       "Species  0.452923  0.617014  0.677914  0.709633  0.728138  0.741203"
      ]
     },
     "execution_count": 34,
     "metadata": {
      "tags": []
     },
     "output_type": "execute_result"
    }
   ],
   "source": [
    "#MLP_no_W2V_len50_fresh\n",
    "m.load_weights('./PCR_SILVA_all/W2V/MLP_no_W2V_len50_fresh.hdfs')\n",
    "evaluate_multioutput_on_different_length(model=m, lengths=[25,50,75,100,125,'full_HVR'],data=test,\n",
    "                                         batch_size=250,save_path='./PCR_SILVA_all/MLP/MLP_no_W2V_len50_fresh.csv')"
   ]
  },
  {
   "cell_type": "code",
   "execution_count": 0,
   "metadata": {
    "colab": {
     "base_uri": "https://localhost:8080/",
     "height": 246
    },
    "colab_type": "code",
    "collapsed": false,
    "id": "ho0OYHNbqnGs",
    "outputId": "74065295-cb82-467c-deb7-c93ef3a11ec2"
   },
   "outputs": [
    {
     "name": "stdout",
     "output_type": "stream",
     "text": [
      "174500/174500 [==============================] - 17s 98us/step\n"
     ]
    },
    {
     "data": {
      "text/html": [
       "<div>\n",
       "<style scoped>\n",
       "    .dataframe tbody tr th:only-of-type {\n",
       "        vertical-align: middle;\n",
       "    }\n",
       "\n",
       "    .dataframe tbody tr th {\n",
       "        vertical-align: top;\n",
       "    }\n",
       "\n",
       "    .dataframe thead th {\n",
       "        text-align: right;\n",
       "    }\n",
       "</style>\n",
       "<table border=\"1\" class=\"dataframe\">\n",
       "  <thead>\n",
       "    <tr style=\"text-align: right;\">\n",
       "      <th></th>\n",
       "      <th>25</th>\n",
       "      <th>50</th>\n",
       "      <th>75</th>\n",
       "      <th>100</th>\n",
       "      <th>125</th>\n",
       "      <th>full_HVR</th>\n",
       "    </tr>\n",
       "  </thead>\n",
       "  <tbody>\n",
       "    <tr>\n",
       "      <th>Phylum</th>\n",
       "      <td>0.872481</td>\n",
       "      <td>0.981536</td>\n",
       "      <td>0.993140</td>\n",
       "      <td>0.996143</td>\n",
       "      <td>0.997490</td>\n",
       "      <td>0.998384</td>\n",
       "    </tr>\n",
       "    <tr>\n",
       "      <th>Order</th>\n",
       "      <td>0.856745</td>\n",
       "      <td>0.973857</td>\n",
       "      <td>0.990493</td>\n",
       "      <td>0.995100</td>\n",
       "      <td>0.996974</td>\n",
       "      <td>0.997794</td>\n",
       "    </tr>\n",
       "    <tr>\n",
       "      <th>Class</th>\n",
       "      <td>0.778241</td>\n",
       "      <td>0.945731</td>\n",
       "      <td>0.977335</td>\n",
       "      <td>0.987077</td>\n",
       "      <td>0.992625</td>\n",
       "      <td>0.994739</td>\n",
       "    </tr>\n",
       "    <tr>\n",
       "      <th>Family</th>\n",
       "      <td>0.730670</td>\n",
       "      <td>0.923456</td>\n",
       "      <td>0.967203</td>\n",
       "      <td>0.981186</td>\n",
       "      <td>0.988562</td>\n",
       "      <td>0.991891</td>\n",
       "    </tr>\n",
       "    <tr>\n",
       "      <th>Genus</th>\n",
       "      <td>0.606470</td>\n",
       "      <td>0.821341</td>\n",
       "      <td>0.897037</td>\n",
       "      <td>0.929438</td>\n",
       "      <td>0.950246</td>\n",
       "      <td>0.962625</td>\n",
       "    </tr>\n",
       "    <tr>\n",
       "      <th>Species</th>\n",
       "      <td>0.460160</td>\n",
       "      <td>0.620017</td>\n",
       "      <td>0.683324</td>\n",
       "      <td>0.712292</td>\n",
       "      <td>0.733209</td>\n",
       "      <td>0.747077</td>\n",
       "    </tr>\n",
       "  </tbody>\n",
       "</table>\n",
       "</div>"
      ],
      "text/plain": [
       "               25        50        75       100       125  full_HVR\n",
       "Phylum   0.872481  0.981536  0.993140  0.996143  0.997490  0.998384\n",
       "Order    0.856745  0.973857  0.990493  0.995100  0.996974  0.997794\n",
       "Class    0.778241  0.945731  0.977335  0.987077  0.992625  0.994739\n",
       "Family   0.730670  0.923456  0.967203  0.981186  0.988562  0.991891\n",
       "Genus    0.606470  0.821341  0.897037  0.929438  0.950246  0.962625\n",
       "Species  0.460160  0.620017  0.683324  0.712292  0.733209  0.747077"
      ]
     },
     "execution_count": 61,
     "metadata": {
      "tags": []
     },
     "output_type": "execute_result"
    }
   ],
   "source": [
    "# MLP_W2V_len50\n",
    "m.load_weights('./PCR_SILVA_all/W2V/MLP_W2V_len50.hdfs')\n",
    "evaluate_multioutput_on_different_length(model=m, lengths=[25,50,75,100,125,'full_HVR'],data=test,\n",
    "                                         batch_size=250,save_path='./PCR_SILVA_all/MLP/MLP_W2V_len50.csv')"
   ]
  }
 ],
 "metadata": {
  "accelerator": "GPU",
  "colab": {
   "collapsed_sections": [
    "23yXOQQ7K6y5",
    "i1lVGjp-xUP-",
    "6DjYSd-HxUQs",
    "LCP_A6dSMQCk",
    "Un4XJjf0xURn",
    "QQ06THCRNY12",
    "aDZZ0tm6dc6o",
    "pN-jm9xMxd-1",
    "DLy8_yFupmFF",
    "3DVAUgt5Y33P",
    "xyTUOixfLi6j",
    "_FF7f-UbRhcp",
    "NFTlc39ypjxg",
    "D9QOaOEKcfiS",
    "Vf0izT6eTdzK",
    "azVCkWBK-Z1X",
    "-SQ1Mc2suwIw",
    "FgYlbvgpCll9",
    "17szAPM30UXj",
    "6t9cfBRA_Eho",
    "JAk7EK33_K23",
    "w2R2Kb9OKvef",
    "OLMwWKus15se",
    "UpKRaXIbc5mv",
    "a6yXRhKhIdK_",
    "kbdW79VCnRf0",
    "6Es43BpDjoTt",
    "2hZO8iNbKbdn",
    "3V-ZRkQXOjjF",
    "C1_z88o7aK4L",
    "FK0Bx23YUmuH",
    "Zph5InYMxUS2",
    "i47zBGRCO7yZ",
    "NGyeZieVlJxX",
    "-uAfLe9pRnXN",
    "O1FLHVNzOG_s",
    "tFPjGE33OSB4",
    "9IAygbAUvJ2M",
    "bVLnEQVxTAiY",
    "Eku9LA-PQEwK",
    "d3idfym_sPi1",
    "B5IqrAa-lUuK",
    "SHcOSIwd6kBt",
    "XHUXLnitQ3AZ",
    "FoCVlLsiKEn_",
    "F3w_gvzA9-3x",
    "R7YX-Qo18yhp",
    "eW_hWaLqxUSG",
    "d43AaZXhxUSR",
    "NtfvtdWGxUSm",
    "yj83qkeJxUTL",
    "wRuqaDBjxUTP",
    "AwcscEzXxUTe",
    "u91cLAMPNuzk",
    "xOZYN3EZxUUP",
    "VTCnENjMxUUX"
   ],
   "name": "Species_MLP_V2_final.ipynb",
   "provenance": [],
   "version": "0.3.2"
  },
  "kernelspec": {
   "display_name": "Python 3",
   "language": "python",
   "name": "python3"
  },
  "language_info": {
   "codemirror_mode": {
    "name": "ipython",
    "version": 3
   },
   "file_extension": ".py",
   "mimetype": "text/x-python",
   "name": "python",
   "nbconvert_exporter": "python",
   "pygments_lexer": "ipython3",
   "version": "3.6.0"
  }
 },
 "nbformat": 4,
 "nbformat_minor": 0
}
